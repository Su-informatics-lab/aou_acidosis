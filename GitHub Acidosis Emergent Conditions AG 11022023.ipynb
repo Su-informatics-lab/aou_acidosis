{
 "cells": [
  {
   "cell_type": "markdown",
   "metadata": {},
   "source": [
    "# Set Up"
   ]
  },
  {
   "cell_type": "code",
   "execution_count": null,
   "metadata": {},
   "outputs": [],
   "source": [
    "library(tidyverse)\n",
    "library(fst)\n",
    "library(bigrquery)\n",
    "library(stringr)\n",
    "library(lubridate)"
   ]
  },
  {
   "cell_type": "code",
   "execution_count": null,
   "metadata": {},
   "outputs": [],
   "source": [
    "# This snippet assumes that you run setup first\n",
    "\n",
    "# This code copies a file from your Google Bucket into a dataframe\n",
    "\n",
    " \n",
    "\n",
    "# replace 'test.csv' with the name of the file in your google bucket (don't delete the quotation marks)\n",
    "name_of_file_in_bucket <- 'Acidosis_Visit_Occurrence_AG_10162023.csv'\n",
    "\n",
    " \n",
    "\n",
    "########################################################################\n",
    "##\n",
    "################# DON'T CHANGE FROM HERE ###############################\n",
    "##\n",
    "########################################################################\n",
    "\n",
    " \n",
    "\n",
    "# Get the bucket name\n",
    "my_bucket <- Sys.getenv('WORKSPACE_BUCKET')\n",
    "\n",
    " \n",
    "\n",
    "# Copy the file from current workspace to the bucket\n",
    "system(paste0(\"gsutil cp \", my_bucket, \"/data/\", name_of_file_in_bucket, \" .\"), intern=T)\n",
    "\n",
    " \n",
    "\n",
    "# Load the file into a dataframe\n",
    "acidosis_df  <- read_csv(name_of_file_in_bucket)\n",
    "head(acidosis_df)"
   ]
  },
  {
   "cell_type": "code",
   "execution_count": null,
   "metadata": {},
   "outputs": [],
   "source": [
    "dim(acidosis_df)\n",
    "length(unique(acidosis_df$PERSON_ID))"
   ]
  },
  {
   "cell_type": "markdown",
   "metadata": {},
   "source": [
    "# Prepare Case Cohort"
   ]
  },
  {
   "cell_type": "code",
   "execution_count": null,
   "metadata": {},
   "outputs": [],
   "source": [
    "# Create new dataframe in which only emergent visit types are present\n",
    "\n",
    "# Define the values to match \n",
    "emergent.conditions <- c(\"Emergency Room Visit\", \"Emergency Room and Inpatient Visit\", \"Inpatient Visit\", \"Inpatient Hospital\", \"Urgent Care Facility\") \n",
    "# Select rows matching the values \n",
    "acidosis.emergent <- acidosis_df[acidosis_df$STANDARD_CONCEPT_NAME %in% emergent.conditions, ]\n",
    "acidosis.emergent"
   ]
  },
  {
   "cell_type": "code",
   "execution_count": null,
   "metadata": {},
   "outputs": [],
   "source": [
    "# Edit dataframe so that only the first emergent visit for each patient is present\n",
    "\n",
    "length(unique(acidosis.emergent$PERSON_ID))"
   ]
  },
  {
   "cell_type": "code",
   "execution_count": null,
   "metadata": {},
   "outputs": [],
   "source": [
    "# Edit dataframe so that only the first emergent visit for each patient is present\n",
    "\n",
    "# Only include first visit for acidosis per patient\n",
    "acidosis.emergent <- acidosis.emergent %>% \n",
    "group_by(PERSON_ID) %>% \n",
    "arrange(VISIT_START_DATETIME) %>% \n",
    "slice(1)\n",
    "\n",
    "acidosis.emergent\n",
    "dim(acidosis.emergent)"
   ]
  },
  {
   "cell_type": "code",
   "execution_count": null,
   "metadata": {},
   "outputs": [],
   "source": [
    "# This snippet assumes that you run setup first\n",
    "\n",
    "# This code saves your dataframe into a csv file in a \"data\" folder in Google Bucket\n",
    "\n",
    "# Replace df with THE NAME OF YOUR DATAFRAME\n",
    "my_dataframe <- acidosis.emergent\n",
    "\n",
    "# Replace 'test.csv' with THE NAME of the file you're going to store in the bucket (don't delete the quotation marks)\n",
    "destination_filename <- 'acidosis_emergent_conditions_AG_10172023.csv'\n",
    "\n",
    "########################################################################\n",
    "##\n",
    "################# DON'T CHANGE FROM HERE ###############################\n",
    "##\n",
    "########################################################################\n",
    "\n",
    "# store the dataframe in current workspace\n",
    "write_excel_csv(my_dataframe, destination_filename)\n",
    "\n",
    "# Get the bucket name\n",
    "my_bucket <- Sys.getenv('WORKSPACE_BUCKET')\n",
    "\n",
    "# Copy the file from current workspace to the bucket\n",
    "system(paste0(\"gsutil cp ./\", destination_filename, \" \", my_bucket, \"/data/\"), intern=T)\n",
    "\n",
    "# Check if file is in the bucket\n",
    "system(paste0(\"gsutil ls \", my_bucket, \"/data/*.csv\"), intern=T)"
   ]
  },
  {
   "cell_type": "code",
   "execution_count": null,
   "metadata": {},
   "outputs": [],
   "source": [
    "### TAKE OUT THE PATIENTS THAT DON'T FIT IN THE INCLUSION / EXCLUSION CRITERIA "
   ]
  },
  {
   "cell_type": "code",
   "execution_count": null,
   "metadata": {},
   "outputs": [],
   "source": [
    "# This snippet assumes that you run setup first\n",
    "\n",
    "# This code copies a file from your Google Bucket into a dataframe\n",
    "\n",
    " \n",
    "\n",
    "# replace 'test.csv' with the name of the file in your google bucket (don't delete the quotation marks)\n",
    "name_of_file_in_bucket <- 'acidosis_exclusion_cohort_pid_AG_11022023.csv'\n",
    "\n",
    " \n",
    "\n",
    "########################################################################\n",
    "##\n",
    "################# DON'T CHANGE FROM HERE ###############################\n",
    "##\n",
    "########################################################################\n",
    "\n",
    " \n",
    "\n",
    "# Get the bucket name\n",
    "my_bucket <- Sys.getenv('WORKSPACE_BUCKET')\n",
    "\n",
    " \n",
    "\n",
    "# Copy the file from current workspace to the bucket\n",
    "system(paste0(\"gsutil cp \", my_bucket, \"/data/\", name_of_file_in_bucket, \" .\"), intern=T)\n",
    "\n",
    " \n",
    "\n",
    "# Load the file into a dataframe\n",
    "acidosis_exclusion_cohort  <- read_csv(name_of_file_in_bucket)\n",
    "head(acidosis_exclusion_cohort)"
   ]
  },
  {
   "cell_type": "code",
   "execution_count": null,
   "metadata": {},
   "outputs": [],
   "source": [
    "library(dplyr)"
   ]
  },
  {
   "cell_type": "code",
   "execution_count": null,
   "metadata": {},
   "outputs": [],
   "source": [
    "# Change PERSON_ID -> person_id so that it matches with emergent dataframe\n",
    "acidosis_exclusion_cohort <- acidosis_exclusion_cohort %>% \n",
    "       rename(PERSON_ID = person_id)\n",
    "head(acidosis_exclusion_cohort)"
   ]
  },
  {
   "cell_type": "code",
   "execution_count": null,
   "metadata": {},
   "outputs": [],
   "source": [
    "emergent_og_pid <- select(acidosis.emergent, c('PERSON_ID'))\n",
    "head(emergent_og_pid)"
   ]
  },
  {
   "cell_type": "code",
   "execution_count": null,
   "metadata": {},
   "outputs": [],
   "source": [
    "# Find the PIDs that overlap between the acidosis exclusion cohort participants and the \n",
    "# emergent acidosis cases participants (# should be less than 2028)\n",
    "intersect1 <- dplyr::intersect(emergent_og_pid, acidosis_exclusion_cohort)\n",
    "dim(intersect1)"
   ]
  },
  {
   "cell_type": "code",
   "execution_count": null,
   "metadata": {},
   "outputs": [],
   "source": [
    "head(intersect1)"
   ]
  },
  {
   "cell_type": "code",
   "execution_count": null,
   "metadata": {},
   "outputs": [],
   "source": [
    "# This means that the emergent visit acidosis cohort should have 2,676 participants"
   ]
  },
  {
   "cell_type": "code",
   "execution_count": null,
   "metadata": {},
   "outputs": [],
   "source": [
    "# Create new dataframe for emergent visists that only contains the 1,731\n",
    "acidosis_emergent <- merge(intersect1, acidosis.emergent, by=\"PERSON_ID\", all.x = TRUE)\n",
    "head(acidosis_emergent)\n",
    "dim(acidosis_emergent)"
   ]
  },
  {
   "cell_type": "code",
   "execution_count": null,
   "metadata": {},
   "outputs": [],
   "source": [
    "# Save file as csv with acidosis emergent data"
   ]
  },
  {
   "cell_type": "code",
   "execution_count": null,
   "metadata": {},
   "outputs": [],
   "source": [
    "# This snippet assumes that you run setup first\n",
    "\n",
    "# This code saves your dataframe into a csv file in a \"data\" folder in Google Bucket\n",
    "\n",
    "# Replace df with THE NAME OF YOUR DATAFRAME\n",
    "my_dataframe <- acidosis_emergent\n",
    "\n",
    "# Replace 'test.csv' with THE NAME of the file you're going to store in the bucket (don't delete the quotation marks)\n",
    "destination_filename <- 'acidosis_emergent_final_cohort_AG_11022023.csv'\n",
    "\n",
    "########################################################################\n",
    "##\n",
    "################# DON'T CHANGE FROM HERE ###############################\n",
    "##\n",
    "########################################################################\n",
    "\n",
    "# store the dataframe in current workspace\n",
    "write_excel_csv(my_dataframe, destination_filename)\n",
    "\n",
    "# Get the bucket name\n",
    "my_bucket <- Sys.getenv('WORKSPACE_BUCKET')\n",
    "\n",
    "# Copy the file from current workspace to the bucket\n",
    "system(paste0(\"gsutil cp ./\", destination_filename, \" \", my_bucket, \"/data/\"), intern=T)\n",
    "\n",
    "# Check if file is in the bucket\n",
    "system(paste0(\"gsutil ls \", my_bucket, \"/data/*.csv\"), intern=T)"
   ]
  },
  {
   "cell_type": "markdown",
   "metadata": {},
   "source": [
    "# Demographics"
   ]
  },
  {
   "cell_type": "code",
   "execution_count": null,
   "metadata": {},
   "outputs": [],
   "source": [
    "# Demographics of Acidosis Emergent Conditions + Inclusion/Exclusion Criteria"
   ]
  },
  {
   "cell_type": "code",
   "execution_count": null,
   "metadata": {},
   "outputs": [],
   "source": [
    "# This snippet assumes that you run setup first\n",
    "\n",
    "# This code copies a file from your Google Bucket into a dataframe\n",
    "\n",
    "# replace 'test.csv' with the name of the file in your google bucket (don't delete the quotation marks)\n",
    "name_of_file_in_bucket <- 'acidosis_emergent_final_cohort_AG_11022023.csv'\n",
    "\n",
    "########################################################################\n",
    "##\n",
    "################# DON'T CHANGE FROM HERE ###############################\n",
    "##\n",
    "########################################################################\n",
    "\n",
    "# Get the bucket name\n",
    "my_bucket <- Sys.getenv('WORKSPACE_BUCKET')\n",
    "\n",
    "# Copy the file from current workspace to the bucket\n",
    "system(paste0(\"gsutil cp \", my_bucket, \"/data/\", name_of_file_in_bucket, \" .\"), intern=T)\n",
    "\n",
    "# Load the file into a dataframe\n",
    "acidosis.emergent  <- read_csv(name_of_file_in_bucket)\n",
    "head(acidosis.emergent)"
   ]
  },
  {
   "cell_type": "markdown",
   "metadata": {},
   "source": [
    "## Age, Sex at Birth, Race"
   ]
  },
  {
   "cell_type": "code",
   "execution_count": null,
   "metadata": {},
   "outputs": [],
   "source": [
    "# This snippet assumes that you run setup first\n",
    "\n",
    " \n",
    "\n",
    "# This code copies a file from your Google Bucket into a dataframe\n",
    "\n",
    " \n",
    "\n",
    "# replace 'test.csv' with the name of the file in your google bucket (don't delete the quotation marks)\n",
    "name_of_file_in_bucket <- 'demographic_all.csv'\n",
    "\n",
    " \n",
    "\n",
    "########################################################################\n",
    "##\n",
    "################# DON'T CHANGE FROM HERE ###############################\n",
    "##\n",
    "########################################################################\n",
    "\n",
    " \n",
    "\n",
    "# Get the bucket name\n",
    "my_bucket <- Sys.getenv('WORKSPACE_BUCKET')\n",
    "\n",
    " \n",
    "\n",
    "# Copy the file from current workspace to the bucket\n",
    "system(paste0(\"gsutil cp \", my_bucket, \"/data/\", name_of_file_in_bucket, \" .\"), intern=T)\n",
    "\n",
    " \n",
    "\n",
    "# Load the file into a dataframe\n",
    "my_dataframe  <- read_csv(name_of_file_in_bucket)\n",
    "head(my_dataframe)"
   ]
  },
  {
   "cell_type": "code",
   "execution_count": null,
   "metadata": {},
   "outputs": [],
   "source": [
    "demo <- my_dataframe %>% \n",
    "       rename(PERSON_ID = person_id)\n",
    "head(demo)"
   ]
  },
  {
   "cell_type": "code",
   "execution_count": null,
   "metadata": {},
   "outputs": [],
   "source": [
    "# Merge acidosis.emergent dataframe with demographic dataframe \n",
    "merged_cohort <- merge(acidosis.emergent, demo, by=\"PERSON_ID\", all.x = TRUE)\n",
    "head(merged_cohort)\n",
    "dim(merged_cohort)"
   ]
  },
  {
   "cell_type": "code",
   "execution_count": null,
   "metadata": {},
   "outputs": [],
   "source": [
    "# Clean demographic data\n",
    "clean_cohort <- plyr::rename(merged_cohort, c(PERSON_ID = 'Count',\n",
    "#                                        year_of_birth = 'Age',\n",
    "                                       race_source_value = 'Race',\n",
    "                                       sex_at_birth_source_value = 'Sex_at_Birth',\n",
    "                                       ethnicity_source_value = 'Hispanic',\n",
    "                                       gender_source_value = 'Gender'))\n",
    "\n",
    "for (row in 1:nrow(clean_cohort))\n",
    "    {\n",
    "    for (col in 1:ncol(clean_cohort))\n",
    "        {\n",
    "        if(grepl('PMI: Skip',clean_cohort[row,col]))\n",
    "            {clean_cohort[row,col] <- \"Skip\"}\n",
    "        if(clean_cohort[row,col] %in% c(\"Not man only, not woman only, prefer not to answer, or skipped\",\n",
    "                                          \"No matching concept\",\n",
    "                                          \"None of these\",\n",
    "                                          \"I prefer not to answer\"))\n",
    "            {clean_cohort[row,col] <- 'Unspecified'}\n",
    "    }\n",
    "}\n",
    "\n",
    "\n",
    "#current_year <- year(Sys.Date())\n",
    "clean_cohort$Age <- year(clean_cohort$VISIT_START_DATETIME) - as.numeric(clean_cohort$year_of_birth)\n",
    "\n",
    "\n",
    "breaks <- c(18,25,35,45,55,65,75,85,1000)\n",
    "tags <- c('18-25','26-35','36-45','46-55','56-65','66-75','76-85','86+')\n",
    "clean_cohort$Age_Group <- cut(clean_cohort$Age, breaks=breaks, right=FALSE, labels=tags)"
   ]
  },
  {
   "cell_type": "code",
   "execution_count": null,
   "metadata": {},
   "outputs": [],
   "source": [
    "head(clean_cohort)"
   ]
  },
  {
   "cell_type": "code",
   "execution_count": null,
   "metadata": {},
   "outputs": [],
   "source": [
    "colnames(clean_cohort)"
   ]
  },
  {
   "cell_type": "code",
   "execution_count": null,
   "metadata": {},
   "outputs": [],
   "source": [
    "# Make a pie chart for sex assigned at birth\n",
    "\n",
    "sex_counts <- select(clean_cohort, Count, Sex_at_Birth) %>% group_by(Sex_at_Birth)\n",
    "sex_counts <- count(sex_counts, Sex_at_Birth)\n",
    "colnames(sex_counts) <- c('Sex_at_Birth','Count')\n",
    "\n",
    "sex_counts <- sex_counts %>% \n",
    "    mutate(Sex_at_Birth = ifelse(Sex_at_Birth == 'Not male, not female, prefer not to answer, or skipped',\n",
    "                                'Not male, not female, prefer\\nnot to answer, or skipped', Sex_at_Birth))\n",
    "\n",
    "slices <- sex_counts$Count\n",
    "lgd <- sex_counts$Sex_at_Birth\n",
    "pct <- format(100*(sex_counts$Count)/(sum(sex_counts$Count)), digits = 2)\n",
    "lbls <- paste(pct,\"%\",sep=\"\") # ad % to labels\n",
    "\n",
    "cols = RColorBrewer::brewer.pal(n = length(lgd), name = 'Set3')\n",
    "\n",
    "sex_counts\n",
    "\n",
    "par(mar=c(0,0,2,2))\n",
    "pie(slices, lbls, main = 'sex assigned at birth', font=9, col=cols)\n",
    "legend(\"topright\", legend=lgd, fill=cols)"
   ]
  },
  {
   "cell_type": "code",
   "execution_count": null,
   "metadata": {},
   "outputs": [],
   "source": [
    "# Making sure there are still the correct amount of patients in the dataframe\n",
    "sum(sex_counts$Count)"
   ]
  },
  {
   "cell_type": "code",
   "execution_count": null,
   "metadata": {},
   "outputs": [],
   "source": [
    "# Organize cohort by race and ancestry\n",
    "\n",
    "race_counts <- select(clean_cohort, Count, Race) %>% group_by(Race)\n",
    "race_counts <- count(race_counts, Race)\n",
    "colnames(race_counts) <- c('Race','Count')\n",
    "par(las = 1) # make label text perpendicular to axis\n",
    "par(mar=c(3,15,3,1)) # increase y-axis margin\n",
    "\n",
    "\n",
    "race_counts\n",
    "barplot(race_counts$Count, main=\"Race and Ancestry\", horiz = TRUE, \n",
    "        names.arg = race_counts$Race, cex.names = 0.8)"
   ]
  },
  {
   "cell_type": "code",
   "execution_count": null,
   "metadata": {},
   "outputs": [],
   "source": [
    "# Making sure there are still the correct amount of patients in the dataframe\n",
    "sum(race_counts$Count)"
   ]
  },
  {
   "cell_type": "code",
   "execution_count": null,
   "metadata": {},
   "outputs": [],
   "source": [
    "# Organize cohort: Hispanic, Latino, or Spanish\n",
    "\n",
    "hls_counts <- select(clean_cohort, Count, Hispanic) %>% group_by(Hispanic)\n",
    "hls_counts <- count(hls_counts, Hispanic)\n",
    "colnames(hls_counts) <- c('Hispanic','Count')\n",
    "\n",
    "hls_graph <- hls_counts\n",
    "hls_graph$Percentage <- format(100*(hls_graph$Count)/(sum(hls_graph$Count)),digits = 2)\n",
    "slices <- hls_graph$Count\n",
    "lgd <- hls_graph$Hispanic\n",
    "pct <- hls_graph$Percentage\n",
    "lbls <- paste(pct,\"%\",sep=\"\") # ad % to labels\n",
    "\n",
    "cols = RColorBrewer::brewer.pal(n = length(lgd), name = 'Set3')\n",
    "\n",
    "hls_counts\n",
    "\n",
    "par(mar=c(0,0,2,2))\n",
    "pie(slices, lbls, main = 'Hispanic Latino or Spanish', font=9, col=cols)\n",
    "legend(\"topright\", legend=lgd, fill=cols)"
   ]
  },
  {
   "cell_type": "code",
   "execution_count": null,
   "metadata": {},
   "outputs": [],
   "source": [
    "# Making sure there are still the correct amount of patients in the dataframe\n",
    "sum(hls_counts$Count)"
   ]
  },
  {
   "cell_type": "code",
   "execution_count": null,
   "metadata": {},
   "outputs": [],
   "source": [
    "# Organize cohort by age distribution at acidosis incidence: \n",
    "\n",
    "age_counts <- select(clean_cohort, Count, Age_Group) %>% group_by(Age_Group)\n",
    "age_counts <- count(age_counts, Age_Group)\n",
    "colnames(age_counts) <- c('Age_Group','Count')\n",
    "age_counts\n",
    "\n",
    "\n",
    "x <- clean_cohort$Age\n",
    "h<-hist(x, breaks=10, col=\"grey\", xlab=\"Age\",\n",
    "   main=\"Histogram with Normal Curve\")\n",
    "xfit<-seq(min(x),max(x),length=40)\n",
    "yfit<-dnorm(xfit,mean=mean(x),sd=sd(x))\n",
    "yfit <- yfit*diff(h$mids[1:2])*length(x)\n",
    "lines(xfit, yfit, col=\"blue\", lwd=2)"
   ]
  },
  {
   "cell_type": "code",
   "execution_count": null,
   "metadata": {},
   "outputs": [],
   "source": [
    "# Making sure there are still the correct amount of patients in the dataframe\n",
    "sum(age_counts$Count)"
   ]
  },
  {
   "cell_type": "markdown",
   "metadata": {},
   "source": [
    "## Comorbidities"
   ]
  },
  {
   "cell_type": "code",
   "execution_count": null,
   "metadata": {},
   "outputs": [],
   "source": [
    "# Upload the comorbidities csv file\n",
    "\n",
    "# This snippet assumes that you run setup first\n",
    "\n",
    "# This code copies a file from your Google Bucket into a dataframe\n",
    "\n",
    "# replace 'test.csv' with the name of the file in your google bucket (don't delete the quotation marks)\n",
    "name_of_file_in_bucket <- 'AUD_Summary_Comorbidity_v2.csv'\n",
    "\n",
    "########################################################################\n",
    "##\n",
    "################# DON'T CHANGE FROM HERE ###############################\n",
    "##\n",
    "########################################################################\n",
    "\n",
    "# Get the bucket name\n",
    "my_bucket <- Sys.getenv('WORKSPACE_BUCKET')\n",
    "\n",
    "# Copy the file from current workspace to the bucket\n",
    "system(paste0(\"gsutil cp \", my_bucket, \"/data/\", name_of_file_in_bucket, \" .\"), intern=T)\n",
    "\n",
    "# Load the file into a dataframe\n",
    "como  <- read_csv(name_of_file_in_bucket)\n",
    "head(como)"
   ]
  },
  {
   "cell_type": "code",
   "execution_count": null,
   "metadata": {},
   "outputs": [],
   "source": [
    "# Find the dimensions of the df\n",
    "dim(como)"
   ]
  },
  {
   "cell_type": "code",
   "execution_count": null,
   "metadata": {},
   "outputs": [],
   "source": [
    "# Merge the como dataframe with the acidosis.emergent dataframe\n",
    "como <- como %>% \n",
    "       rename(PERSON_ID = person_id)\n",
    "head(como)"
   ]
  },
  {
   "cell_type": "code",
   "execution_count": null,
   "metadata": {},
   "outputs": [],
   "source": [
    "# Merge acidosis.emergent dataframe with demographic dataframe \n",
    "acidosis_como <- merge(acidosis.emergent, como, by=\"PERSON_ID\", all.x = TRUE)\n",
    "head(acidosis_como)\n",
    "dim(acidosis_como)"
   ]
  },
  {
   "cell_type": "code",
   "execution_count": null,
   "metadata": {},
   "outputs": [],
   "source": [
    "options(repr.matrix.max.cols=150, repr.matrix.max.rows=200)"
   ]
  },
  {
   "cell_type": "code",
   "execution_count": null,
   "metadata": {},
   "outputs": [],
   "source": [
    "# Make sure the same number of patients is in this dataframe, even though the dimensions are\n",
    "# larger than the 2676 number\n",
    "length(unique(acidosis_como$PERSON_ID))\n",
    "head(acidosis_como)"
   ]
  },
  {
   "cell_type": "code",
   "execution_count": null,
   "metadata": {},
   "outputs": [],
   "source": [
    "install.packages(\"UpSetR\")"
   ]
  },
  {
   "cell_type": "code",
   "execution_count": null,
   "metadata": {},
   "outputs": [],
   "source": [
    "# Set up library for graph\n",
    "library(UpSetR)\n",
    "library(ggplot2)\n",
    "library(grid)"
   ]
  },
  {
   "cell_type": "code",
   "execution_count": null,
   "metadata": {},
   "outputs": [],
   "source": [
    "input <- select(acidosis_como, PERSON_ID, HIV, Cerebrovascular_Disease, \n",
    "                Chronic_Pulmonary_Disease, Congestive_Heart_Failure, Dementia,\n",
    "                Diabetes_with_Chronic_Complications, Diabetes_without_Chronic_Complications,\n",
    "                AIDS, Hemiplegia_Paraplegia, Liver_Disease_Mild, \n",
    "                Liver_Disease_Moderate_Severe, Malignancy,\n",
    "                Metastatic_Solid_Tumor, Myocardial_Infarction, \n",
    "                Peptic_Ulcer_Disease, Peripheral_Vascular_Disease, \n",
    "                Renal_Disease_Severe, Renal_Disease_Mild_Moderate, Rheumatic_Disease)\n",
    "head(input)\n",
    "dim(input)"
   ]
  },
  {
   "cell_type": "code",
   "execution_count": null,
   "metadata": {},
   "outputs": [],
   "source": [
    "# When making the graph the first time, there were missing values. \n",
    "sum(is.na(input))"
   ]
  },
  {
   "cell_type": "code",
   "execution_count": null,
   "metadata": {},
   "outputs": [],
   "source": [
    "# I excluded the missing values in a new dataframe, 'rem'\n",
    "rem <- na.exclude(input)\n",
    "sum(is.na(rem))\n",
    "dim(rem)\n",
    "# Rem's dimensions contain 4 less patients than input's, indicating that there were only four\n",
    "# patients that had missing values."
   ]
  },
  {
   "cell_type": "code",
   "execution_count": null,
   "metadata": {},
   "outputs": [],
   "source": [
    "# Create UpSet plot\n",
    "upset(rem, \n",
    "      nintersects = 40, \n",
    "      nsets = 19, \n",
    "      order.by = \"freq\", \n",
    "      decreasing = T, \n",
    "      mb.ratio = c(0.6, 0.4),\n",
    "      number.angles = 0, \n",
    "      text.scale = 1.1, \n",
    "      point.size = 2.8, \n",
    "      line.size = 0.75\n",
    "      )"
   ]
  },
  {
   "cell_type": "markdown",
   "metadata": {},
   "source": [
    "## Social Determinants of Health"
   ]
  },
  {
   "cell_type": "code",
   "execution_count": null,
   "metadata": {},
   "outputs": [],
   "source": [
    "# Upload the insurance csv file from Chenxi\n",
    "\n",
    "# This snippet assumes that you run setup first\n",
    "\n",
    "# This code copies a file from your Google Bucket into a dataframe\n",
    "\n",
    "# replace 'test.csv' with the name of the file in your google bucket (don't delete the quotation marks)\n",
    "name_of_file_in_bucket <- 'Insurance_all.csv'\n",
    "\n",
    "########################################################################\n",
    "##\n",
    "################# DON'T CHANGE FROM HERE ###############################\n",
    "##\n",
    "########################################################################\n",
    "\n",
    "# Get the bucket name\n",
    "my_bucket <- Sys.getenv('WORKSPACE_BUCKET')\n",
    "\n",
    "# Copy the file from current workspace to the bucket\n",
    "system(paste0(\"gsutil cp \", my_bucket, \"/data/\", name_of_file_in_bucket, \" .\"), intern=T)\n",
    "\n",
    "# Load the file into a dataframe\n",
    "sdoh  <- read_csv(name_of_file_in_bucket)\n",
    "head(sdoh)"
   ]
  },
  {
   "cell_type": "code",
   "execution_count": null,
   "metadata": {},
   "outputs": [],
   "source": [
    "sdoh <- sdoh %>% \n",
    "       rename(PERSON_ID = person_id)\n",
    "head(sdoh)"
   ]
  },
  {
   "cell_type": "code",
   "execution_count": null,
   "metadata": {},
   "outputs": [],
   "source": [
    "dim(sdoh)"
   ]
  },
  {
   "cell_type": "code",
   "execution_count": null,
   "metadata": {},
   "outputs": [],
   "source": [
    "# Merge acidosis.emergent dataframe with sdoh dataframe \n",
    "acidosis_sdoh <- merge(acidosis.emergent, sdoh, by=\"PERSON_ID\", all.x = TRUE)\n",
    "head(acidosis_sdoh)\n",
    "dim(acidosis_sdoh)"
   ]
  },
  {
   "cell_type": "code",
   "execution_count": null,
   "metadata": {},
   "outputs": [],
   "source": [
    "# Organize cohort by sdoh values\n",
    "PID_como <- acidosis_sdoh[,c(\"empl\", \"medcare\", \"medicaid\", \n",
    "                          \"yes\", \"others\",\n",
    "                          \"empl.merge\", \n",
    "                          \"medcare.merge\",\n",
    "                          \"medicaid.merge\")]\n",
    "head(PID_como)"
   ]
  },
  {
   "cell_type": "code",
   "execution_count": null,
   "metadata": {},
   "outputs": [],
   "source": [
    "# Create UpSet plot\n",
    "upset(PID_como, \n",
    "      nintersects = 25, \n",
    "      nsets = 8, \n",
    "      order.by = \"freq\", \n",
    "      decreasing = T, \n",
    "      mb.ratio = c(0.6, 0.4),\n",
    "      number.angles = 0, \n",
    "      text.scale = 1.1, \n",
    "      point.size = 2.8, \n",
    "      line.size = 1\n",
    "      )"
   ]
  },
  {
   "cell_type": "markdown",
   "metadata": {},
   "source": [
    "# Acidosis + Metformin Histogram"
   ]
  },
  {
   "cell_type": "code",
   "execution_count": null,
   "metadata": {},
   "outputs": [],
   "source": [
    "# Upload acidosis emergent dataframe\n",
    "# This snippet assumes that you run setup first\n",
    "\n",
    "# This code copies a file from your Google Bucket into a dataframe\n",
    "\n",
    "# replace 'test.csv' with the name of the file in your google bucket (don't delete the quotation marks)\n",
    "name_of_file_in_bucket <- 'acidosis_emergent_final_cohort_AG_11022023.csv'\n",
    "\n",
    "########################################################################\n",
    "##\n",
    "################# DON'T CHANGE FROM HERE ###############################\n",
    "##\n",
    "########################################################################\n",
    "\n",
    "# Get the bucket name\n",
    "my_bucket <- Sys.getenv('WORKSPACE_BUCKET')\n",
    "\n",
    "# Copy the file from current workspace to the bucket\n",
    "system(paste0(\"gsutil cp \", my_bucket, \"/data/\", name_of_file_in_bucket, \" .\"), intern=T)\n",
    "\n",
    "# Load the file into a dataframe\n",
    "acidosis.emergent  <- read_csv(name_of_file_in_bucket)\n",
    "head(acidosis.emergent)"
   ]
  },
  {
   "cell_type": "code",
   "execution_count": null,
   "metadata": {},
   "outputs": [],
   "source": [
    "dim(acidosis.emergent)"
   ]
  },
  {
   "cell_type": "code",
   "execution_count": null,
   "metadata": {},
   "outputs": [],
   "source": [
    "# Upload metformin dataframe (ALL USES)\n",
    "\n",
    "# This snippet assumes that you run setup first\n",
    "\n",
    "# This code copies a file from your Google Bucket into a dataframe\n",
    "\n",
    "# replace 'test.csv' with the name of the file in your google bucket (don't delete the quotation marks)\n",
    "name_of_file_in_bucket <- 'Metformin_Medication_AG_10122023.csv'\n",
    "\n",
    "########################################################################\n",
    "##\n",
    "################# DON'T CHANGE FROM HERE ###############################\n",
    "##\n",
    "########################################################################\n",
    "\n",
    "# Get the bucket name\n",
    "my_bucket <- Sys.getenv('WORKSPACE_BUCKET')\n",
    "\n",
    "# Copy the file from current workspace to the bucket\n",
    "system(paste0(\"gsutil cp \", my_bucket, \"/data/\", name_of_file_in_bucket, \" .\"), intern=T)\n",
    "\n",
    "# Load the file into a dataframe\n",
    "metformin  <- read_csv(name_of_file_in_bucket)\n",
    "head(metformin)"
   ]
  },
  {
   "cell_type": "code",
   "execution_count": null,
   "metadata": {},
   "outputs": [],
   "source": [
    "options(repr.matrix.max.cols=150, repr.matrix.max.rows=200)"
   ]
  },
  {
   "cell_type": "code",
   "execution_count": null,
   "metadata": {},
   "outputs": [],
   "source": [
    "# Rename the person_id column in 'metformin'\n",
    "metformin <- metformin %>% \n",
    "       rename(PERSON_ID = person_id)\n",
    "head(metformin)"
   ]
  },
  {
   "cell_type": "code",
   "execution_count": null,
   "metadata": {},
   "outputs": [],
   "source": [
    "# Create a graph to see the different types of metformin prescriptions used\n",
    "\n",
    "medication_counts <- select(metformin, PERSON_ID, standard_concept_name) %>% group_by(standard_concept_name)\n",
    "medication_counts <- count(medication_counts, standard_concept_name)\n",
    "colnames(medication_counts) <- c('standard_concept_name','PERSON_ID')\n",
    "par(las = 1) # make label text perpendicular to axis\n",
    "par(mar=c(3,15,3,1)) # increase y-axis margin\n",
    "\n",
    "head(medication_counts)\n",
    "dim(medication_counts)"
   ]
  },
  {
   "cell_type": "code",
   "execution_count": null,
   "metadata": {},
   "outputs": [],
   "source": [
    "# Organize the dataframe in descending order for counts of person_id using the drug\n",
    "med_asc <- medication_counts[order(-medication_counts$PERSON_ID),]\n",
    "head(med_asc, 20)\n",
    "\n",
    "# Now, we know what the top 20 common prescription types are for metformin"
   ]
  },
  {
   "cell_type": "code",
   "execution_count": null,
   "metadata": {},
   "outputs": [],
   "source": [
    "# Merge the two dataframes, keeping only the patients that are present in the emergent \n",
    "# acidosis dataframe\n",
    "\n",
    "merged_cohort <- merge(acidosis.emergent, metformin, by=\"PERSON_ID\", all.x = TRUE)\n",
    "head(merged_cohort)\n",
    "dim(merged_cohort)"
   ]
  },
  {
   "cell_type": "code",
   "execution_count": null,
   "metadata": {},
   "outputs": [],
   "source": [
    "length(unique(merged_cohort$PERSON_ID))"
   ]
  },
  {
   "cell_type": "code",
   "execution_count": null,
   "metadata": {},
   "outputs": [],
   "source": [
    "# index date: VISIT_START_DATETIME\n",
    "# metformin start: drug_exposure_start_datetime\n",
    "# Create a dataframe with just the PID, index date, visit type, medication type, and metformin start date\n",
    "met_acid_cohort <- select(merged_cohort, c('PERSON_ID', 'STANDARD_CONCEPT_NAME', 'VISIT_START_DATETIME', \n",
    "                                'standard_concept_name', 'drug_exposure_start_datetime', \n",
    "                                'drug_type_concept_name'))\n",
    "dim(met_acid_cohort)\n",
    "head(met_acid_cohort)"
   ]
  },
  {
   "cell_type": "code",
   "execution_count": null,
   "metadata": {},
   "outputs": [],
   "source": [
    "# Change the datetime for visit start and drug exposure start\n",
    "met_acid_cohort$index_date <- as.Date(met_acid_cohort$VISIT_START_DATETIME)\n",
    "met_acid_cohort$drug_date <- as.Date(met_acid_cohort$drug_exposure_start_datetime)\n",
    "head(met_acid_cohort)"
   ]
  },
  {
   "cell_type": "code",
   "execution_count": null,
   "metadata": {},
   "outputs": [],
   "source": [
    "# Create a new column for the difference between metformin index date and acidosis index date\n",
    "met_acid_cohort$date_diff <- met_acid_cohort$drug_date - met_acid_cohort$index_date\n",
    "head(met_acid_cohort)"
   ]
  },
  {
   "cell_type": "code",
   "execution_count": null,
   "metadata": {},
   "outputs": [],
   "source": [
    "met_acid_cohort$date_integer <- as.integer(met_acid_cohort$date_diff)\n",
    "head(met_acid_cohort)"
   ]
  },
  {
   "cell_type": "code",
   "execution_count": null,
   "metadata": {},
   "outputs": [],
   "source": [
    "# Plot histogram\n",
    "hist(met_acid_cohort$date_integer,\n",
    "    main = \"Metformin Start Date - Acidosis Index Date\",\n",
    "    col = \"light blue\",\n",
    "    xlab = \"Time Before/After Acidosis Date (Days)\")"
   ]
  }
 ],
 "metadata": {
  "kernelspec": {
   "display_name": "R",
   "language": "R",
   "name": "ir"
  },
  "language_info": {
   "codemirror_mode": "r",
   "file_extension": ".r",
   "mimetype": "text/x-r-source",
   "name": "R",
   "pygments_lexer": "r",
   "version": "4.3.1"
  },
  "toc": {
   "base_numbering": 1,
   "nav_menu": {},
   "number_sections": true,
   "sideBar": true,
   "skip_h1_title": false,
   "title_cell": "Table of Contents",
   "title_sidebar": "Contents",
   "toc_cell": false,
   "toc_position": {},
   "toc_section_display": true,
   "toc_window_display": true
  }
 },
 "nbformat": 4,
 "nbformat_minor": 2
}
