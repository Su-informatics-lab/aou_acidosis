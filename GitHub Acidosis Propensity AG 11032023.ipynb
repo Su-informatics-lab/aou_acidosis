{
 "cells": [
  {
   "cell_type": "markdown",
   "metadata": {},
   "source": [
    "# Set Up"
   ]
  },
  {
   "cell_type": "code",
   "execution_count": null,
   "metadata": {},
   "outputs": [],
   "source": [
    "library(tidyverse)\n",
    "library(fst)\n",
    "library(bigrquery)\n",
    "library(stringr)\n",
    "library(lubridate)"
   ]
  },
  {
   "cell_type": "markdown",
   "metadata": {},
   "source": [
    "# Acidosis Cohort"
   ]
  },
  {
   "cell_type": "markdown",
   "metadata": {},
   "source": [
    "## Set Up"
   ]
  },
  {
   "cell_type": "code",
   "execution_count": null,
   "metadata": {},
   "outputs": [],
   "source": [
    "# This snippet assumes that you run setup first\n",
    "\n",
    "# This code copies a file from your Google Bucket into a dataframe\n",
    "\n",
    "# replace 'test.csv' with the name of the file in your google bucket (don't delete the quotation marks)\n",
    "name_of_file_in_bucket <- 'acidosis_emergent_conditions_AG_10172023.csv'\n",
    "\n",
    "########################################################################\n",
    "##\n",
    "################# DON'T CHANGE FROM HERE ###############################\n",
    "##\n",
    "########################################################################\n",
    "\n",
    "# Get the bucket name\n",
    "my_bucket <- Sys.getenv('WORKSPACE_BUCKET')\n",
    "\n",
    "# Copy the file from current workspace to the bucket\n",
    "system(paste0(\"gsutil cp \", my_bucket, \"/data/\", name_of_file_in_bucket, \" .\"), intern=T)\n",
    "\n",
    "# Load the file into a dataframe\n",
    "acidosis.emergent  <- read_csv(name_of_file_in_bucket)\n",
    "head(acidosis.emergent)"
   ]
  },
  {
   "cell_type": "code",
   "execution_count": null,
   "metadata": {},
   "outputs": [],
   "source": [
    "# Columns that are needed for propensity score:\n",
    "# 1. case vs control 1 and 0\n",
    "# 2. basic survey date\n",
    "# 3. earliest time of diagnosis of ANYTHING\n",
    "# 4. total amount of diagnosis BEFORE basic survey date\n",
    "# 5. any other columns that are needed in order to calculate 2-4"
   ]
  },
  {
   "cell_type": "markdown",
   "metadata": {},
   "source": [
    "## Treatment Column"
   ]
  },
  {
   "cell_type": "code",
   "execution_count": null,
   "metadata": {},
   "outputs": [],
   "source": [
    "# Create new df with just PIDs\n",
    "acidosis_pid <- select(acidosis.emergent, c('PERSON_ID'))\n",
    "dim(acidosis_pid)\n",
    "head(acidosis_pid)"
   ]
  },
  {
   "cell_type": "code",
   "execution_count": null,
   "metadata": {},
   "outputs": [],
   "source": [
    "acidosis <- acidosis_pid %>% \n",
    "       rename(person_id = PERSON_ID)\n",
    "head(acidosis)\n",
    "dim(acidosis)"
   ]
  },
  {
   "cell_type": "code",
   "execution_count": null,
   "metadata": {},
   "outputs": [],
   "source": [
    "# Create new column for treatment (1) or control (0)\n",
    "acidosis <- acidosis %>%\n",
    "  mutate(Treatment = 1)\n",
    "head(acidosis)\n",
    "dim(acidosis)"
   ]
  },
  {
   "cell_type": "markdown",
   "metadata": {},
   "source": [
    "## Basic Survey Column"
   ]
  },
  {
   "cell_type": "code",
   "execution_count": null,
   "metadata": {},
   "outputs": [],
   "source": [
    "# Find the basic survey date for the PIDs in this dataframe"
   ]
  },
  {
   "cell_type": "code",
   "execution_count": null,
   "metadata": {},
   "outputs": [],
   "source": [
    "# This snippet assumes that you run setup first\n",
    "\n",
    " \n",
    "\n",
    "# This code copies a file from your Google Bucket into a dataframe\n",
    "\n",
    " \n",
    "\n",
    "# replace 'test.csv' with the name of the file in your google bucket (don't delete the quotation marks)\n",
    "name_of_file_in_bucket <- 'AUD_Survey_Basics_Lifestyle.fst'\n",
    "\n",
    " \n",
    "\n",
    "########################################################################\n",
    "##\n",
    "################# DON'T CHANGE FROM HERE ###############################\n",
    "##\n",
    "########################################################################\n",
    "\n",
    " \n",
    "\n",
    "# Get the bucket name\n",
    "my_bucket <- Sys.getenv('WORKSPACE_BUCKET')\n",
    "\n",
    " \n",
    "\n",
    "# Copy the file from current workspace to the bucket\n",
    "system(paste0(\"gsutil cp \", my_bucket, \"/data/\", name_of_file_in_bucket, \" .\"), intern=T)\n",
    "\n",
    " \n",
    "\n",
    "# Load the file into a dataframe\n",
    "aud_basics  <- read_fst(name_of_file_in_bucket)\n",
    "head(aud_basics)"
   ]
  },
  {
   "cell_type": "code",
   "execution_count": null,
   "metadata": {},
   "outputs": [],
   "source": [
    "unique(aud_basics$survey)\n",
    "table(aud_basics['survey'])"
   ]
  },
  {
   "cell_type": "code",
   "execution_count": null,
   "metadata": {},
   "outputs": [],
   "source": [
    "# create data frame with just the basics data\n",
    "the.basics <- aud_basics[aud_basics$survey == 'The Basics',]\n",
    "head(the.basics)\n",
    "dim(the.basics)"
   ]
  },
  {
   "cell_type": "code",
   "execution_count": null,
   "metadata": {},
   "outputs": [],
   "source": [
    "# See how many unique PID's are in this dataframe\n",
    "length(unique(the.basics$person_id))"
   ]
  },
  {
   "cell_type": "code",
   "execution_count": null,
   "metadata": {},
   "outputs": [],
   "source": [
    "# Remove duplicate PIDs\n",
    "the.basics <- the.basics %>% distinct(person_id, .keep_all = TRUE)\n",
    "head(the.basics)\n",
    "dim(the.basics)"
   ]
  },
  {
   "cell_type": "code",
   "execution_count": null,
   "metadata": {},
   "outputs": [],
   "source": [
    "# Keep the only column that is needed (survey_datetime)\n",
    "basics <- select(the.basics, c('person_id', 'survey_datetime'))\n",
    "dim(basics)\n",
    "head(basics)"
   ]
  },
  {
   "cell_type": "markdown",
   "metadata": {},
   "source": [
    "# Control Cohort"
   ]
  },
  {
   "cell_type": "markdown",
   "metadata": {},
   "source": [
    "## Set Up"
   ]
  },
  {
   "cell_type": "code",
   "execution_count": null,
   "metadata": {},
   "outputs": [],
   "source": [
    "# This snippet assumes that you run setup first\n",
    "\n",
    "# This code copies a file from your Google Bucket into a dataframe\n",
    "\n",
    "# replace 'test.csv' with the name of the file in your google bucket (don't delete the quotation marks)\n",
    "name_of_file_in_bucket <- 'acidosis_control_cohort_pid_AG_11022023.csv'\n",
    "\n",
    "########################################################################\n",
    "##\n",
    "################# DON'T CHANGE FROM HERE ###############################\n",
    "##\n",
    "########################################################################\n",
    "\n",
    "# Get the bucket name\n",
    "my_bucket <- Sys.getenv('WORKSPACE_BUCKET')\n",
    "\n",
    "# Copy the file from current workspace to the bucket\n",
    "system(paste0(\"gsutil cp \", my_bucket, \"/data/\", name_of_file_in_bucket, \" .\"), intern=T)\n",
    "\n",
    "# Load the file into a dataframe\n",
    "control  <- read_csv(name_of_file_in_bucket)\n",
    "head(control)"
   ]
  },
  {
   "cell_type": "markdown",
   "metadata": {},
   "source": [
    "## Treatment"
   ]
  },
  {
   "cell_type": "code",
   "execution_count": null,
   "metadata": {},
   "outputs": [],
   "source": [
    "# Create new column for treatment (1) or control (0)\n",
    "control <- control %>%\n",
    "  mutate(Treatment = 0)\n",
    "head(control)\n",
    "dim(control)"
   ]
  },
  {
   "cell_type": "markdown",
   "metadata": {},
   "source": [
    "# Acid + Control Merged"
   ]
  },
  {
   "cell_type": "code",
   "execution_count": null,
   "metadata": {},
   "outputs": [],
   "source": [
    "head(acidosis)\n",
    "dim(acidosis)"
   ]
  },
  {
   "cell_type": "code",
   "execution_count": null,
   "metadata": {},
   "outputs": [],
   "source": [
    "head(control)\n",
    "dim(control)"
   ]
  },
  {
   "cell_type": "code",
   "execution_count": null,
   "metadata": {},
   "outputs": [],
   "source": [
    "# Combine the two dataframes \n",
    "combined <- rbind(acidosis, control)\n",
    "combined\n",
    "dim(combined)"
   ]
  },
  {
   "cell_type": "markdown",
   "metadata": {},
   "source": [
    "## Basic Survey Column"
   ]
  },
  {
   "cell_type": "code",
   "execution_count": null,
   "metadata": {},
   "outputs": [],
   "source": [
    "# Merge basics df and combined df, keeping only the PIDs from combined df\n",
    "merged_basics <- merge(combined, basics, by=\"person_id\", all.x = TRUE)\n",
    "head(merged_basics)\n",
    "dim(merged_basics)"
   ]
  },
  {
   "cell_type": "code",
   "execution_count": null,
   "metadata": {},
   "outputs": [],
   "source": [
    "# Change survey_datetime to date\n",
    "merged_basics$survey_date <- as.Date(merged_basics$survey_datetime)\n",
    "head(merged_basics)"
   ]
  },
  {
   "cell_type": "markdown",
   "metadata": {},
   "source": [
    "## Conditions Df"
   ]
  },
  {
   "cell_type": "code",
   "execution_count": null,
   "metadata": {},
   "outputs": [],
   "source": [
    "# This snippet assumes that you run setup first\n",
    "\n",
    "# This code copies a file from your Google Bucket into a dataframe\n",
    "\n",
    "# replace 'test.csv' with the name of the file in your google bucket (don't delete the quotation marks)\n",
    "name_of_file_in_bucket <- 'Conditions_Before_Enroll_CX_11032023.csv'\n",
    "\n",
    "########################################################################\n",
    "##\n",
    "################# DON'T CHANGE FROM HERE ###############################\n",
    "##\n",
    "########################################################################\n",
    "\n",
    "# Get the bucket name\n",
    "my_bucket <- Sys.getenv('WORKSPACE_BUCKET')\n",
    "\n",
    "# Copy the file from current workspace to the bucket\n",
    "system(paste0(\"gsutil cp \", my_bucket, \"/data/\", name_of_file_in_bucket, \" .\"), intern=T)\n",
    "\n",
    "# Load the file into a dataframe\n",
    "df_condition  <- read_csv(name_of_file_in_bucket)\n",
    "head(df_condition)"
   ]
  },
  {
   "cell_type": "code",
   "execution_count": null,
   "metadata": {},
   "outputs": [],
   "source": [
    "dim(df_condition)"
   ]
  },
  {
   "cell_type": "code",
   "execution_count": null,
   "metadata": {},
   "outputs": [],
   "source": [
    "# Merge the df_condition and the merged_basics dataframes\n",
    "\n",
    "propensity <- merge(merged_basics, df_condition, by=\"person_id\", all.x = TRUE)\n",
    "head(propensity)\n",
    "dim(propensity)"
   ]
  },
  {
   "cell_type": "code",
   "execution_count": null,
   "metadata": {},
   "outputs": [],
   "source": [
    "# Find missing values and remove them\n",
    "sum(is.na(propensity$num_diagnosis))"
   ]
  },
  {
   "cell_type": "code",
   "execution_count": null,
   "metadata": {},
   "outputs": [],
   "source": [
    "is_na_num_diagnosis <- propensity[is.na(propensity$num_diagnosis),]\n",
    "head(is_na_num_diagnosis)"
   ]
  },
  {
   "cell_type": "code",
   "execution_count": null,
   "metadata": {},
   "outputs": [],
   "source": [
    "# See if these patients are part of the treatment or control group\n",
    "\n",
    "table(is_na_num_diagnosis$Treatment)"
   ]
  },
  {
   "cell_type": "code",
   "execution_count": null,
   "metadata": {},
   "outputs": [],
   "source": [
    "propensity_complete <- na.omit(propensity)\n",
    "dim(propensity_complete)\n",
    "head(propensity_complete)"
   ]
  },
  {
   "cell_type": "code",
   "execution_count": null,
   "metadata": {},
   "outputs": [],
   "source": [
    "# Double check that the NA values are gone:\n",
    "sum(is.na(propensity_complete$num_diagnosis))\n",
    "sum(is.na(propensity_complete$min_condition_date))"
   ]
  },
  {
   "cell_type": "code",
   "execution_count": null,
   "metadata": {},
   "outputs": [],
   "source": [
    "# This snippet assumes that you run setup first\n",
    "\n",
    "# This code saves your dataframe into a fst file in a \"data\" folder in Google Bucket\n",
    "\n",
    "# Replace df with THE NAME OF YOUR DATAFRAME\n",
    "my_dataframe <- propensity_complete\n",
    "\n",
    "# Replace 'test.csv' with THE NAME of the file you're going to store in the bucket (don't delete the quotation marks)\n",
    "destination_filename <- 'propensity_matching_df_11032023AG.fst'\n",
    "\n",
    "########################################################################\n",
    "##\n",
    "################# DON'T CHANGE FROM HERE ###############################\n",
    "##\n",
    "########################################################################\n",
    "\n",
    "# store the dataframe in current workspace\n",
    "write_fst(my_dataframe, destination_filename)\n",
    "\n",
    "# Get the bucket name\n",
    "my_bucket <- Sys.getenv('WORKSPACE_BUCKET')\n",
    "\n",
    "# Copy the file from current workspace to the bucket\n",
    "system(paste0(\"gsutil cp ./\", destination_filename, \" \", my_bucket, \"/data/\"), intern=T)\n",
    "\n",
    "# Check if file is in the bucket\n",
    "system(paste0(\"gsutil ls \", my_bucket, \"/data/*.fst\"), intern=T)"
   ]
  },
  {
   "cell_type": "markdown",
   "metadata": {},
   "source": [
    "# Propensity Matching"
   ]
  },
  {
   "cell_type": "code",
   "execution_count": null,
   "metadata": {},
   "outputs": [],
   "source": [
    "install.packages(\"MatchIt\")"
   ]
  },
  {
   "cell_type": "code",
   "execution_count": null,
   "metadata": {},
   "outputs": [],
   "source": [
    "library(MatchIt)\n",
    "library(lmtest)\n",
    "library(sandwich)"
   ]
  },
  {
   "cell_type": "code",
   "execution_count": null,
   "metadata": {},
   "outputs": [],
   "source": [
    "# Upload the propensity dataframe\n",
    "\n",
    "# This snippet assumes that you run setup first\n",
    "\n",
    "# This code copies a file from your Google Bucket into a dataframe\n",
    "\n",
    "# replace 'test.csv' with the name of the file in your google bucket (don't delete the quotation marks)\n",
    "name_of_file_in_bucket <- 'propensity_matching_df_11032023AG.fst'\n",
    "\n",
    "########################################################################\n",
    "##\n",
    "################# DON'T CHANGE FROM HERE ###############################\n",
    "##\n",
    "########################################################################\n",
    "\n",
    "# Get the bucket name\n",
    "my_bucket <- Sys.getenv('WORKSPACE_BUCKET')\n",
    "\n",
    "# Copy the file from current workspace to the bucket\n",
    "system(paste0(\"gsutil cp \", my_bucket, \"/data/\", name_of_file_in_bucket, \" .\"), intern=T)\n",
    "\n",
    "# Load the file into a dataframe\n",
    "propensity_complete  <- read_fst(name_of_file_in_bucket)\n",
    "head(propensity_complete)"
   ]
  },
  {
   "cell_type": "code",
   "execution_count": null,
   "metadata": {},
   "outputs": [],
   "source": [
    "dim(propensity_complete)"
   ]
  },
  {
   "cell_type": "markdown",
   "metadata": {},
   "source": [
    "## Obtain matchit() basics"
   ]
  },
  {
   "cell_type": "code",
   "execution_count": null,
   "metadata": {},
   "outputs": [],
   "source": [
    "# Run propensity scoring\n",
    "match_obj <- matchit(Treatment ~ survey_date + min_condition_date + num_diagnosis,\n",
    "                    data = propensity_complete, method = \"nearest\", distance = \"glm\",\n",
    "                    ratio = 4,\n",
    "                    replace = FALSE)\n",
    "summary(match_obj)"
   ]
  },
  {
   "cell_type": "code",
   "execution_count": null,
   "metadata": {},
   "outputs": [],
   "source": [
    "plot(match_obj, type = \"jitter\")\n",
    "plot(match_obj, type = \"hist\")"
   ]
  },
  {
   "cell_type": "code",
   "execution_count": null,
   "metadata": {},
   "outputs": [],
   "source": [
    "str(match_obj)"
   ]
  },
  {
   "cell_type": "code",
   "execution_count": null,
   "metadata": {},
   "outputs": [],
   "source": [
    "match.matrix <- match_obj$match.matrix\n",
    "match.matrix\n",
    "\n",
    "# try and figure out what the columns are named"
   ]
  },
  {
   "cell_type": "code",
   "execution_count": null,
   "metadata": {},
   "outputs": [],
   "source": [
    "summary(as.integer(row.names(match.matrix)))"
   ]
  },
  {
   "cell_type": "code",
   "execution_count": null,
   "metadata": {},
   "outputs": [],
   "source": [
    "summary(as.vector(as.integer((match.matrix))))"
   ]
  },
  {
   "cell_type": "code",
   "execution_count": null,
   "metadata": {},
   "outputs": [],
   "source": [
    "case_with_4controls_df <- data.frame(Cases = propensity_complete$person_id[as.integer(row.names(match.matrix))], \n",
    "                                     Control_1 =propensity_complete$person_id[as.integer(match.matrix[,1])],\n",
    "                                     Control_2 =propensity_complete$person_id[as.integer(match.matrix[,2])],\n",
    "                                     Control_3 =propensity_complete$person_id[as.integer(match.matrix[,3])],\n",
    "                                     Control_4 =propensity_complete$person_id[as.integer(match.matrix[,4])])\n",
    "                                     "
   ]
  },
  {
   "cell_type": "code",
   "execution_count": null,
   "metadata": {},
   "outputs": [],
   "source": [
    "head(case_with_4controls_df)\n",
    "dim(case_with_4controls_df)"
   ]
  },
  {
   "cell_type": "code",
   "execution_count": null,
   "metadata": {},
   "outputs": [],
   "source": [
    "# This snippet assumes that you run setup first\n",
    "\n",
    "# This code saves your dataframe into a fst file in a \"data\" folder in Google Bucket\n",
    "\n",
    "# Replace df with THE NAME OF YOUR DATAFRAME\n",
    "my_dataframe <- case_with_4controls_df\n",
    "\n",
    "# Replace 'test.csv' with THE NAME of the file you're going to store in the bucket (don't delete the quotation marks)\n",
    "destination_filename <- 'case_with_4controls_df_11032023_AG.fst'\n",
    "\n",
    "########################################################################\n",
    "##\n",
    "################# DON'T CHANGE FROM HERE ###############################\n",
    "##\n",
    "########################################################################\n",
    "\n",
    "# store the dataframe in current workspace\n",
    "write_fst(my_dataframe, destination_filename)\n",
    "\n",
    "# Get the bucket name\n",
    "my_bucket <- Sys.getenv('WORKSPACE_BUCKET')\n",
    "\n",
    "# Copy the file from current workspace to the bucket\n",
    "system(paste0(\"gsutil cp ./\", destination_filename, \" \", my_bucket, \"/data/\"), intern=T)\n",
    "\n",
    "# Check if file is in the bucket\n",
    "system(paste0(\"gsutil ls \", my_bucket, \"/data/*.fst\"), intern=T)"
   ]
  },
  {
   "cell_type": "markdown",
   "metadata": {},
   "source": [
    "## Patient Control List"
   ]
  },
  {
   "cell_type": "code",
   "execution_count": null,
   "metadata": {},
   "outputs": [],
   "source": [
    "patient_controls <- as.character(as.vector(match.matrix))"
   ]
  },
  {
   "cell_type": "code",
   "execution_count": null,
   "metadata": {},
   "outputs": [],
   "source": [
    "patient_controls <- propensity_complete$person_id[as.numeric(as.vector(match.matrix))]\n",
    "head(patient_controls)"
   ]
  },
  {
   "cell_type": "code",
   "execution_count": null,
   "metadata": {},
   "outputs": [],
   "source": [
    "length(unique(patient_controls))\n",
    "# We now that the length of this list is the amount of control patients -- on the right\n",
    "## track!"
   ]
  },
  {
   "cell_type": "code",
   "execution_count": null,
   "metadata": {},
   "outputs": [],
   "source": [
    "summary(propensity_complete$person_id)"
   ]
  },
  {
   "cell_type": "code",
   "execution_count": null,
   "metadata": {},
   "outputs": [],
   "source": [
    "summary(as.numeric(patient_controls))"
   ]
  },
  {
   "cell_type": "markdown",
   "metadata": {},
   "source": [
    "## Patient Case List"
   ]
  },
  {
   "cell_type": "code",
   "execution_count": null,
   "metadata": {},
   "outputs": [],
   "source": [
    "rownames(propensity_complete) <- propensity_complete$person_id\n",
    "head(propensity_complete)"
   ]
  },
  {
   "cell_type": "code",
   "execution_count": null,
   "metadata": {},
   "outputs": [],
   "source": [
    "patient_cases <- as.character(propensity_complete$person_id[propensity_complete$Treatment == 1])"
   ]
  },
  {
   "cell_type": "code",
   "execution_count": null,
   "metadata": {},
   "outputs": [],
   "source": [
    "head(patient_cases)"
   ]
  },
  {
   "cell_type": "code",
   "execution_count": null,
   "metadata": {},
   "outputs": [],
   "source": [
    "length(unique(patient_cases))\n",
    "# We now that the length of this list is the amount of case patients -- on the right\n",
    "## track!"
   ]
  },
  {
   "cell_type": "code",
   "execution_count": null,
   "metadata": {},
   "outputs": [],
   "source": [
    "head(propensity_complete[patient_cases,])"
   ]
  },
  {
   "cell_type": "markdown",
   "metadata": {},
   "source": [
    "## Unmatched Control List"
   ]
  },
  {
   "cell_type": "code",
   "execution_count": null,
   "metadata": {},
   "outputs": [],
   "source": [
    "# GOAL: do set diff for the unmatched (patient id - person id cases - person id control)"
   ]
  },
  {
   "cell_type": "code",
   "execution_count": null,
   "metadata": {},
   "outputs": [],
   "source": [
    "propensity_pid <- select(propensity_complete, c('person_id'))\n",
    "dim(propensity_pid)"
   ]
  },
  {
   "cell_type": "code",
   "execution_count": null,
   "metadata": {},
   "outputs": [],
   "source": [
    "head(propensity_pid)"
   ]
  },
  {
   "cell_type": "code",
   "execution_count": null,
   "metadata": {},
   "outputs": [],
   "source": [
    "df_patient_controls <- as.data.frame(patient_controls)\n",
    "head(df_patient_controls)"
   ]
  },
  {
   "cell_type": "code",
   "execution_count": null,
   "metadata": {},
   "outputs": [],
   "source": [
    "colnames(df_patient_controls)[1]<-\"person_id\"\n",
    "head(df_patient_controls)"
   ]
  },
  {
   "cell_type": "code",
   "execution_count": null,
   "metadata": {},
   "outputs": [],
   "source": [
    "# Set diff: take out the controls\n",
    "unmatched_controls <- setdiff(propensity_pid, df_patient_controls)\n",
    "head(unmatched_controls)\n",
    "dim(unmatched_controls)"
   ]
  },
  {
   "cell_type": "code",
   "execution_count": null,
   "metadata": {},
   "outputs": [],
   "source": [
    "# 237786 - 227122 = 10664\n",
    "## 10664 is the number of matched controls - function worked!"
   ]
  },
  {
   "cell_type": "code",
   "execution_count": null,
   "metadata": {},
   "outputs": [],
   "source": [
    "# Set diff: take out the cases\n",
    "df_patient_cases <- as.data.frame(patient_cases)\n",
    "head(df_patient_cases)"
   ]
  },
  {
   "cell_type": "code",
   "execution_count": null,
   "metadata": {},
   "outputs": [],
   "source": [
    "colnames(df_patient_cases)[1]<-\"person_id\"\n",
    "head(df_patient_cases)"
   ]
  },
  {
   "cell_type": "code",
   "execution_count": null,
   "metadata": {},
   "outputs": [],
   "source": [
    "# Need to change chr to dbl\n",
    "df_patient_cases$person_id <- as.numeric(as.character(df_patient_cases$person_id))\n",
    "head(df_patient_cases)"
   ]
  },
  {
   "cell_type": "code",
   "execution_count": null,
   "metadata": {},
   "outputs": [],
   "source": [
    "unmatched_controls <- setdiff(unmatched_controls, df_patient_cases)\n",
    "head(unmatched_controls)\n",
    "dim(unmatched_controls)"
   ]
  },
  {
   "cell_type": "code",
   "execution_count": null,
   "metadata": {},
   "outputs": [],
   "source": [
    "## 227122 - 224456 = 2666\n",
    "## This is the number of cases in our cohort, so we are successful!"
   ]
  },
  {
   "cell_type": "code",
   "execution_count": null,
   "metadata": {},
   "outputs": [],
   "source": [
    "# Create a new dataframe with propensity complete that only contains PIDs from \n",
    "## unmatched controls\n",
    "unmatched_controls_df <- merge(unmatched_controls, propensity_complete, \n",
    "                               by=\"person_id\", all.x = TRUE)\n",
    "head(unmatched_controls_df)\n",
    "dim(unmatched_controls_df)"
   ]
  },
  {
   "cell_type": "markdown",
   "metadata": {},
   "source": [
    "## Dfs: Control/Case/Unmatched"
   ]
  },
  {
   "cell_type": "code",
   "execution_count": null,
   "metadata": {},
   "outputs": [],
   "source": [
    "head(propensity_complete)\n",
    "dim(propensity_complete)"
   ]
  },
  {
   "cell_type": "code",
   "execution_count": null,
   "metadata": {},
   "outputs": [],
   "source": [
    "# #'s = controls: 10664, case: 2666, unmatched: 224456"
   ]
  },
  {
   "cell_type": "code",
   "execution_count": null,
   "metadata": {},
   "outputs": [],
   "source": [
    "# cases df"
   ]
  },
  {
   "cell_type": "code",
   "execution_count": null,
   "metadata": {},
   "outputs": [],
   "source": [
    "head(df_patient_cases)\n",
    "dim(df_patient_cases)"
   ]
  },
  {
   "cell_type": "code",
   "execution_count": null,
   "metadata": {},
   "outputs": [],
   "source": [
    "case_propensity_df <- merge(df_patient_cases, propensity_complete, \n",
    "                               by=\"person_id\", all.x = TRUE)\n",
    "head(case_propensity_df)\n",
    "dim(case_propensity_df)"
   ]
  },
  {
   "cell_type": "code",
   "execution_count": null,
   "metadata": {},
   "outputs": [],
   "source": [
    "# This snippet assumes that you run setup first\n",
    "\n",
    "# This code saves your dataframe into a fst file in a \"data\" folder in Google Bucket\n",
    "\n",
    "# Replace df with THE NAME OF YOUR DATAFRAME\n",
    "my_dataframe <- case_propensity_df\n",
    "\n",
    "# Replace 'test.csv' with THE NAME of the file you're going to store in the bucket (don't delete the quotation marks)\n",
    "destination_filename <- 'cases_propensity_df_11032023_AG.fst'\n",
    "\n",
    "########################################################################\n",
    "##\n",
    "################# DON'T CHANGE FROM HERE ###############################\n",
    "##\n",
    "########################################################################\n",
    "\n",
    "# store the dataframe in current workspace\n",
    "write_fst(my_dataframe, destination_filename)\n",
    "\n",
    "# Get the bucket name\n",
    "my_bucket <- Sys.getenv('WORKSPACE_BUCKET')\n",
    "\n",
    "# Copy the file from current workspace to the bucket\n",
    "system(paste0(\"gsutil cp ./\", destination_filename, \" \", my_bucket, \"/data/\"), intern=T)\n",
    "\n",
    "# Check if file is in the bucket\n",
    "system(paste0(\"gsutil ls \", my_bucket, \"/data/*.fst\"), intern=T)"
   ]
  },
  {
   "cell_type": "code",
   "execution_count": null,
   "metadata": {},
   "outputs": [],
   "source": [
    "# controls df "
   ]
  },
  {
   "cell_type": "code",
   "execution_count": null,
   "metadata": {},
   "outputs": [],
   "source": [
    "head(df_patient_controls)\n",
    "dim(df_patient_controls)"
   ]
  },
  {
   "cell_type": "code",
   "execution_count": null,
   "metadata": {},
   "outputs": [],
   "source": [
    "control_propensity_df <- merge(df_patient_controls, propensity_complete, \n",
    "                               by=\"person_id\", all.x = TRUE)\n",
    "head(control_propensity_df)\n",
    "dim(control_propensity_df)"
   ]
  },
  {
   "cell_type": "code",
   "execution_count": null,
   "metadata": {},
   "outputs": [],
   "source": [
    "# This snippet assumes that you run setup first\n",
    "\n",
    "# This code saves your dataframe into a fst file in a \"data\" folder in Google Bucket\n",
    "\n",
    "# Replace df with THE NAME OF YOUR DATAFRAME\n",
    "my_dataframe <- control_propensity_df\n",
    "\n",
    "# Replace 'test.csv' with THE NAME of the file you're going to store in the bucket (don't delete the quotation marks)\n",
    "destination_filename <- 'control_propensity_df_11032023_AG.fst'\n",
    "\n",
    "########################################################################\n",
    "##\n",
    "################# DON'T CHANGE FROM HERE ###############################\n",
    "##\n",
    "########################################################################\n",
    "\n",
    "# store the dataframe in current workspace\n",
    "write_fst(my_dataframe, destination_filename)\n",
    "\n",
    "# Get the bucket name\n",
    "my_bucket <- Sys.getenv('WORKSPACE_BUCKET')\n",
    "\n",
    "# Copy the file from current workspace to the bucket\n",
    "system(paste0(\"gsutil cp ./\", destination_filename, \" \", my_bucket, \"/data/\"), intern=T)\n",
    "\n",
    "# Check if file is in the bucket\n",
    "system(paste0(\"gsutil ls \", my_bucket, \"/data/*.fst\"), intern=T)"
   ]
  },
  {
   "cell_type": "code",
   "execution_count": null,
   "metadata": {},
   "outputs": [],
   "source": [
    "# unmatched controls\n",
    "head(unmatched_controls_df)\n",
    "dim(unmatched_controls_df)"
   ]
  },
  {
   "cell_type": "code",
   "execution_count": null,
   "metadata": {},
   "outputs": [],
   "source": [
    "# This snippet assumes that you run setup first\n",
    "\n",
    "# This code saves your dataframe into a fst file in a \"data\" folder in Google Bucket\n",
    "\n",
    "# Replace df with THE NAME OF YOUR DATAFRAME\n",
    "my_dataframe <- unmatched_controls_df\n",
    "\n",
    "# Replace 'test.csv' with THE NAME of the file you're going to store in the bucket (don't delete the quotation marks)\n",
    "destination_filename <- 'unmatched_propensity_df_11032023_AG.fst'\n",
    "\n",
    "########################################################################\n",
    "##\n",
    "################# DON'T CHANGE FROM HERE ###############################\n",
    "##\n",
    "########################################################################\n",
    "\n",
    "# store the dataframe in current workspace\n",
    "write_fst(my_dataframe, destination_filename)\n",
    "\n",
    "# Get the bucket name\n",
    "my_bucket <- Sys.getenv('WORKSPACE_BUCKET')\n",
    "\n",
    "# Copy the file from current workspace to the bucket\n",
    "system(paste0(\"gsutil cp ./\", destination_filename, \" \", my_bucket, \"/data/\"), intern=T)\n",
    "\n",
    "# Check if file is in the bucket\n",
    "system(paste0(\"gsutil ls \", my_bucket, \"/data/*.fst\"), intern=T)"
   ]
  },
  {
   "cell_type": "markdown",
   "metadata": {},
   "source": [
    "# Descriptive Statistics"
   ]
  },
  {
   "cell_type": "markdown",
   "metadata": {},
   "source": [
    "## Number of Diagnoses"
   ]
  },
  {
   "cell_type": "code",
   "execution_count": null,
   "metadata": {},
   "outputs": [],
   "source": [
    "# Plot histogram: Patient CONTROLS Number of Diagnoses\n",
    "hist(propensity_complete[as.character(patient_controls),'num_diagnosis'],\n",
    "    main = \"Patient Controls: # of Diagnoses\",\n",
    "    col = \"light blue\",\n",
    "    xlab = \"Count\",\n",
    "    breaks = 100)"
   ]
  },
  {
   "cell_type": "code",
   "execution_count": null,
   "metadata": {},
   "outputs": [],
   "source": [
    "# Plot histogram: Patient CASES Number of Diagnoses\n",
    "hist(propensity_complete[as.character(patient_cases),'num_diagnosis'],\n",
    "    main = \"Patient Cases: # of Diagnoses\",\n",
    "    col = \"light blue\",\n",
    "    xlab = \"Count\",\n",
    "    breaks = 100)"
   ]
  },
  {
   "cell_type": "code",
   "execution_count": null,
   "metadata": {},
   "outputs": [],
   "source": [
    "# Plot histogram: UNMATCHED CONTROLS Number of Diagnoses\n",
    "hist(unmatched_controls_df$num_diagnosis,\n",
    "    main = \"Unmatched Controls: # of Diagnoses\",\n",
    "    col = \"light blue\",\n",
    "    xlab = \"Count\",\n",
    "    breaks = 100)"
   ]
  },
  {
   "cell_type": "code",
   "execution_count": null,
   "metadata": {},
   "outputs": [],
   "source": [
    "# Find the summary for the # diagnoses for unmatched_controls_df\n",
    "summary(unmatched_controls_df$num_diagnosis)"
   ]
  },
  {
   "cell_type": "code",
   "execution_count": null,
   "metadata": {},
   "outputs": [],
   "source": [
    "# Plot histogram: UNMATCHED CONTROLS Number of Diagnoses - BUT REMOVE OUTLIER\n",
    "hist(unmatched_controls_df$num_diagnosis\n",
    "     [unmatched_controls_df$num_diagnosis <= 1200],\n",
    "    main = \"Unmatched Controls: # of Diagnoses\",\n",
    "    col = \"light blue\",\n",
    "    xlab = \"Count\",\n",
    "    breaks = 100)"
   ]
  },
  {
   "cell_type": "markdown",
   "metadata": {},
   "source": [
    "## Basic Survey Date"
   ]
  },
  {
   "cell_type": "code",
   "execution_count": null,
   "metadata": {},
   "outputs": [],
   "source": [
    "# Plot histogram: Patient CONTROLS Basic Survey Date\n",
    "hist(propensity_complete[as.character(patient_controls),'survey_date'],\n",
    "    main = \"Patient Controls: Basic Survey Date\",\n",
    "    col = \"light blue\",\n",
    "    xlab = \"Count\",\n",
    "    breaks = 100)"
   ]
  },
  {
   "cell_type": "code",
   "execution_count": null,
   "metadata": {},
   "outputs": [],
   "source": [
    "# Plot histogram: Patient CASES Basic Survey Date\n",
    "hist(propensity_complete[as.character(patient_cases),'survey_date'],\n",
    "    main = \"Patient Cases: Basic Survey Date\",\n",
    "    col = \"light blue\",\n",
    "    xlab = \"Count\",\n",
    "    breaks = 100)"
   ]
  },
  {
   "cell_type": "code",
   "execution_count": null,
   "metadata": {},
   "outputs": [],
   "source": [
    "# Plot histogram: UNMATCHED CONTROLS Basic Survey Date\n",
    "hist(unmatched_controls_df$survey_date,\n",
    "    main = \"Unmatched Controls: Basic Survey Date\",\n",
    "    col = \"light blue\",\n",
    "    xlab = \"Count\",\n",
    "    breaks = 100)"
   ]
  },
  {
   "cell_type": "markdown",
   "metadata": {},
   "source": [
    "## First Dx Date"
   ]
  },
  {
   "cell_type": "code",
   "execution_count": null,
   "metadata": {},
   "outputs": [],
   "source": [
    "# Plot histogram: Patient CONTROLS Min Dx Date\n",
    "hist(propensity_complete[as.character(patient_controls),'min_condition_date'],\n",
    "    main = \"Patient Controls: First Dx Date\",\n",
    "    col = \"light blue\",\n",
    "    xlab = \"Count\",\n",
    "    breaks = 100)"
   ]
  },
  {
   "cell_type": "code",
   "execution_count": null,
   "metadata": {},
   "outputs": [],
   "source": [
    "# This snippet assumes that you run setup first\n",
    "\n",
    " \n",
    "\n",
    "# This code copies a file from your Google Bucket into a dataframe\n",
    "\n",
    " \n",
    "\n",
    "# replace 'test.csv' with the name of the file in your google bucket (don't delete the quotation marks)\n",
    "name_of_file_in_bucket <- 'control_propensity_df_11032023_AG.fst'\n",
    "\n",
    " \n",
    "\n",
    "########################################################################\n",
    "##\n",
    "################# DON'T CHANGE FROM HERE ###############################\n",
    "##\n",
    "########################################################################\n",
    "\n",
    " \n",
    "\n",
    "# Get the bucket name\n",
    "my_bucket <- Sys.getenv('WORKSPACE_BUCKET')\n",
    "\n",
    " \n",
    "\n",
    "# Copy the file from current workspace to the bucket\n",
    "system(paste0(\"gsutil cp \", my_bucket, \"/data/\", name_of_file_in_bucket, \" .\"), intern=T)\n",
    "\n",
    " \n",
    "\n",
    "# Load the file into a dataframe\n",
    "control  <- read_fst(name_of_file_in_bucket)\n",
    "head(control)"
   ]
  },
  {
   "cell_type": "code",
   "execution_count": null,
   "metadata": {},
   "outputs": [],
   "source": [
    "min(control[,6])"
   ]
  },
  {
   "cell_type": "code",
   "execution_count": null,
   "metadata": {},
   "outputs": [],
   "source": [
    "# Plot histogram: Patient CASES Min Dx Date\n",
    "hist(propensity_complete[as.character(patient_cases),'min_condition_date'],\n",
    "    main = \"Patient Cases: First Dx Date\",\n",
    "    col = \"light blue\",\n",
    "    xlab = \"Count\",\n",
    "    breaks = 100)"
   ]
  },
  {
   "cell_type": "code",
   "execution_count": null,
   "metadata": {},
   "outputs": [],
   "source": [
    "# This snippet assumes that you run setup first\n",
    "\n",
    " \n",
    "\n",
    "# This code copies a file from your Google Bucket into a dataframe\n",
    "\n",
    " \n",
    "\n",
    "# replace 'test.csv' with the name of the file in your google bucket (don't delete the quotation marks)\n",
    "name_of_file_in_bucket <- 'cases_propensity_df_11032023_AG.fst'\n",
    "\n",
    " \n",
    "\n",
    "########################################################################\n",
    "##\n",
    "################# DON'T CHANGE FROM HERE ###############################\n",
    "##\n",
    "########################################################################\n",
    "\n",
    " \n",
    "\n",
    "# Get the bucket name\n",
    "my_bucket <- Sys.getenv('WORKSPACE_BUCKET')\n",
    "\n",
    " \n",
    "\n",
    "# Copy the file from current workspace to the bucket\n",
    "system(paste0(\"gsutil cp \", my_bucket, \"/data/\", name_of_file_in_bucket, \" .\"), intern=T)\n",
    "\n",
    " \n",
    "\n",
    "# Load the file into a dataframe\n",
    "cases  <- read_fst(name_of_file_in_bucket)\n",
    "head(cases)"
   ]
  },
  {
   "cell_type": "code",
   "execution_count": null,
   "metadata": {},
   "outputs": [],
   "source": [
    "min(cases[,6])"
   ]
  },
  {
   "cell_type": "code",
   "execution_count": null,
   "metadata": {},
   "outputs": [],
   "source": [
    "# Plot histogram: UNMATCHED CONTROLS Min Dx Date\n",
    "hist(unmatched_controls_df$min_condition_date,\n",
    "    main = \"Unmatched Controls: First Dx Date\",\n",
    "    col = \"light blue\",\n",
    "    xlab = \"Count\",\n",
    "    breaks = 100)"
   ]
  },
  {
   "cell_type": "markdown",
   "metadata": {},
   "source": [
    "# Demographics"
   ]
  },
  {
   "cell_type": "code",
   "execution_count": null,
   "metadata": {},
   "outputs": [],
   "source": [
    "# This snippet assumes that you run setup first\n",
    "\n",
    " \n",
    "\n",
    "# This code copies a file from your Google Bucket into a dataframe\n",
    "\n",
    " \n",
    "\n",
    "# replace 'test.csv' with the name of the file in your google bucket (don't delete the quotation marks)\n",
    "name_of_file_in_bucket <- 'demographic_all.csv'\n",
    "\n",
    " \n",
    "\n",
    "########################################################################\n",
    "##\n",
    "################# DON'T CHANGE FROM HERE ###############################\n",
    "##\n",
    "########################################################################\n",
    "\n",
    " \n",
    "\n",
    "# Get the bucket name\n",
    "my_bucket <- Sys.getenv('WORKSPACE_BUCKET')\n",
    "\n",
    " \n",
    "\n",
    "# Copy the file from current workspace to the bucket\n",
    "system(paste0(\"gsutil cp \", my_bucket, \"/data/\", name_of_file_in_bucket, \" .\"), intern=T)\n",
    "\n",
    " \n",
    "\n",
    "# Load the file into a dataframe\n",
    "my_dataframe  <- read_csv(name_of_file_in_bucket)\n",
    "head(my_dataframe)"
   ]
  },
  {
   "cell_type": "code",
   "execution_count": null,
   "metadata": {},
   "outputs": [],
   "source": [
    "dim(my_dataframe)"
   ]
  },
  {
   "cell_type": "markdown",
   "metadata": {},
   "source": [
    "## Controls + Demo\n"
   ]
  },
  {
   "cell_type": "code",
   "execution_count": null,
   "metadata": {},
   "outputs": [],
   "source": [
    "# MERGING PATIENT CONTROLS AND DEMO DATA"
   ]
  },
  {
   "cell_type": "code",
   "execution_count": null,
   "metadata": {},
   "outputs": [],
   "source": [
    "head(df_patient_controls)"
   ]
  },
  {
   "cell_type": "code",
   "execution_count": null,
   "metadata": {},
   "outputs": [],
   "source": [
    "controls_demo_df <- merge(df_patient_controls, my_dataframe, \n",
    "                               by=\"person_id\", all.x = TRUE)\n",
    "head(controls_demo_df)\n",
    "dim(controls_demo_df)"
   ]
  },
  {
   "cell_type": "code",
   "execution_count": null,
   "metadata": {},
   "outputs": [],
   "source": [
    "# Clean demographic data\n",
    "clean_controls_demo_df <- plyr::rename(controls_demo_df, c(person_id = 'Count',\n",
    "#                                        year_of_birth = 'Age',\n",
    "                                       race_source_value = 'Race',\n",
    "                                       sex_at_birth_source_value = 'Sex_at_Birth',\n",
    "                                       ethnicity_source_value = 'Hispanic',\n",
    "                                       gender_source_value = 'Gender'))"
   ]
  },
  {
   "cell_type": "code",
   "execution_count": null,
   "metadata": {},
   "outputs": [],
   "source": [
    "head(clean_controls_demo_df)"
   ]
  },
  {
   "cell_type": "code",
   "execution_count": null,
   "metadata": {},
   "outputs": [],
   "source": [
    "for (row in 1:nrow(clean_controls_demo_df))\n",
    "    {\n",
    "    for (col in 1:ncol(clean_controls_demo_df))\n",
    "        {\n",
    "        if(grepl('PMI: Skip',clean_controls_demo_df[row,col]))\n",
    "            {clean_controls_demo_df[row,col] <- \"Skip\"}\n",
    "        if(clean_controls_demo_df[row,col] %in% c(\"Not man only, not woman only, prefer not to answer, or skipped\",\n",
    "                                          \"No matching concept\",\n",
    "                                          \"None of these\",\n",
    "                                          \"I prefer not to answer\"))\n",
    "            {clean_controls_demo_df[row,col] <- 'Unspecified'}\n",
    "    }\n",
    "}"
   ]
  },
  {
   "cell_type": "code",
   "execution_count": null,
   "metadata": {},
   "outputs": [],
   "source": [
    "today <- Sys.Date()\n",
    "today <- format(today, format=\"%Y\")\n",
    "today"
   ]
  },
  {
   "cell_type": "code",
   "execution_count": null,
   "metadata": {},
   "outputs": [],
   "source": [
    "clean_controls_demo_df$Age <- as.numeric(today) - as.numeric(clean_controls_demo_df$year_of_birth)"
   ]
  },
  {
   "cell_type": "code",
   "execution_count": null,
   "metadata": {},
   "outputs": [],
   "source": [
    "breaks <- c(18,25,35,45,55,65,75,85,1000)\n",
    "tags <- c('18-25','26-35','36-45','46-55','56-65','66-75','76-85','86+')\n",
    "clean_controls_demo_df$Age_Group <- cut(clean_controls_demo_df$Age, breaks=breaks, right=FALSE, labels=tags)"
   ]
  },
  {
   "cell_type": "code",
   "execution_count": null,
   "metadata": {},
   "outputs": [],
   "source": [
    "head(clean_controls_demo_df)"
   ]
  },
  {
   "cell_type": "code",
   "execution_count": null,
   "metadata": {},
   "outputs": [],
   "source": [
    "# This snippet assumes that you run setup first\n",
    "\n",
    "# This code saves your dataframe into a fst file in a \"data\" folder in Google Bucket\n",
    "\n",
    "# Replace df with THE NAME OF YOUR DATAFRAME\n",
    "my_dataframe <- clean_controls_demo_df\n",
    "\n",
    "# Replace 'test.csv' with THE NAME of the file you're going to store in the bucket (don't delete the quotation marks)\n",
    "destination_filename <- 'controls_demo_df_11032023_AG.fst'\n",
    "\n",
    "########################################################################\n",
    "##\n",
    "################# DON'T CHANGE FROM HERE ###############################\n",
    "##\n",
    "########################################################################\n",
    "\n",
    "# store the dataframe in current workspace\n",
    "write_fst(my_dataframe, destination_filename)\n",
    "\n",
    "# Get the bucket name\n",
    "my_bucket <- Sys.getenv('WORKSPACE_BUCKET')\n",
    "\n",
    "# Copy the file from current workspace to the bucket\n",
    "system(paste0(\"gsutil cp ./\", destination_filename, \" \", my_bucket, \"/data/\"), intern=T)\n",
    "\n",
    "# Check if file is in the bucket\n",
    "system(paste0(\"gsutil ls \", my_bucket, \"/data/*.fst\"), intern=T)"
   ]
  },
  {
   "cell_type": "markdown",
   "metadata": {},
   "source": [
    "## Cases + Demo"
   ]
  },
  {
   "cell_type": "code",
   "execution_count": null,
   "metadata": {},
   "outputs": [],
   "source": [
    "# MERGING PATIENT CASES AND DEMO DATA"
   ]
  },
  {
   "cell_type": "code",
   "execution_count": null,
   "metadata": {},
   "outputs": [],
   "source": [
    "head(df_patient_cases)"
   ]
  },
  {
   "cell_type": "code",
   "execution_count": null,
   "metadata": {},
   "outputs": [],
   "source": [
    "# This snippet assumes that you run setup first\n",
    "\n",
    " \n",
    "\n",
    "# This code copies a file from your Google Bucket into a dataframe\n",
    "\n",
    " \n",
    "\n",
    "# replace 'test.csv' with the name of the file in your google bucket (don't delete the quotation marks)\n",
    "name_of_file_in_bucket <- 'demographic_all.csv'\n",
    "\n",
    " \n",
    "\n",
    "########################################################################\n",
    "##\n",
    "################# DON'T CHANGE FROM HERE ###############################\n",
    "##\n",
    "########################################################################\n",
    "\n",
    " \n",
    "\n",
    "# Get the bucket name\n",
    "my_bucket <- Sys.getenv('WORKSPACE_BUCKET')\n",
    "\n",
    " \n",
    "\n",
    "# Copy the file from current workspace to the bucket\n",
    "system(paste0(\"gsutil cp \", my_bucket, \"/data/\", name_of_file_in_bucket, \" .\"), intern=T)\n",
    "\n",
    " \n",
    "\n",
    "# Load the file into a dataframe\n",
    "my_dataframe1  <- read_csv(name_of_file_in_bucket)\n",
    "head(my_dataframe1)"
   ]
  },
  {
   "cell_type": "code",
   "execution_count": null,
   "metadata": {},
   "outputs": [],
   "source": [
    "cases_demo_df <- merge(df_patient_cases, my_dataframe1, \n",
    "                               by=\"person_id\", all.x = TRUE)\n",
    "head(cases_demo_df)\n",
    "dim(cases_demo_df)"
   ]
  },
  {
   "cell_type": "code",
   "execution_count": null,
   "metadata": {},
   "outputs": [],
   "source": [
    "# Clean cases data\n",
    "\n",
    "# Clean demographic data\n",
    "clean_cases_demo_df <- plyr::rename(cases_demo_df, c(person_id = 'Count',\n",
    "#                                        year_of_birth = 'Age',\n",
    "                                       race_source_value = 'Race',\n",
    "                                       sex_at_birth_source_value = 'Sex_at_Birth',\n",
    "                                       ethnicity_source_value = 'Hispanic',\n",
    "                                       gender_source_value = 'Gender'))\n",
    "for (row in 1:nrow(clean_cases_demo_df))\n",
    "    {\n",
    "    for (col in 1:ncol(clean_cases_demo_df))\n",
    "        {\n",
    "        if(grepl('PMI: Skip',clean_cases_demo_df[row,col]))\n",
    "            {clean_cases_demo_df[row,col] <- \"Skip\"}\n",
    "        if(clean_cases_demo_df[row,col] %in% c(\"Not man only, not woman only, prefer not to answer, or skipped\",\n",
    "                                          \"No matching concept\",\n",
    "                                          \"None of these\",\n",
    "                                          \"I prefer not to answer\"))\n",
    "            {clean_cases_demo_df[row,col] <- 'Unspecified'}\n",
    "    }\n",
    "}\n",
    "\n",
    "clean_cases_demo_df$Age <- as.numeric(today) - as.numeric(clean_cases_demo_df$year_of_birth)\n",
    "\n",
    "breaks <- c(18,25,35,45,55,65,75,85,1000)\n",
    "tags <- c('18-25','26-35','36-45','46-55','56-65','66-75','76-85','86+')\n",
    "clean_cases_demo_df$Age_Group <- cut(clean_cases_demo_df$Age, breaks=breaks, right=FALSE, labels=tags)"
   ]
  },
  {
   "cell_type": "code",
   "execution_count": null,
   "metadata": {},
   "outputs": [],
   "source": [
    "head(clean_cases_demo_df)"
   ]
  },
  {
   "cell_type": "code",
   "execution_count": null,
   "metadata": {},
   "outputs": [],
   "source": [
    "# This snippet assumes that you run setup first\n",
    "\n",
    "# This code saves your dataframe into a fst file in a \"data\" folder in Google Bucket\n",
    "\n",
    "# Replace df with THE NAME OF YOUR DATAFRAME\n",
    "my_dataframe <- clean_cases_demo_df\n",
    "\n",
    "# Replace 'test.csv' with THE NAME of the file you're going to store in the bucket (don't delete the quotation marks)\n",
    "destination_filename <- 'cases_demo_df_11032023_AG.fst'\n",
    "\n",
    "########################################################################\n",
    "##\n",
    "################# DON'T CHANGE FROM HERE ###############################\n",
    "##\n",
    "########################################################################\n",
    "\n",
    "# store the dataframe in current workspace\n",
    "write_fst(my_dataframe, destination_filename)\n",
    "\n",
    "# Get the bucket name\n",
    "my_bucket <- Sys.getenv('WORKSPACE_BUCKET')\n",
    "\n",
    "# Copy the file from current workspace to the bucket\n",
    "system(paste0(\"gsutil cp ./\", destination_filename, \" \", my_bucket, \"/data/\"), intern=T)\n",
    "\n",
    "# Check if file is in the bucket\n",
    "system(paste0(\"gsutil ls \", my_bucket, \"/data/*.fst\"), intern=T)"
   ]
  },
  {
   "cell_type": "markdown",
   "metadata": {},
   "source": [
    "## Unmatched + Demo"
   ]
  },
  {
   "cell_type": "code",
   "execution_count": null,
   "metadata": {},
   "outputs": [],
   "source": [
    "# MERGING UNMATCHED CONTROLS AND DEMO DATA"
   ]
  },
  {
   "cell_type": "code",
   "execution_count": null,
   "metadata": {},
   "outputs": [],
   "source": [
    "head(unmatched_controls)"
   ]
  },
  {
   "cell_type": "code",
   "execution_count": null,
   "metadata": {},
   "outputs": [],
   "source": [
    "unmatched_controls_demo_df <- merge(unmatched_controls, my_dataframe1, \n",
    "                               by=\"person_id\", all.x = TRUE)\n",
    "head(unmatched_controls_demo_df)\n",
    "dim(unmatched_controls_demo_df)"
   ]
  },
  {
   "cell_type": "code",
   "execution_count": null,
   "metadata": {},
   "outputs": [],
   "source": [
    "# Clean unmatched control data\n",
    "\n",
    "# Clean demographic data\n",
    "clean_unmatched_demo_df <- plyr::rename(unmatched_controls_demo_df, \n",
    "                                                 c(person_id = 'Count',\n",
    "#                                        year_of_birth = 'Age',\n",
    "                                       race_source_value = 'Race',\n",
    "                                       sex_at_birth_source_value = 'Sex_at_Birth',\n",
    "                                       ethnicity_source_value = 'Hispanic',\n",
    "                                       gender_source_value = 'Gender'))\n",
    "for (row in 1:nrow(clean_unmatched_demo_df))\n",
    "    {\n",
    "    for (col in 1:ncol(clean_unmatched_demo_df))\n",
    "        {\n",
    "        if(grepl('PMI: Skip',clean_unmatched_demo_df[row,col]))\n",
    "            {clean_unmatched_demo_df[row,col] <- \"Skip\"}\n",
    "        if(clean_unmatched_demo_df[row,col] %in% c(\"Not man only, not woman only, prefer not to answer, or skipped\",\n",
    "                                          \"No matching concept\",\n",
    "                                          \"None of these\",\n",
    "                                          \"I prefer not to answer\"))\n",
    "            {clean_unmatched_demo_df[row,col] <- 'Unspecified'}\n",
    "    }\n",
    "}\n",
    "\n",
    "clean_unmatched_demo_df$Age <- as.numeric(today) - as.numeric(clean_unmatched_demo_df$year_of_birth)\n",
    "\n",
    "breaks <- c(18,25,35,45,55,65,75,85,1000)\n",
    "tags <- c('18-25','26-35','36-45','46-55','56-65','66-75','76-85','86+')\n",
    "clean_unmatched_demo_df$Age_Group <- cut(clean_unmatched_demo_df$Age, breaks=breaks, right=FALSE, labels=tags)"
   ]
  },
  {
   "cell_type": "code",
   "execution_count": null,
   "metadata": {},
   "outputs": [],
   "source": [
    "head(clean_unmatched_demo_df)\n",
    "dim(clean_unmatched_demo_df)"
   ]
  },
  {
   "cell_type": "code",
   "execution_count": null,
   "metadata": {},
   "outputs": [],
   "source": [
    "# This snippet assumes that you run setup first\n",
    "\n",
    "# This code saves your dataframe into a fst file in a \"data\" folder in Google Bucket\n",
    "\n",
    "# Replace df with THE NAME OF YOUR DATAFRAME\n",
    "my_dataframe <- clean_unmatched_demo_df\n",
    "\n",
    "# Replace 'test.csv' with THE NAME of the file you're going to store in the bucket (don't delete the quotation marks)\n",
    "destination_filename <- 'unmatched_control_demo_df_11032023_AG.fst'\n",
    "\n",
    "########################################################################\n",
    "##\n",
    "################# DON'T CHANGE FROM HERE ###############################\n",
    "##\n",
    "########################################################################\n",
    "\n",
    "# store the dataframe in current workspace\n",
    "write_fst(my_dataframe, destination_filename)\n",
    "\n",
    "# Get the bucket name\n",
    "my_bucket <- Sys.getenv('WORKSPACE_BUCKET')\n",
    "\n",
    "# Copy the file from current workspace to the bucket\n",
    "system(paste0(\"gsutil cp ./\", destination_filename, \" \", my_bucket, \"/data/\"), intern=T)\n",
    "\n",
    "# Check if file is in the bucket\n",
    "system(paste0(\"gsutil ls \", my_bucket, \"/data/*.fst\"), intern=T)"
   ]
  },
  {
   "cell_type": "markdown",
   "metadata": {},
   "source": [
    "## Age Distribution"
   ]
  },
  {
   "cell_type": "markdown",
   "metadata": {},
   "source": [
    "### Controls"
   ]
  },
  {
   "cell_type": "code",
   "execution_count": null,
   "metadata": {},
   "outputs": [],
   "source": [
    "# Organize cohort by age distribution: \n",
    "\n",
    "age_counts <- select(clean_controls_demo_df, Count, Age_Group) %>% group_by(Age_Group)\n",
    "age_counts <- count(age_counts, Age_Group)\n",
    "colnames(age_counts) <- c('Age_Group','Count')\n",
    "age_counts\n",
    "\n",
    "\n",
    "x <- clean_controls_demo_df$Age\n",
    "h<-hist(x, breaks=10, col=\"grey\", xlab=\"Age\",\n",
    "   main=\"Histogram with Normal Curve\")\n",
    "xfit<-seq(min(x),max(x),length=40)\n",
    "yfit<-dnorm(xfit,mean=mean(x),sd=sd(x))\n",
    "yfit <- yfit*diff(h$mids[1:2])*length(x)\n",
    "lines(xfit, yfit, col=\"blue\", lwd=2)"
   ]
  },
  {
   "cell_type": "markdown",
   "metadata": {},
   "source": [
    "### Cases"
   ]
  },
  {
   "cell_type": "code",
   "execution_count": null,
   "metadata": {},
   "outputs": [],
   "source": [
    "# Organize cohort by age distribution:\n",
    "\n",
    "age_counts <- select(clean_cases_demo_df, Count, Age_Group) %>% group_by(Age_Group)\n",
    "age_counts <- count(age_counts, Age_Group)\n",
    "colnames(age_counts) <- c('Age_Group','Count')\n",
    "age_counts\n",
    "\n",
    "\n",
    "x <- clean_cases_demo_df$Age\n",
    "h<-hist(x, breaks=10, col=\"grey\", xlab=\"Age\",\n",
    "   main=\"Histogram with Normal Curve\")\n",
    "xfit<-seq(min(x),max(x),length=40)\n",
    "yfit<-dnorm(xfit,mean=mean(x),sd=sd(x))\n",
    "yfit <- yfit*diff(h$mids[1:2])*length(x)\n",
    "lines(xfit, yfit, col=\"blue\", lwd=2)"
   ]
  },
  {
   "cell_type": "markdown",
   "metadata": {},
   "source": [
    "### Unmatched"
   ]
  },
  {
   "cell_type": "code",
   "execution_count": null,
   "metadata": {},
   "outputs": [],
   "source": [
    "# Organize cohort by age distribution:\n",
    "\n",
    "age_counts <- select(clean_unmatched_demo_df, Count, Age_Group) %>% group_by(Age_Group)\n",
    "age_counts <- count(age_counts, Age_Group)\n",
    "colnames(age_counts) <- c('Age_Group','Count')\n",
    "age_counts\n",
    "\n",
    "\n",
    "x <- clean_unmatched_demo_df$Age\n",
    "h<-hist(x, breaks=10, col=\"grey\", xlab=\"Age\",\n",
    "   main=\"Histogram with Normal Curve\")\n",
    "xfit<-seq(min(x),max(x),length=40)\n",
    "yfit<-dnorm(xfit,mean=mean(x),sd=sd(x))\n",
    "yfit <- yfit*diff(h$mids[1:2])*length(x)\n",
    "lines(xfit, yfit, col=\"blue\", lwd=2)"
   ]
  },
  {
   "cell_type": "markdown",
   "metadata": {},
   "source": [
    "## Gender Distribution"
   ]
  },
  {
   "cell_type": "markdown",
   "metadata": {},
   "source": [
    "### Controls"
   ]
  },
  {
   "cell_type": "code",
   "execution_count": null,
   "metadata": {},
   "outputs": [],
   "source": [
    "# Make a pie chart for sex assigned at birth\n",
    "\n",
    "sex_counts <- select(clean_controls_demo_df, Count, Sex_at_Birth) %>% group_by(Sex_at_Birth)\n",
    "sex_counts <- count(sex_counts, Sex_at_Birth)\n",
    "colnames(sex_counts) <- c('Sex_at_Birth','Count')\n",
    "\n",
    "sex_counts <- sex_counts %>% \n",
    "    mutate(Sex_at_Birth = ifelse(Sex_at_Birth == 'Not male, not female, prefer not to answer, or skipped',\n",
    "                                'Not male, not female, prefer\\nnot to answer, or skipped', Sex_at_Birth))\n",
    "\n",
    "slices <- sex_counts$Count\n",
    "lgd <- sex_counts$Sex_at_Birth\n",
    "pct <- format(100*(sex_counts$Count)/(sum(sex_counts$Count)), digits = 2)\n",
    "lbls <- paste(pct,\"%\",sep=\"\") # ad % to labels\n",
    "\n",
    "cols = RColorBrewer::brewer.pal(n = length(lgd), name = 'Set3')\n",
    "\n",
    "sex_counts\n",
    "\n",
    "par(mar=c(0,0,2,2))\n",
    "pie(slices, lbls, main = 'sex assigned at birth', font=9, col=cols)\n",
    "legend(\"topright\", legend=lgd, fill=cols)"
   ]
  },
  {
   "cell_type": "markdown",
   "metadata": {},
   "source": [
    "### Cases"
   ]
  },
  {
   "cell_type": "code",
   "execution_count": null,
   "metadata": {},
   "outputs": [],
   "source": [
    "# Make a pie chart for sex assigned at birth\n",
    "\n",
    "sex_counts <- select(clean_cases_demo_df, Count, Sex_at_Birth) %>% group_by(Sex_at_Birth)\n",
    "sex_counts <- count(sex_counts, Sex_at_Birth)\n",
    "colnames(sex_counts) <- c('Sex_at_Birth','Count')\n",
    "\n",
    "sex_counts <- sex_counts %>% \n",
    "    mutate(Sex_at_Birth = ifelse(Sex_at_Birth == 'Not male, not female, prefer not to answer, or skipped',\n",
    "                                'Not male, not female, prefer\\nnot to answer, or skipped', Sex_at_Birth))\n",
    "\n",
    "slices <- sex_counts$Count\n",
    "lgd <- sex_counts$Sex_at_Birth\n",
    "pct <- format(100*(sex_counts$Count)/(sum(sex_counts$Count)), digits = 2)\n",
    "lbls <- paste(pct,\"%\",sep=\"\") # ad % to labels\n",
    "\n",
    "cols = RColorBrewer::brewer.pal(n = length(lgd), name = 'Set3')\n",
    "\n",
    "sex_counts\n",
    "\n",
    "par(mar=c(0,0,2,2))\n",
    "pie(slices, lbls, main = 'sex assigned at birth', font=9, col=cols)\n",
    "legend(\"topright\", legend=lgd, fill=cols)"
   ]
  },
  {
   "cell_type": "markdown",
   "metadata": {},
   "source": [
    "### Unmatched"
   ]
  },
  {
   "cell_type": "code",
   "execution_count": null,
   "metadata": {},
   "outputs": [],
   "source": [
    "# Make a pie chart for sex assigned at birth\n",
    "\n",
    "sex_counts <- select(clean_unmatched_demo_df, Count, Sex_at_Birth) %>% group_by(Sex_at_Birth)\n",
    "sex_counts <- count(sex_counts, Sex_at_Birth)\n",
    "colnames(sex_counts) <- c('Sex_at_Birth','Count')\n",
    "\n",
    "sex_counts <- sex_counts %>% \n",
    "    mutate(Sex_at_Birth = ifelse(Sex_at_Birth == 'Not male, not female, prefer not to answer, or skipped',\n",
    "                                'Not male, not female, prefer\\nnot to answer, or skipped', Sex_at_Birth))\n",
    "\n",
    "slices <- sex_counts$Count\n",
    "lgd <- sex_counts$Sex_at_Birth\n",
    "pct <- format(100*(sex_counts$Count)/(sum(sex_counts$Count)), digits = 2)\n",
    "lbls <- paste(pct,\"%\",sep=\"\") # ad % to labels\n",
    "\n",
    "cols = RColorBrewer::brewer.pal(n = length(lgd), name = 'Set3')\n",
    "\n",
    "sex_counts\n",
    "\n",
    "par(mar=c(0,0,2,2))\n",
    "pie(slices, lbls, main = 'sex assigned at birth', font=9, col=cols)\n",
    "legend(\"topright\", legend=lgd, fill=cols)"
   ]
  },
  {
   "cell_type": "markdown",
   "metadata": {},
   "source": [
    "## Race Distribution"
   ]
  },
  {
   "cell_type": "markdown",
   "metadata": {},
   "source": [
    "### Controls"
   ]
  },
  {
   "cell_type": "code",
   "execution_count": null,
   "metadata": {},
   "outputs": [],
   "source": [
    "# Organize cohort by race and ancestry\n",
    "\n",
    "race_counts <- select(clean_controls_demo_df, Count, Race) %>% group_by(Race)\n",
    "race_counts <- count(race_counts, Race)\n",
    "colnames(race_counts) <- c('Race','Count')\n",
    "par(las = 1) # make label text perpendicular to axis\n",
    "par(mar=c(3,15,3,1)) # increase y-axis margin\n",
    "\n",
    "\n",
    "race_counts\n",
    "barplot(race_counts$Count, main=\"Race and Ancestry\", horiz = TRUE, \n",
    "        names.arg = race_counts$Race, cex.names = 0.8)"
   ]
  },
  {
   "cell_type": "markdown",
   "metadata": {},
   "source": [
    "### Cases"
   ]
  },
  {
   "cell_type": "code",
   "execution_count": null,
   "metadata": {},
   "outputs": [],
   "source": [
    "# Organize cohort by race and ancestry\n",
    "\n",
    "race_counts <- select(clean_cases_demo_df, Count, Race) %>% group_by(Race)\n",
    "race_counts <- count(race_counts, Race)\n",
    "colnames(race_counts) <- c('Race','Count')\n",
    "par(las = 1) # make label text perpendicular to axis\n",
    "par(mar=c(3,15,3,1)) # increase y-axis margin\n",
    "\n",
    "\n",
    "race_counts\n",
    "barplot(race_counts$Count, main=\"Race and Ancestry\", horiz = TRUE, \n",
    "        names.arg = race_counts$Race, cex.names = 0.8)"
   ]
  },
  {
   "cell_type": "markdown",
   "metadata": {},
   "source": [
    "### Unmatched"
   ]
  },
  {
   "cell_type": "code",
   "execution_count": null,
   "metadata": {},
   "outputs": [],
   "source": [
    "# Organize cohort by race and ancestry\n",
    "\n",
    "race_counts <- select(clean_unmatched_demo_df, Count, Race) %>% group_by(Race)\n",
    "race_counts <- count(race_counts, Race)\n",
    "colnames(race_counts) <- c('Race','Count')\n",
    "par(las = 1) # make label text perpendicular to axis\n",
    "par(mar=c(3,15,3,1)) # increase y-axis margin\n",
    "\n",
    "\n",
    "race_counts\n",
    "barplot(race_counts$Count, main=\"Race and Ancestry\", horiz = TRUE, \n",
    "        names.arg = race_counts$Race, cex.names = 0.8)"
   ]
  },
  {
   "cell_type": "markdown",
   "metadata": {},
   "source": [
    "## Hispanic"
   ]
  },
  {
   "cell_type": "markdown",
   "metadata": {},
   "source": [
    "### Controls"
   ]
  },
  {
   "cell_type": "code",
   "execution_count": null,
   "metadata": {},
   "outputs": [],
   "source": [
    "# Organize cohort: Hispanic, Latino, or Spanish\n",
    "\n",
    "hls_counts <- select(clean_controls_demo_df, Count, Hispanic) %>% group_by(Hispanic)\n",
    "hls_counts <- count(hls_counts, Hispanic)\n",
    "colnames(hls_counts) <- c('Hispanic','Count')\n",
    "\n",
    "hls_graph <- hls_counts\n",
    "hls_graph$Percentage <- format(100*(hls_graph$Count)/(sum(hls_graph$Count)),digits = 2)\n",
    "slices <- hls_graph$Count\n",
    "lgd <- hls_graph$Hispanic\n",
    "pct <- hls_graph$Percentage\n",
    "lbls <- paste(pct,\"%\",sep=\"\") # ad % to labels\n",
    "\n",
    "cols = RColorBrewer::brewer.pal(n = length(lgd), name = 'Set3')\n",
    "\n",
    "hls_counts\n",
    "\n",
    "par(mar=c(0,0,2,2))\n",
    "pie(slices, lbls, main = 'Hispanic Latino or Spanish', font=9, col=cols)\n",
    "legend(\"topright\", legend=lgd, fill=cols)"
   ]
  },
  {
   "cell_type": "markdown",
   "metadata": {},
   "source": [
    "### Cases"
   ]
  },
  {
   "cell_type": "code",
   "execution_count": null,
   "metadata": {},
   "outputs": [],
   "source": [
    "# Organize cohort: Hispanic, Latino, or Spanish\n",
    "\n",
    "hls_counts <- select(clean_cases_demo_df, Count, Hispanic) %>% group_by(Hispanic)\n",
    "hls_counts <- count(hls_counts, Hispanic)\n",
    "colnames(hls_counts) <- c('Hispanic','Count')\n",
    "\n",
    "hls_graph <- hls_counts\n",
    "hls_graph$Percentage <- format(100*(hls_graph$Count)/(sum(hls_graph$Count)),digits = 2)\n",
    "slices <- hls_graph$Count\n",
    "lgd <- hls_graph$Hispanic\n",
    "pct <- hls_graph$Percentage\n",
    "lbls <- paste(pct,\"%\",sep=\"\") # ad % to labels\n",
    "\n",
    "cols = RColorBrewer::brewer.pal(n = length(lgd), name = 'Set3')\n",
    "\n",
    "hls_counts\n",
    "\n",
    "par(mar=c(0,0,2,2))\n",
    "pie(slices, lbls, main = 'Hispanic Latino or Spanish', font=9, col=cols)\n",
    "legend(\"topright\", legend=lgd, fill=cols)"
   ]
  },
  {
   "cell_type": "markdown",
   "metadata": {},
   "source": [
    "### Unmatched"
   ]
  },
  {
   "cell_type": "code",
   "execution_count": null,
   "metadata": {},
   "outputs": [],
   "source": [
    "# Organize cohort: Hispanic, Latino, or Spanish\n",
    "\n",
    "hls_counts <- select(clean_unmatched_demo_df, Count, Hispanic) %>% group_by(Hispanic)\n",
    "hls_counts <- count(hls_counts, Hispanic)\n",
    "colnames(hls_counts) <- c('Hispanic','Count')\n",
    "\n",
    "hls_graph <- hls_counts\n",
    "hls_graph$Percentage <- format(100*(hls_graph$Count)/(sum(hls_graph$Count)),digits = 2)\n",
    "slices <- hls_graph$Count\n",
    "lgd <- hls_graph$Hispanic\n",
    "pct <- hls_graph$Percentage\n",
    "lbls <- paste(pct,\"%\",sep=\"\") # ad % to labels\n",
    "\n",
    "cols = RColorBrewer::brewer.pal(n = length(lgd), name = 'Set3')\n",
    "\n",
    "hls_counts\n",
    "\n",
    "par(mar=c(0,0,2,2))\n",
    "pie(slices, lbls, main = 'Hispanic Latino or Spanish', font=9, col=cols)\n",
    "legend(\"topright\", legend=lgd, fill=cols)"
   ]
  }
 ],
 "metadata": {
  "kernelspec": {
   "display_name": "R",
   "language": "R",
   "name": "ir"
  },
  "language_info": {
   "codemirror_mode": "r",
   "file_extension": ".r",
   "mimetype": "text/x-r-source",
   "name": "R",
   "pygments_lexer": "r",
   "version": "4.3.1"
  },
  "toc": {
   "base_numbering": 1,
   "nav_menu": {},
   "number_sections": true,
   "sideBar": true,
   "skip_h1_title": false,
   "title_cell": "Table of Contents",
   "title_sidebar": "Contents",
   "toc_cell": false,
   "toc_position": {},
   "toc_section_display": true,
   "toc_window_display": true
  }
 },
 "nbformat": 4,
 "nbformat_minor": 2
}
