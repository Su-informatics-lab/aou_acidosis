{
 "cells": [
  {
   "cell_type": "markdown",
   "metadata": {},
   "source": [
    "# Set Up"
   ]
  },
  {
   "cell_type": "code",
   "execution_count": null,
   "metadata": {},
   "outputs": [],
   "source": [
    "library(tidyverse)\n",
    "library(fst)\n",
    "library(bigrquery)\n",
    "library(stringr)\n",
    "library(lubridate)"
   ]
  },
  {
   "cell_type": "code",
   "execution_count": null,
   "metadata": {},
   "outputs": [],
   "source": [
    "# This snippet assumes that you run setup first\n",
    "\n",
    "# This code copies a file from your Google Bucket into a dataframe\n",
    "\n",
    "# replace 'test.csv' with the name of the file in your google bucket (don't delete the quotation marks)\n",
    "name_of_file_in_bucket <- 'control_propensity_df_11032023_AG.fst'\n",
    "\n",
    "########################################################################\n",
    "##\n",
    "################# DON'T CHANGE FROM HERE ###############################\n",
    "##\n",
    "########################################################################\n",
    "\n",
    "# Get the bucket name\n",
    "my_bucket <- Sys.getenv('WORKSPACE_BUCKET')\n",
    "\n",
    "# Copy the file from current workspace to the bucket\n",
    "system(paste0(\"gsutil cp \", my_bucket, \"/data/\", name_of_file_in_bucket, \" .\"), intern=T)\n",
    "\n",
    "# Load the file into a dataframe\n",
    "control_propensity_df  <- read_fst(name_of_file_in_bucket)\n",
    "head(control_propensity_df)"
   ]
  },
  {
   "cell_type": "code",
   "execution_count": null,
   "metadata": {},
   "outputs": [],
   "source": [
    "# This snippet assumes that you run setup first\n",
    "\n",
    "# This code copies a file from your Google Bucket into a dataframe\n",
    "\n",
    "# replace 'test.csv' with the name of the file in your google bucket (don't delete the quotation marks)\n",
    "name_of_file_in_bucket <- 'cases_propensity_df_11032023_AG.fst'\n",
    "\n",
    "########################################################################\n",
    "##\n",
    "################# DON'T CHANGE FROM HERE ###############################\n",
    "##\n",
    "########################################################################\n",
    "\n",
    "# Get the bucket name\n",
    "my_bucket <- Sys.getenv('WORKSPACE_BUCKET')\n",
    "\n",
    "# Copy the file from current workspace to the bucket\n",
    "system(paste0(\"gsutil cp \", my_bucket, \"/data/\", name_of_file_in_bucket, \" .\"), intern=T)\n",
    "\n",
    "# Load the file into a dataframe\n",
    "cases_propensity_df  <- read_fst(name_of_file_in_bucket)\n",
    "head(cases_propensity_df)"
   ]
  },
  {
   "cell_type": "code",
   "execution_count": null,
   "metadata": {},
   "outputs": [],
   "source": [
    "# This snippet assumes that you run setup first\n",
    "\n",
    "# This code copies a file from your Google Bucket into a dataframe\n",
    "\n",
    "# replace 'test.csv' with the name of the file in your google bucket (don't delete the quotation marks)\n",
    "name_of_file_in_bucket <- 'controls_demo_df_11032023_AG.fst'\n",
    "\n",
    "########################################################################\n",
    "##\n",
    "################# DON'T CHANGE FROM HERE ###############################\n",
    "##\n",
    "########################################################################\n",
    "\n",
    "# Get the bucket name\n",
    "my_bucket <- Sys.getenv('WORKSPACE_BUCKET')\n",
    "\n",
    "# Copy the file from current workspace to the bucket\n",
    "system(paste0(\"gsutil cp \", my_bucket, \"/data/\", name_of_file_in_bucket, \" .\"), intern=T)\n",
    "\n",
    "# Load the file into a dataframe\n",
    "controls_demo_df  <- read_fst(name_of_file_in_bucket)\n",
    "head(controls_demo_df)"
   ]
  },
  {
   "cell_type": "code",
   "execution_count": null,
   "metadata": {},
   "outputs": [],
   "source": [
    "# This snippet assumes that you run setup first\n",
    "\n",
    "# This code copies a file from your Google Bucket into a dataframe\n",
    "\n",
    "# replace 'test.csv' with the name of the file in your google bucket (don't delete the quotation marks)\n",
    "name_of_file_in_bucket <- 'cases_demo_df_11032023_AG.fst'\n",
    "\n",
    "########################################################################\n",
    "##\n",
    "################# DON'T CHANGE FROM HERE ###############################\n",
    "##\n",
    "########################################################################\n",
    "\n",
    "# Get the bucket name\n",
    "my_bucket <- Sys.getenv('WORKSPACE_BUCKET')\n",
    "\n",
    "# Copy the file from current workspace to the bucket\n",
    "system(paste0(\"gsutil cp \", my_bucket, \"/data/\", name_of_file_in_bucket, \" .\"), intern=T)\n",
    "\n",
    "# Load the file into a dataframe\n",
    "cases_demo_df  <- read_fst(name_of_file_in_bucket)\n",
    "head(cases_demo_df)"
   ]
  },
  {
   "cell_type": "code",
   "execution_count": null,
   "metadata": {},
   "outputs": [],
   "source": [
    "dim(control_propensity_df)"
   ]
  },
  {
   "cell_type": "code",
   "execution_count": null,
   "metadata": {},
   "outputs": [],
   "source": [
    "dim(controls_demo_df)"
   ]
  },
  {
   "cell_type": "code",
   "execution_count": null,
   "metadata": {},
   "outputs": [],
   "source": [
    "dim(cases_propensity_df)"
   ]
  },
  {
   "cell_type": "code",
   "execution_count": null,
   "metadata": {},
   "outputs": [],
   "source": [
    "dim(cases_demo_df)"
   ]
  },
  {
   "cell_type": "code",
   "execution_count": null,
   "metadata": {},
   "outputs": [],
   "source": [
    "total_propensity <- rbind(control_propensity_df, cases_propensity_df)\n",
    "head(total_propensity)\n",
    "dim(total_propensity)"
   ]
  },
  {
   "cell_type": "code",
   "execution_count": null,
   "metadata": {},
   "outputs": [],
   "source": [
    "total_treatment <- total_propensity[,c(\"person_id\",\"Treatment\")]\n",
    "head(total_treatment)\n",
    "dim(total_treatment)"
   ]
  },
  {
   "cell_type": "code",
   "execution_count": null,
   "metadata": {},
   "outputs": [],
   "source": [
    "total_demo <- rbind(controls_demo_df, cases_demo_df)\n",
    "head(total_demo)\n",
    "dim(total_demo)"
   ]
  },
  {
   "cell_type": "code",
   "execution_count": null,
   "metadata": {},
   "outputs": [],
   "source": [
    "colnames(total_demo)[1] <- \"person_id\"\n",
    "head(total_demo)"
   ]
  },
  {
   "cell_type": "code",
   "execution_count": null,
   "metadata": {},
   "outputs": [],
   "source": [
    "merged_treat_demo <- merge(total_treatment, total_demo, by=\"person_id\", all.x = TRUE)\n",
    "head(merged_treat_demo)\n",
    "dim(merged_treat_demo)"
   ]
  },
  {
   "cell_type": "markdown",
   "metadata": {},
   "source": [
    "# Factor"
   ]
  },
  {
   "cell_type": "markdown",
   "metadata": {},
   "source": [
    "## Sex At Birth"
   ]
  },
  {
   "cell_type": "code",
   "execution_count": null,
   "metadata": {},
   "outputs": [],
   "source": [
    "table(merged_treat_demo$Sex_at_Birth)"
   ]
  },
  {
   "cell_type": "code",
   "execution_count": null,
   "metadata": {},
   "outputs": [],
   "source": [
    "merged_treat_demo$Sex_at_Birth[merged_treat_demo$Sex_at_Birth\n",
    "                               == \"PMI_PreferNotToAnswer\" |\n",
    "                               merged_treat_demo$Sex_at_Birth\n",
    "                               == \"PMI_Skip\" | \n",
    "                               merged_treat_demo$Sex_at_Birth\n",
    "                               == \"SexAtBirth_Intersex\" |\n",
    "                               merged_treat_demo$Sex_at_Birth\n",
    "                               == \"SexAtBirth_SexAtBirthNoneOfThese\" |\n",
    "                               merged_treat_demo$Sex_at_Birth\n",
    "                               == \"Unspecified\" ] <- \"Other\"\n",
    "\n",
    "table(merged_treat_demo$Sex_at_Birth)"
   ]
  },
  {
   "cell_type": "code",
   "execution_count": null,
   "metadata": {},
   "outputs": [],
   "source": [
    "merged_treat_demo$Sex_at_Birth[merged_treat_demo$Sex_at_Birth\n",
    "                               == \"SexAtBirth_Female\"] <- \"Female\"\n",
    "merged_treat_demo$Sex_at_Birth[merged_treat_demo$Sex_at_Birth\n",
    "                               == \"SexAtBirth_Male\"] <- \"Male\"\n",
    "\n",
    "table(merged_treat_demo$Sex_at_Birth)"
   ]
  },
  {
   "cell_type": "code",
   "execution_count": null,
   "metadata": {},
   "outputs": [],
   "source": [
    "merged_treat_demo$f.sex <- factor(merged_treat_demo$Sex_at_Birth,\n",
    "                levels = c(\"Male\", \"Female\", \"Other\"))"
   ]
  },
  {
   "cell_type": "markdown",
   "metadata": {},
   "source": [
    "## Race"
   ]
  },
  {
   "cell_type": "code",
   "execution_count": null,
   "metadata": {},
   "outputs": [],
   "source": [
    "table(merged_treat_demo$Race)"
   ]
  },
  {
   "cell_type": "code",
   "execution_count": null,
   "metadata": {},
   "outputs": [],
   "source": [
    "merged_treat_demo$Race[merged_treat_demo$Race\n",
    "                               == \"AoUDRC_NoneIndicated\" |\n",
    "                               merged_treat_demo$Race\n",
    "                               == \"PMI_PreferNotToAnswer\" | \n",
    "                               merged_treat_demo$Race\n",
    "                               == \"WhatRaceEthnicity_GeneralizedMultPopulations\" |\n",
    "                               merged_treat_demo$Race\n",
    "                               == \"WhatRaceEthnicity_MENA\" |\n",
    "                               merged_treat_demo$Race\n",
    "                               == \"WhatRaceEthnicity_NHPI\" | \n",
    "                               merged_treat_demo$Race\n",
    "                               == \"PMI_Skip\" |\n",
    "                               merged_treat_demo$Race\n",
    "                               == \"WhatRaceEthnicity_RaceEthnicityNoneOfThese\" |\n",
    "                               merged_treat_demo$Race\n",
    "                               == \"WhatRaceEthnicity_NHPI\"] <- \"Other\"\n",
    "\n",
    "table(merged_treat_demo$Race)"
   ]
  },
  {
   "cell_type": "code",
   "execution_count": null,
   "metadata": {},
   "outputs": [],
   "source": [
    "merged_treat_demo$Race[merged_treat_demo$Race\n",
    "                               == \"WhatRaceEthnicity_Asian\"] <- \"Asian\"\n",
    "merged_treat_demo$Race[merged_treat_demo$Race\n",
    "                               == \"WhatRaceEthnicity_Black\"] <- \"Black\"\n",
    "merged_treat_demo$Race[merged_treat_demo$Race\n",
    "                               == \"WhatRaceEthnicity_White\"] <- \"White\"\n",
    "\n",
    "table(merged_treat_demo$Race)"
   ]
  },
  {
   "cell_type": "code",
   "execution_count": null,
   "metadata": {},
   "outputs": [],
   "source": [
    "merged_treat_demo$f.Race <- factor(merged_treat_demo$Race,\n",
    "                levels = c(\"White\", \"Black\", \"Asian\", \"Other\"))"
   ]
  },
  {
   "cell_type": "markdown",
   "metadata": {},
   "source": [
    "## Ethnicity"
   ]
  },
  {
   "cell_type": "code",
   "execution_count": null,
   "metadata": {},
   "outputs": [],
   "source": [
    "table(merged_treat_demo$Hispanic)"
   ]
  },
  {
   "cell_type": "code",
   "execution_count": null,
   "metadata": {},
   "outputs": [],
   "source": [
    "merged_treat_demo$Hispanic[merged_treat_demo$Hispanic\n",
    "                               == \"PMI_PreferNotToAnswer\" |\n",
    "                               merged_treat_demo$Hispanic\n",
    "                               == \"PMI_Skip\" | \n",
    "                               merged_treat_demo$Hispanic\n",
    "                               == \"WhatRaceEthnicity_RaceEthnicityNoneOfThese\"] <- \"Other\"\n",
    "\n",
    "table(merged_treat_demo$Hispanic)"
   ]
  },
  {
   "cell_type": "code",
   "execution_count": null,
   "metadata": {},
   "outputs": [],
   "source": [
    "merged_treat_demo$f.Ethnicity <- factor(merged_treat_demo$Hispanic,\n",
    "                levels = c(\"Not Hispanic\", \"Hispanic\", \"Other\"))"
   ]
  },
  {
   "cell_type": "code",
   "execution_count": null,
   "metadata": {},
   "outputs": [],
   "source": [
    "####### TAKE OUT NON-NECESSARY COLUMNS FROM MERGED_TREAT_DEMO"
   ]
  },
  {
   "cell_type": "code",
   "execution_count": null,
   "metadata": {},
   "outputs": [],
   "source": [
    "regression <- merged_treat_demo\n",
    "head(regression)"
   ]
  },
  {
   "cell_type": "code",
   "execution_count": null,
   "metadata": {},
   "outputs": [],
   "source": [
    "regression$gender_concept_id <- NULL\n",
    "regression$Gender <- NULL\n",
    "regression$gender_source_concept_id <- NULL\n",
    "regression$sex_at_birth_concept_id <- NULL\n",
    "regression$sex_at_birth_source_concept_id <- NULL\n",
    "regression$race_concept_id <- NULL\n",
    "regression$race_source_concept_id <- NULL\n",
    "regression$ethnicity_concept_id <- NULL\n",
    "regression$ethnicity_source_concept_id <- NULL\n",
    "regression$Age <- NULL\n",
    "regression$Age_Group <- NULL\n",
    "\n",
    "head(regression)\n",
    "dim(regression)"
   ]
  },
  {
   "cell_type": "markdown",
   "metadata": {},
   "source": [
    "## Age"
   ]
  },
  {
   "cell_type": "code",
   "execution_count": null,
   "metadata": {},
   "outputs": [],
   "source": [
    "# This snippet assumes that you run setup first\n",
    "\n",
    "# This code copies a file from your Google Bucket into a dataframe\n",
    "\n",
    "# replace 'test.csv' with the name of the file in your google bucket (don't delete the quotation marks)\n",
    "name_of_file_in_bucket <- 'acidosis_emergent_conditions_AG_10172023.csv'\n",
    "\n",
    "########################################################################\n",
    "##\n",
    "################# DON'T CHANGE FROM HERE ###############################\n",
    "##\n",
    "########################################################################\n",
    "\n",
    "# Get the bucket name\n",
    "my_bucket <- Sys.getenv('WORKSPACE_BUCKET')\n",
    "\n",
    "# Copy the file from current workspace to the bucket\n",
    "system(paste0(\"gsutil cp \", my_bucket, \"/data/\", name_of_file_in_bucket, \" .\"), intern=T)\n",
    "\n",
    "# Load the file into a dataframe\n",
    "acidosis.emergent  <- read_csv(name_of_file_in_bucket)\n",
    "head(acidosis.emergent)"
   ]
  },
  {
   "cell_type": "code",
   "execution_count": null,
   "metadata": {},
   "outputs": [],
   "source": [
    "acidosis <- acidosis.emergent %>%\n",
    "  select(PERSON_ID, VISIT_START_DATETIME)\n",
    "head(acidosis)\n",
    "dim(acidosis)"
   ]
  },
  {
   "cell_type": "code",
   "execution_count": null,
   "metadata": {},
   "outputs": [],
   "source": [
    "# This snippet assumes that you run setup first\n",
    "\n",
    "# This code copies a file from your Google Bucket into a dataframe\n",
    "\n",
    "# replace 'test.csv' with the name of the file in your google bucket (don't delete the quotation marks)\n",
    "name_of_file_in_bucket <- 'demographic_all.csv'\n",
    "\n",
    "\n",
    "########################################################################\n",
    "##\n",
    "################# DON'T CHANGE FROM HERE ###############################\n",
    "##\n",
    "########################################################################\n",
    "\n",
    " \n",
    "# Get the bucket name\n",
    "my_bucket <- Sys.getenv('WORKSPACE_BUCKET')\n",
    "\n",
    "\n",
    "# Copy the file from current workspace to the bucket\n",
    "system(paste0(\"gsutil cp \", my_bucket, \"/data/\", name_of_file_in_bucket, \" .\"), intern=T)\n",
    "\n",
    "\n",
    "# Load the file into a dataframe\n",
    "demo  <- read_csv(name_of_file_in_bucket)\n",
    "head(demo)"
   ]
  },
  {
   "cell_type": "code",
   "execution_count": null,
   "metadata": {},
   "outputs": [],
   "source": [
    "acidosis <- acidosis %>% \n",
    "       rename(person_id = PERSON_ID)\n",
    "head(acidosis)"
   ]
  },
  {
   "cell_type": "code",
   "execution_count": null,
   "metadata": {},
   "outputs": [],
   "source": [
    "acid_demo <- merge(acidosis, demo, by=\"person_id\", all.x = TRUE)\n",
    "head(acid_demo)\n",
    "dim(acid_demo)"
   ]
  },
  {
   "cell_type": "code",
   "execution_count": null,
   "metadata": {},
   "outputs": [],
   "source": [
    "acid_demo <- acid_demo %>%\n",
    "  select(person_id, VISIT_START_DATETIME, year_of_birth)\n",
    "head(acid_demo)\n",
    "dim(acid_demo)"
   ]
  },
  {
   "cell_type": "code",
   "execution_count": null,
   "metadata": {},
   "outputs": [],
   "source": [
    "acid_demo$Index_Age <- year(acid_demo$VISIT_START_DATETIME) - as.numeric(acid_demo$year_of_birth)\n",
    "head(acid_demo)\n",
    "# Index age: age at the initial acidosis date"
   ]
  },
  {
   "cell_type": "code",
   "execution_count": null,
   "metadata": {},
   "outputs": [],
   "source": [
    "acid_demo$Index_Date <- as.Date(acid_demo$VISIT_START_DATETIME)\n",
    "head(acid_demo)\n",
    "dim(acid_demo)"
   ]
  },
  {
   "cell_type": "code",
   "execution_count": null,
   "metadata": {},
   "outputs": [],
   "source": [
    "summary(acid_demo$Index_Date)"
   ]
  },
  {
   "cell_type": "code",
   "execution_count": null,
   "metadata": {},
   "outputs": [],
   "source": [
    "# This snippet assumes that you run setup first\n",
    "\n",
    "# This code copies a file from your Google Bucket into a dataframe\n",
    "\n",
    "# replace 'test.csv' with the name of the file in your google bucket (don't delete the quotation marks)\n",
    "name_of_file_in_bucket <- 'case_with_4controls_df_11032023_AG.fst'\n",
    "\n",
    "########################################################################\n",
    "##\n",
    "################# DON'T CHANGE FROM HERE ###############################\n",
    "##\n",
    "########################################################################\n",
    "\n",
    "# Get the bucket name\n",
    "my_bucket <- Sys.getenv('WORKSPACE_BUCKET')\n",
    "\n",
    "# Copy the file from current workspace to the bucket\n",
    "# system(paste0(\"gsutil cp \", my_bucket, \"/data/\", name_of_file_in_bucket, \" .\"), intern=T)\n",
    "\n",
    "# Load the file into a dataframe\n",
    "cases_with_4controls_df  <- read_fst(name_of_file_in_bucket)\n",
    "head(cases_with_4controls_df)"
   ]
  },
  {
   "cell_type": "code",
   "execution_count": null,
   "metadata": {},
   "outputs": [],
   "source": [
    "dim(cases_with_4controls_df)"
   ]
  },
  {
   "cell_type": "code",
   "execution_count": null,
   "metadata": {},
   "outputs": [],
   "source": [
    "cases_with_4controls_df$Cases1 <- cases_with_4controls_df$Cases\n",
    "head(cases_with_4controls_df)"
   ]
  },
  {
   "cell_type": "code",
   "execution_count": null,
   "metadata": {},
   "outputs": [],
   "source": [
    "library(tidyr)\n",
    "library(dplyr)\n",
    "library(readr)"
   ]
  },
  {
   "cell_type": "code",
   "execution_count": null,
   "metadata": {},
   "outputs": [],
   "source": [
    "cases_4controls_df <- cases_with_4controls_df %>% \n",
    "  pivot_longer(\n",
    "    cols = !Cases)\n",
    "head(cases_4controls_df)\n",
    "dim(cases_4controls_df)"
   ]
  },
  {
   "cell_type": "code",
   "execution_count": null,
   "metadata": {},
   "outputs": [],
   "source": [
    "# Trying to find patient's age at the index date \n",
    "# need to merge the cases - name - value with the df that contains index date - merge based on \n",
    "## the cases + patient ID"
   ]
  },
  {
   "cell_type": "code",
   "execution_count": null,
   "metadata": {},
   "outputs": [],
   "source": [
    "colnames(acid_demo)[1] <- \"Cases\""
   ]
  },
  {
   "cell_type": "code",
   "execution_count": null,
   "metadata": {},
   "outputs": [],
   "source": [
    "head(acid_demo)\n",
    "dim(acid_demo)"
   ]
  },
  {
   "cell_type": "code",
   "execution_count": null,
   "metadata": {},
   "outputs": [],
   "source": [
    "test <- merge(cases_4controls_df, acid_demo, by=\"Cases\", all.x = TRUE)\n",
    "head(test)\n",
    "dim(test)"
   ]
  },
  {
   "cell_type": "code",
   "execution_count": null,
   "metadata": {},
   "outputs": [],
   "source": [
    "test$year_of_birth <- NULL\n",
    "test$Index_Age <- NULL\n",
    "head(test)"
   ]
  },
  {
   "cell_type": "code",
   "execution_count": null,
   "metadata": {},
   "outputs": [],
   "source": [
    "length(unique(test$Cases))"
   ]
  },
  {
   "cell_type": "code",
   "execution_count": null,
   "metadata": {},
   "outputs": [],
   "source": [
    "length(unique(test$value))"
   ]
  },
  {
   "cell_type": "code",
   "execution_count": null,
   "metadata": {},
   "outputs": [],
   "source": [
    "test$Cases <- NULL\n",
    "test$name <- NULL\n",
    "head(test)"
   ]
  },
  {
   "cell_type": "code",
   "execution_count": null,
   "metadata": {},
   "outputs": [],
   "source": [
    "colnames(test)[1] <- \"person_id\"\n",
    "head(test)"
   ]
  },
  {
   "cell_type": "code",
   "execution_count": null,
   "metadata": {},
   "outputs": [],
   "source": [
    "# Now need to merge with demo data for age at index date\n",
    "index_date_age <- merge(test, demo[,c(\"person_id\", \"year_of_birth\")], by=\"person_id\", all.x = TRUE)\n",
    "head(index_date_age)\n",
    "dim(index_date_age)"
   ]
  },
  {
   "cell_type": "code",
   "execution_count": null,
   "metadata": {},
   "outputs": [],
   "source": [
    "index_date_age$Index_Age <- year(index_date_age$Index_Date) - as.numeric(index_date_age$year_of_birth)\n",
    "head(index_date_age)"
   ]
  },
  {
   "cell_type": "code",
   "execution_count": null,
   "metadata": {},
   "outputs": [],
   "source": [
    "# This snippet assumes that you run setup first\n",
    "\n",
    "# This code saves your dataframe into a csv file in a \"data\" folder in Google Bucket\n",
    "\n",
    "# Replace df with THE NAME OF YOUR DATAFRAME\n",
    "my_dataframe <- index_date_age\n",
    "\n",
    "# Replace 'test.csv' with THE NAME of the file you're going to store in the bucket (don't delete the quotation marks)\n",
    "destination_filename <- 'index_date_age_11032023_AG.fst'\n",
    "\n",
    "########################################################################\n",
    "##\n",
    "################# DON'T CHANGE FROM HERE ###############################\n",
    "##\n",
    "########################################################################\n",
    "\n",
    "# store the dataframe in current workspace\n",
    "write_fst(my_dataframe, destination_filename)\n",
    "\n",
    "# Get the bucket name\n",
    "my_bucket <- Sys.getenv('WORKSPACE_BUCKET')\n",
    "\n",
    "# Copy the file from current workspace to the bucket\n",
    "system(paste0(\"gsutil cp ./\", destination_filename, \" \", my_bucket, \"/data/\"), intern=T)\n",
    "\n",
    "# Check if file is in the bucket\n",
    "system(paste0(\"gsutil ls \", my_bucket, \"/data/*.fst\"), intern=T)"
   ]
  },
  {
   "cell_type": "code",
   "execution_count": null,
   "metadata": {},
   "outputs": [],
   "source": [
    "# Create a factor\n",
    "test_case <- case_when(\n",
    "  index_date_age$Index_Age < 45 ~ \"<45\",\n",
    "  index_date_age$Index_Age >= 45 & index_date_age$Index_Age < 55 ~ \"45-54\",\n",
    "  index_date_age$Index_Age >= 55 & index_date_age$Index_Age < 65 ~ \"55-64\",\n",
    "  index_date_age$Index_Age >= 65 ~ \"65+\")"
   ]
  },
  {
   "cell_type": "code",
   "execution_count": null,
   "metadata": {},
   "outputs": [],
   "source": [
    "table(test_case)"
   ]
  },
  {
   "cell_type": "code",
   "execution_count": null,
   "metadata": {},
   "outputs": [],
   "source": [
    "index_date_age$Index_Age_Group <- case_when(\n",
    "  index_date_age$Index_Age < 45 ~ \"<45\",\n",
    "  index_date_age$Index_Age >= 45 & index_date_age$Index_Age < 55 ~ \"45-54\",\n",
    "  index_date_age$Index_Age >= 55 & index_date_age$Index_Age < 65 ~ \"55-64\",\n",
    "  index_date_age$Index_Age >= 65 ~ \"65+\")\n",
    "head(index_date_age)"
   ]
  },
  {
   "cell_type": "code",
   "execution_count": null,
   "metadata": {},
   "outputs": [],
   "source": [
    "table(index_date_age$Index_Age_Group[index_date_age$person_id %in% \n",
    "                                     regression$person_id[regression$Treatment == 1]])"
   ]
  },
  {
   "cell_type": "code",
   "execution_count": null,
   "metadata": {},
   "outputs": [],
   "source": [
    "head(regression)"
   ]
  },
  {
   "cell_type": "code",
   "execution_count": null,
   "metadata": {},
   "outputs": [],
   "source": [
    "regression <- merge(regression, index_date_age[,c(\"person_id\", \"Index_Age\", \"Index_Age_Group\")], by=\"person_id\", all.x = TRUE)\n",
    "head(regression)\n",
    "dim(regression)"
   ]
  },
  {
   "cell_type": "code",
   "execution_count": null,
   "metadata": {},
   "outputs": [],
   "source": [
    "regression$f.age <- factor(regression$Index_Age_Group,\n",
    "                levels = c(\"<45\", \"45-54\", \"55-64\", \"65+\"))\n",
    "head(regression)"
   ]
  },
  {
   "cell_type": "markdown",
   "metadata": {},
   "source": [
    "## Comorbidities"
   ]
  },
  {
   "cell_type": "markdown",
   "metadata": {},
   "source": [
    "### Load Dataset"
   ]
  },
  {
   "cell_type": "code",
   "execution_count": null,
   "metadata": {},
   "outputs": [],
   "source": [
    "# Upload the comorbidities csv file\n",
    "\n",
    "# This snippet assumes that you run setup first\n",
    "\n",
    "# This code copies a file from your Google Bucket into a dataframe\n",
    "\n",
    "# replace 'test.csv' with the name of the file in your google bucket (don't delete the quotation marks)\n",
    "name_of_file_in_bucket <- 'AUD_Summary_Comorbidity_v2.csv'\n",
    "\n",
    "########################################################################\n",
    "##\n",
    "################# DON'T CHANGE FROM HERE ###############################\n",
    "##\n",
    "########################################################################\n",
    "\n",
    "# Get the bucket name\n",
    "my_bucket <- Sys.getenv('WORKSPACE_BUCKET')\n",
    "\n",
    "# Copy the file from current workspace to the bucket\n",
    "system(paste0(\"gsutil cp \", my_bucket, \"/data/\", name_of_file_in_bucket, \" .\"), intern=T)\n",
    "\n",
    "# Load the file into a dataframe\n",
    "como  <- read_csv(name_of_file_in_bucket)\n",
    "head(como)"
   ]
  },
  {
   "cell_type": "code",
   "execution_count": null,
   "metadata": {},
   "outputs": [],
   "source": [
    "colnames(como)"
   ]
  },
  {
   "cell_type": "code",
   "execution_count": null,
   "metadata": {},
   "outputs": [],
   "source": [
    "como_regression <- como[,c(\"person_id\", \"Myocardial_Infarction\", \"Congestive_Heart_Failure\", \n",
    "                           \"Peripheral_Vascular_Disease\", \"Cerebrovascular_Disease\",\n",
    "                           \"Dementia\", \"Chronic_Pulmonary_Disease\",\n",
    "                           \"Rheumatic_Disease\", \"Peptic_Ulcer_Disease\",\n",
    "                           \"Liver_Disease_Mild\", \"Liver_Disease_Moderate_Severe\",\n",
    "                           \"Diabetes_without_Chronic_Complications\", \"Diabetes_with_Chronic_Complications\",\n",
    "                           \"Hemiplegia_Paraplegia\", \"Renal_Disease_Mild_Moderate\",\n",
    "                           \"Renal_Disease_Severe\", \"HIV\", \n",
    "                           \"Metastatic_Solid_Tumor\", \"Malignancy\", \"AIDS\")]\n",
    "head(como_regression)"
   ]
  },
  {
   "cell_type": "markdown",
   "metadata": {},
   "source": [
    "### Trump Rules"
   ]
  },
  {
   "cell_type": "code",
   "execution_count": null,
   "metadata": {},
   "outputs": [],
   "source": [
    "# Hemiplegia/paraplegia trumps cerebrovascular disease\n",
    "como_regression$Cerebrovascular_Disease[como_regression$Hemiplegia_Paraplegia %in% 1] = 0"
   ]
  },
  {
   "cell_type": "code",
   "execution_count": null,
   "metadata": {},
   "outputs": [],
   "source": [
    "table(como_regression$Cerebrovascular_Disease)"
   ]
  },
  {
   "cell_type": "code",
   "execution_count": null,
   "metadata": {},
   "outputs": [],
   "source": [
    "table(como$Cerebrovascular_Disease)"
   ]
  },
  {
   "cell_type": "code",
   "execution_count": null,
   "metadata": {},
   "outputs": [],
   "source": [
    "# Liver disease, moderate-severe trumps liver disease, mild\n",
    "como_regression$Liver_Disease_Mild[como_regression$Liver_Disease_Moderate_Severe %in% 1] = 0"
   ]
  },
  {
   "cell_type": "code",
   "execution_count": null,
   "metadata": {},
   "outputs": [],
   "source": [
    "table(como_regression$Liver_Disease_Mild)"
   ]
  },
  {
   "cell_type": "code",
   "execution_count": null,
   "metadata": {},
   "outputs": [],
   "source": [
    "table(como$Liver_Disease_Mild)"
   ]
  },
  {
   "cell_type": "code",
   "execution_count": null,
   "metadata": {},
   "outputs": [],
   "source": [
    "# Diabetes with complications trumps Diabetes, uncomplicated\n",
    "como_regression$Diabetes_without_Chronic_Complications[como_regression$Diabetes_with_Chronic_Complications %in% 1] = 0"
   ]
  },
  {
   "cell_type": "code",
   "execution_count": null,
   "metadata": {},
   "outputs": [],
   "source": [
    "table(como_regression$Diabetes_without_Chronic_Complications)"
   ]
  },
  {
   "cell_type": "code",
   "execution_count": null,
   "metadata": {},
   "outputs": [],
   "source": [
    "table(como$Diabetes_without_Chronic_Complications)"
   ]
  },
  {
   "cell_type": "code",
   "execution_count": null,
   "metadata": {},
   "outputs": [],
   "source": [
    "# Renal disease severe trumps Renal disease, mild moderate\n",
    "como_regression$Renal_Disease_Mild_Moderate[como_regression$Renal_Disease_Severe %in% 1] = 0"
   ]
  },
  {
   "cell_type": "code",
   "execution_count": null,
   "metadata": {},
   "outputs": [],
   "source": [
    "table(como_regression$Renal_Disease_Mild_Moderate)"
   ]
  },
  {
   "cell_type": "code",
   "execution_count": null,
   "metadata": {},
   "outputs": [],
   "source": [
    "table(como$Renal_Disease_Mild_Moderate)"
   ]
  },
  {
   "cell_type": "code",
   "execution_count": null,
   "metadata": {},
   "outputs": [],
   "source": [
    "# Metastatic Solid Tumor trumps malignancy\n",
    "como_regression$Malignancy[como_regression$Metastatic_Solid_Tumor %in% 1] = 0"
   ]
  },
  {
   "cell_type": "code",
   "execution_count": null,
   "metadata": {},
   "outputs": [],
   "source": [
    "table(como_regression$Malignancy)"
   ]
  },
  {
   "cell_type": "code",
   "execution_count": null,
   "metadata": {},
   "outputs": [],
   "source": [
    "table(como$Malignancy)"
   ]
  },
  {
   "cell_type": "code",
   "execution_count": null,
   "metadata": {},
   "outputs": [],
   "source": [
    "# AIDS Trumps HIV\n",
    "como_regression$HIV[como_regression$AIDS %in% 1] = 0"
   ]
  },
  {
   "cell_type": "code",
   "execution_count": null,
   "metadata": {},
   "outputs": [],
   "source": [
    "table(como_regression$HIV)"
   ]
  },
  {
   "cell_type": "code",
   "execution_count": null,
   "metadata": {},
   "outputs": [],
   "source": [
    "table(como$HIV)"
   ]
  },
  {
   "cell_type": "code",
   "execution_count": null,
   "metadata": {},
   "outputs": [],
   "source": [
    "# merge this table with regression\n",
    "regression <- merge(regression, como_regression, by=\"person_id\", all.x = TRUE)\n",
    "head(regression)\n",
    "dim(regression)"
   ]
  },
  {
   "cell_type": "markdown",
   "metadata": {},
   "source": [
    "## Metformin Use"
   ]
  },
  {
   "cell_type": "code",
   "execution_count": null,
   "metadata": {},
   "outputs": [],
   "source": [
    "download_data <- function(query) {\n",
    "    tb <- bq_project_query(Sys.getenv('GOOGLE_PROJECT'), query)\n",
    "    bq_table_download(tb)\n",
    "}"
   ]
  },
  {
   "cell_type": "code",
   "execution_count": null,
   "metadata": {},
   "outputs": [],
   "source": [
    "dataset <- Sys.getenv(\"WORKSPACE_CDR\")\n",
    "drug_pid <- download_data(str_glue(\"SELECT distinct person_id\n",
    "                                FROM {dataset}.drug_exposure ORDER BY person_id\"))"
   ]
  },
  {
   "cell_type": "code",
   "execution_count": null,
   "metadata": {},
   "outputs": [],
   "source": [
    "dim(drug_pid)\n",
    "head(drug_pid)"
   ]
  },
  {
   "cell_type": "code",
   "execution_count": null,
   "metadata": {},
   "outputs": [],
   "source": [
    "length(intersect(regression$person_id, unlist(drug_pid)))"
   ]
  },
  {
   "cell_type": "code",
   "execution_count": null,
   "metadata": {},
   "outputs": [],
   "source": [
    "class(regression$person_id[1])"
   ]
  },
  {
   "cell_type": "code",
   "execution_count": null,
   "metadata": {},
   "outputs": [],
   "source": [
    "metformin_regression <- regression[regression$person_id %in% unlist(drug_pid),]"
   ]
  },
  {
   "cell_type": "code",
   "execution_count": null,
   "metadata": {},
   "outputs": [],
   "source": [
    "dim(metformin_regression)"
   ]
  },
  {
   "cell_type": "code",
   "execution_count": null,
   "metadata": {},
   "outputs": [],
   "source": [
    "# This snippet assumes that you run setup first\n",
    "\n",
    "# This code copies a file from your Google Bucket into a dataframe\n",
    "\n",
    "# replace 'test.csv' with the name of the file in your google bucket (don't delete the quotation marks)\n",
    "name_of_file_in_bucket <- 'Metformin_Medication_AG_10122023.csv'\n",
    "\n",
    "########################################################################\n",
    "##\n",
    "################# DON'T CHANGE FROM HERE ###############################\n",
    "##\n",
    "########################################################################\n",
    "\n",
    "# Get the bucket name\n",
    "my_bucket <- Sys.getenv('WORKSPACE_BUCKET')\n",
    "\n",
    "# Copy the file from current workspace to the bucket\n",
    "system(paste0(\"gsutil cp \", my_bucket, \"/data/\", name_of_file_in_bucket, \" .\"), intern=T)\n",
    "\n",
    "# Load the file into a dataframe\n",
    "metformin_df  <- read_csv(name_of_file_in_bucket)\n",
    "head(metformin_df)"
   ]
  },
  {
   "cell_type": "code",
   "execution_count": null,
   "metadata": {},
   "outputs": [],
   "source": [
    "dim(metformin_df)"
   ]
  },
  {
   "cell_type": "code",
   "execution_count": null,
   "metadata": {},
   "outputs": [],
   "source": [
    "metformin_cohort <- metformin_df[metformin_df$person_id %in% regression$person_id,]\n",
    "head(metformin_cohort)\n",
    "dim(metformin_cohort)"
   ]
  },
  {
   "cell_type": "code",
   "execution_count": null,
   "metadata": {},
   "outputs": [],
   "source": [
    "length(unique(metformin_cohort$person_id))"
   ]
  },
  {
   "cell_type": "code",
   "execution_count": null,
   "metadata": {},
   "outputs": [],
   "source": [
    "head(index_date_age)"
   ]
  },
  {
   "cell_type": "code",
   "execution_count": null,
   "metadata": {},
   "outputs": [],
   "source": [
    "merged_metformin_index_date <- merge(metformin_cohort[,c(\"person_id\", \"drug_exposure_start_datetime\")],\n",
    "                                     index_date_age[,c(\"person_id\", \"Index_Date\")],\n",
    "                                     by=\"person_id\", all.x = TRUE)\n",
    "head(merged_metformin_index_date)\n",
    "dim(merged_metformin_index_date)"
   ]
  },
  {
   "cell_type": "code",
   "execution_count": null,
   "metadata": {},
   "outputs": [],
   "source": [
    "sum(is.na(merged_metformin_index_date$drug_exposure_start_datetime))"
   ]
  },
  {
   "cell_type": "code",
   "execution_count": null,
   "metadata": {},
   "outputs": [],
   "source": [
    "length(unique(merged_metformin_index_date$person_id))"
   ]
  },
  {
   "cell_type": "code",
   "execution_count": null,
   "metadata": {},
   "outputs": [],
   "source": [
    "merged_metformin_index_date$Drug_Exposure_Date <- as.Date(merged_metformin_index_date$drug_exposure_start_datetime)\n",
    "head(merged_metformin_index_date)\n",
    "dim(merged_metformin_index_date)"
   ]
  },
  {
   "cell_type": "code",
   "execution_count": null,
   "metadata": {},
   "outputs": [],
   "source": [
    "merged_metformin_index_date$Time_Diff <- difftime(merged_metformin_index_date$Drug_Exposure_Date,\n",
    "                                                  merged_metformin_index_date$Index_Date,\n",
    "                                                 units = c(\"days\"))\n",
    "head(merged_metformin_index_date)"
   ]
  },
  {
   "cell_type": "code",
   "execution_count": null,
   "metadata": {},
   "outputs": [],
   "source": [
    "# unit = days, convert to as.numeric \n",
    "merged_metformin_index_date$Time_Diff <- as.numeric(merged_metformin_index_date$Time_Diff)\n",
    "head(merged_metformin_index_date)"
   ]
  },
  {
   "cell_type": "code",
   "execution_count": null,
   "metadata": {},
   "outputs": [],
   "source": [
    "summary(merged_metformin_index_date$Time_Diff)"
   ]
  },
  {
   "cell_type": "code",
   "execution_count": null,
   "metadata": {},
   "outputs": [],
   "source": [
    "metformin_evidence <- subset(merged_metformin_index_date,\n",
    "                   merged_metformin_index_date$Time_Diff >= -180\n",
    "                   & merged_metformin_index_date$Time_Diff <= 5)\n",
    "head(metformin_evidence)\n",
    "dim(metformin_evidence)"
   ]
  },
  {
   "cell_type": "code",
   "execution_count": null,
   "metadata": {},
   "outputs": [],
   "source": [
    "metformin_evidence <- metformin_evidence[!duplicated(metformin_evidence$person_id),]\n",
    "head(metformin_evidence)\n",
    "dim(metformin_evidence)"
   ]
  },
  {
   "cell_type": "code",
   "execution_count": null,
   "metadata": {},
   "outputs": [],
   "source": [
    "# Create new column in which Metformin = 1\n",
    "metformin_evidence <- metformin_evidence %>%\n",
    "  mutate(Metformin = 1)\n",
    "head(metformin_evidence)"
   ]
  },
  {
   "cell_type": "code",
   "execution_count": null,
   "metadata": {},
   "outputs": [],
   "source": [
    "# This snippet assumes that you run setup first\n",
    "\n",
    "# This code saves your dataframe into a csv file in a \"data\" folder in Google Bucket\n",
    "\n",
    "# Replace df with THE NAME OF YOUR DATAFRAME\n",
    "my_dataframe <- metformin_evidence\n",
    "\n",
    "# Replace 'test.csv' with THE NAME of the file you're going to store in the bucket (don't delete the quotation marks)\n",
    "destination_filename <- 'metformin_evidence_11032023_AG.fst'\n",
    "\n",
    "########################################################################\n",
    "##\n",
    "################# DON'T CHANGE FROM HERE ###############################\n",
    "##\n",
    "########################################################################\n",
    "\n",
    "# store the dataframe in current workspace\n",
    "write_fst(my_dataframe, destination_filename)\n",
    "\n",
    "# Get the bucket name\n",
    "my_bucket <- Sys.getenv('WORKSPACE_BUCKET')\n",
    "\n",
    "# Copy the file from current workspace to the bucket\n",
    "system(paste0(\"gsutil cp ./\", destination_filename, \" \", my_bucket, \"/data/\"), intern=T)\n",
    "\n",
    "# Check if file is in the bucket\n",
    "system(paste0(\"gsutil ls \", my_bucket, \"/data/*.fst\"), intern=T)"
   ]
  },
  {
   "cell_type": "code",
   "execution_count": null,
   "metadata": {},
   "outputs": [],
   "source": [
    "# Find the patient IDs that do not have metformin use\n",
    "# Upload the propensity dataframe\n",
    "\n",
    "# This snippet assumes that you run setup first\n",
    "\n",
    "# This code copies a file from your Google Bucket into a dataframe\n",
    "\n",
    "# replace 'test.csv' with the name of the file in your google bucket (don't delete the quotation marks)\n",
    "name_of_file_in_bucket <- 'propensity_matching_df_11032023AG.fst'\n",
    "\n",
    "########################################################################\n",
    "##\n",
    "################# DON'T CHANGE FROM HERE ###############################\n",
    "##\n",
    "########################################################################\n",
    "\n",
    "# Get the bucket name\n",
    "my_bucket <- Sys.getenv('WORKSPACE_BUCKET')\n",
    "\n",
    "# Copy the file from current workspace to the bucket\n",
    "system(paste0(\"gsutil cp \", my_bucket, \"/data/\", name_of_file_in_bucket, \" .\"), intern=T)\n",
    "\n",
    "# Load the file into a dataframe\n",
    "propensity_complete  <- read_fst(name_of_file_in_bucket)\n",
    "head(propensity_complete)"
   ]
  },
  {
   "cell_type": "code",
   "execution_count": null,
   "metadata": {},
   "outputs": [],
   "source": [
    "dim(propensity_complete)"
   ]
  },
  {
   "cell_type": "code",
   "execution_count": null,
   "metadata": {},
   "outputs": [],
   "source": [
    "no_metformin <- setdiff(propensity_complete$person_id, metformin_evidence$person_id)\n",
    "head(no_metformin)"
   ]
  },
  {
   "cell_type": "code",
   "execution_count": null,
   "metadata": {},
   "outputs": [],
   "source": [
    "length(intersect(unlist(no_metformin), metformin_evidence$person_id))"
   ]
  },
  {
   "cell_type": "code",
   "execution_count": null,
   "metadata": {},
   "outputs": [],
   "source": [
    "no_metformin <- data.frame(no_metformin)\n",
    "colnames(no_metformin)[1] <- \"person_id\"\n",
    "head(no_metformin)"
   ]
  },
  {
   "cell_type": "code",
   "execution_count": null,
   "metadata": {},
   "outputs": [],
   "source": [
    "no_metformin <- no_metformin %>%\n",
    "  mutate(Metformin = 0)\n",
    "head(no_metformin)\n",
    "dim(no_metformin)"
   ]
  },
  {
   "cell_type": "code",
   "execution_count": null,
   "metadata": {},
   "outputs": [],
   "source": [
    "head(metformin_evidence)"
   ]
  },
  {
   "cell_type": "code",
   "execution_count": null,
   "metadata": {},
   "outputs": [],
   "source": [
    "metformin_evidence_pid <- metformin_evidence[,c(\"person_id\",\"Metformin\")]\n",
    "head(metformin_evidence_pid)\n",
    "dim(metformin_evidence_pid)"
   ]
  },
  {
   "cell_type": "code",
   "execution_count": null,
   "metadata": {},
   "outputs": [],
   "source": [
    "combined_metformin_usage <- rbind(no_metformin, metformin_evidence_pid)\n",
    "head(combined_metformin_usage)\n",
    "dim(combined_metformin_usage)"
   ]
  },
  {
   "cell_type": "code",
   "execution_count": null,
   "metadata": {},
   "outputs": [],
   "source": [
    "head(regression)\n",
    "dim(regression)"
   ]
  },
  {
   "cell_type": "code",
   "execution_count": null,
   "metadata": {},
   "outputs": [],
   "source": [
    "regression <- merge(regression, combined_metformin_usage, by=\"person_id\", all.x = TRUE)\n",
    "head(regression)\n",
    "dim(regression)"
   ]
  },
  {
   "cell_type": "code",
   "execution_count": null,
   "metadata": {},
   "outputs": [],
   "source": [
    "table(regression$Metformin)"
   ]
  },
  {
   "cell_type": "markdown",
   "metadata": {},
   "source": [
    "# Regression Base Model"
   ]
  },
  {
   "cell_type": "code",
   "execution_count": null,
   "metadata": {},
   "outputs": [],
   "source": [
    "# THIS DATAFRAME HAS NA VALUES: DO NOT USE IN FINAL ANALYSIS. SEE C-LOGIT BM FOR OFFICIAL DF.\n",
    "\n",
    "# This snippet assumes that you run setup first\n",
    "\n",
    "# This code saves your dataframe into a csv file in a \"data\" folder in Google Bucket\n",
    "\n",
    "# Replace df with THE NAME OF YOUR DATAFRAME\n",
    "my_dataframe <- regression\n",
    "\n",
    "# Replace 'test.csv' with THE NAME of the file you're going to store in the bucket (don't delete the quotation marks)\n",
    "destination_filename <- 'regression_df_11032023_AG.fst'\n",
    "\n",
    "########################################################################\n",
    "##\n",
    "################# DON'T CHANGE FROM HERE ###############################\n",
    "##\n",
    "########################################################################\n",
    "\n",
    "# store the dataframe in current workspace\n",
    "write_fst(my_dataframe, destination_filename)\n",
    "\n",
    "# Get the bucket name\n",
    "my_bucket <- Sys.getenv('WORKSPACE_BUCKET')\n",
    "\n",
    "# Copy the file from current workspace to the bucket\n",
    "system(paste0(\"gsutil cp ./\", destination_filename, \" \", my_bucket, \"/data/\"), intern=T)\n",
    "\n",
    "# Check if file is in the bucket\n",
    "system(paste0(\"gsutil ls \", my_bucket, \"/data/*.fst\"), intern=T)"
   ]
  },
  {
   "cell_type": "code",
   "execution_count": null,
   "metadata": {},
   "outputs": [],
   "source": [
    "# This snippet assumes that you run setup first\n",
    "\n",
    "# This code copies a file from your Google Bucket into a dataframe\n",
    "\n",
    "# replace 'test.csv' with the name of the file in your google bucket (don't delete the quotation marks)\n",
    "name_of_file_in_bucket <- 'regression_df_11032023_AG.fst'\n",
    "\n",
    "########################################################################\n",
    "##\n",
    "################# DON'T CHANGE FROM HERE ###############################\n",
    "##\n",
    "########################################################################\n",
    "\n",
    "# Get the bucket name\n",
    "my_bucket <- Sys.getenv('WORKSPACE_BUCKET')\n",
    "\n",
    "# Copy the file from current workspace to the bucket\n",
    "system(paste0(\"gsutil cp \", my_bucket, \"/data/\", name_of_file_in_bucket, \" .\"), intern=T)\n",
    "\n",
    "# Load the file into a dataframe\n",
    "regression  <- read_fst(name_of_file_in_bucket)\n",
    "head(regression)"
   ]
  },
  {
   "cell_type": "code",
   "execution_count": null,
   "metadata": {},
   "outputs": [],
   "source": [
    "# For chenxi: Create a table that just has the PIDs\n",
    "complete_cohort_pid_only <- regression[,c(\"person_id\")]\n",
    "dim(complete_cohort_pid_only)\n",
    "head(complete_cohort_pid_only)\n",
    "length(unique(complete_cohort_pid_only))"
   ]
  },
  {
   "cell_type": "code",
   "execution_count": null,
   "metadata": {},
   "outputs": [],
   "source": [
    "complete_cohort_pid_only <- data.frame(complete_cohort_pid_only)\n",
    "head(complete_cohort_pid_only)\n",
    "dim(complete_cohort_pid_only)"
   ]
  },
  {
   "cell_type": "code",
   "execution_count": null,
   "metadata": {},
   "outputs": [],
   "source": [
    "# This snippet assumes that you run setup first\n",
    "\n",
    "# This code saves your dataframe into a csv file in a \"data\" folder in Google Bucket\n",
    "\n",
    "# Replace df with THE NAME OF YOUR DATAFRAME\n",
    "my_dataframe <- complete_cohort_pid_only\n",
    "\n",
    "# Replace 'test.csv' with THE NAME of the file you're going to store in the bucket (don't delete the quotation marks)\n",
    "destination_filename <- 'complete_cohort_pid_only_11032023_AG.csv'\n",
    "\n",
    "########################################################################\n",
    "##\n",
    "################# DON'T CHANGE FROM HERE ###############################\n",
    "##\n",
    "########################################################################\n",
    "\n",
    "# store the dataframe in current workspace\n",
    "write_csv(my_dataframe, destination_filename)\n",
    "\n",
    "# Get the bucket name\n",
    "my_bucket <- Sys.getenv('WORKSPACE_BUCKET')\n",
    "\n",
    "# Copy the file from current workspace to the bucket\n",
    "system(paste0(\"gsutil cp ./\", destination_filename, \" \", my_bucket, \"/data/\"), intern=T)\n",
    "\n",
    "# Check if file is in the bucket\n",
    "system(paste0(\"gsutil ls \", my_bucket, \"/data/*.csv\"), intern=T)"
   ]
  },
  {
   "cell_type": "markdown",
   "metadata": {},
   "source": [
    "# Logistic Regression: BM"
   ]
  },
  {
   "cell_type": "code",
   "execution_count": null,
   "metadata": {},
   "outputs": [],
   "source": [
    "head(regression)\n",
    "dim(regression)"
   ]
  },
  {
   "cell_type": "code",
   "execution_count": null,
   "metadata": {},
   "outputs": [],
   "source": [
    "colnames(regression)"
   ]
  },
  {
   "cell_type": "code",
   "execution_count": null,
   "metadata": {},
   "outputs": [],
   "source": [
    "input <- regression[,c(\"Treatment\",\"f.sex\",\"f.Race\",\"f.Ethnicity\", \"f.age\", \"Metformin\",\n",
    "                      \"Myocardial_Infarction\",\n",
    "                      \"Congestive_Heart_Failure\", \"Peripheral_Vascular_Disease\", \n",
    "                      \"Cerebrovascular_Disease\", \"Cerebrovascular_Disease\", \"Dementia\",\n",
    "                      \"Chronic_Pulmonary_Disease\", \"Rheumatic_Disease\", \"Peptic_Ulcer_Disease\",\n",
    "                      \"Liver_Disease_Mild\", \"Liver_Disease_Moderate_Severe\", \n",
    "                      \"Diabetes_without_Chronic_Complications\",\n",
    "                      \"Diabetes_with_Chronic_Complications\",\n",
    "                      \"Hemiplegia_Paraplegia\", \"Renal_Disease_Mild_Moderate\",\n",
    "                      \"Renal_Disease_Severe\", \"HIV\", \"Metastatic_Solid_Tumor\", \"Malignancy\",\n",
    "                      \"AIDS\")]\n",
    "\n",
    "am.data = glm(formula = Treatment ~ f.sex + f.Race + f.Ethnicity + f.age + Metformin +\n",
    "                Myocardial_Infarction +\n",
    "                Congestive_Heart_Failure + Peripheral_Vascular_Disease +\n",
    "                Cerebrovascular_Disease + Cerebrovascular_Disease + Dementia +\n",
    "                Chronic_Pulmonary_Disease + Rheumatic_Disease + Peptic_Ulcer_Disease +\n",
    "                Liver_Disease_Mild + Liver_Disease_Moderate_Severe +  \n",
    "                Diabetes_without_Chronic_Complications + Diabetes_with_Chronic_Complications + \n",
    "                Hemiplegia_Paraplegia + Renal_Disease_Mild_Moderate + \n",
    "                Renal_Disease_Severe + HIV + Metastatic_Solid_Tumor + Malignancy + AIDS,\n",
    "              data = input, family = binomial)\n",
    "\n",
    "print(summary(am.data))"
   ]
  },
  {
   "cell_type": "markdown",
   "metadata": {},
   "source": [
    "# C-Logit: BM"
   ]
  },
  {
   "cell_type": "code",
   "execution_count": null,
   "metadata": {},
   "outputs": [],
   "source": [
    "library(survival)"
   ]
  },
  {
   "cell_type": "code",
   "execution_count": null,
   "metadata": {},
   "outputs": [],
   "source": [
    "# This snippet assumes that you run setup first\n",
    "\n",
    "# This code copies a file from your Google Bucket into a dataframe\n",
    "\n",
    "# replace 'test.csv' with the name of the file in your google bucket (don't delete the quotation marks)\n",
    "name_of_file_in_bucket <- 'case_with_4controls_df_11032023_AG.fst'\n",
    "\n",
    "########################################################################\n",
    "##\n",
    "################# DON'T CHANGE FROM HERE ###############################\n",
    "##\n",
    "########################################################################\n",
    "\n",
    "# Get the bucket name\n",
    "my_bucket <- Sys.getenv('WORKSPACE_BUCKET')\n",
    "\n",
    "# Copy the file from current workspace to the bucket\n",
    "# system(paste0(\"gsutil cp \", my_bucket, \"/data/\", name_of_file_in_bucket, \" .\"), intern=T)\n",
    "\n",
    "# Load the file into a dataframe\n",
    "cases_with_4controls_wide  <- read_fst(name_of_file_in_bucket)\n",
    "head(cases_with_4controls_wide)"
   ]
  },
  {
   "cell_type": "code",
   "execution_count": null,
   "metadata": {},
   "outputs": [],
   "source": [
    "cases_with_4controls_wide$stratum <- 1:nrow(cases_with_4controls_wide)\n",
    "head(cases_with_4controls_wide)"
   ]
  },
  {
   "cell_type": "code",
   "execution_count": null,
   "metadata": {},
   "outputs": [],
   "source": [
    "head(cases_4controls_df)"
   ]
  },
  {
   "cell_type": "code",
   "execution_count": null,
   "metadata": {},
   "outputs": [],
   "source": [
    "dim(cases_4controls_df)"
   ]
  },
  {
   "cell_type": "code",
   "execution_count": null,
   "metadata": {},
   "outputs": [],
   "source": [
    "merged_stratum_cases_4controls <- merge(cases_4controls_df,\n",
    "                                        cases_with_4controls_wide[,c(\"Cases\", \"stratum\")],\n",
    "                                        by=\"Cases\", all.x = TRUE)\n",
    "head(merged_stratum_cases_4controls)\n",
    "dim(merged_stratum_cases_4controls)"
   ]
  },
  {
   "cell_type": "code",
   "execution_count": null,
   "metadata": {},
   "outputs": [],
   "source": [
    "colnames(merged_stratum_cases_4controls)[3] <- \"person_id\"\n",
    "head(merged_stratum_cases_4controls)\n",
    "dim(merged_stratum_cases_4controls)"
   ]
  },
  {
   "cell_type": "code",
   "execution_count": null,
   "metadata": {},
   "outputs": [],
   "source": [
    "# merge the stratum back into the regression table \n",
    "regression <- merge(regression, merged_stratum_cases_4controls[,c(\"person_id\",\"stratum\")],\n",
    "                    by=\"person_id\", all.x = TRUE)\n",
    "head(regression)\n",
    "dim(regression)"
   ]
  },
  {
   "cell_type": "code",
   "execution_count": null,
   "metadata": {},
   "outputs": [],
   "source": [
    "length(unique(regression$person_id))\n",
    "length(unique(regression$stratum))"
   ]
  },
  {
   "cell_type": "code",
   "execution_count": null,
   "metadata": {},
   "outputs": [],
   "source": [
    "sum(is.na(regression))"
   ]
  },
  {
   "cell_type": "code",
   "execution_count": null,
   "metadata": {},
   "outputs": [],
   "source": [
    "regression[is.na(regression)] <- 0\n",
    "sum(is.na(regression))"
   ]
  },
  {
   "cell_type": "code",
   "execution_count": null,
   "metadata": {},
   "outputs": [],
   "source": [
    "# Save base model for regression analysis: no NA values\n",
    "## THIS IS THE DF TO USE IN YOUR ANALYSIS\n",
    "\n",
    "# This snippet assumes that you run setup first\n",
    "\n",
    "# This code saves your dataframe into a csv file in a \"data\" folder in Google Bucket\n",
    "\n",
    "# Replace df with THE NAME OF YOUR DATAFRAME\n",
    "my_dataframe <- regression\n",
    "\n",
    "# Replace 'test.csv' with THE NAME of the file you're going to store in the bucket (don't delete the quotation marks)\n",
    "destination_filename <- 'regression_bm_11032023_AG.fst'\n",
    "\n",
    "########################################################################\n",
    "##\n",
    "################# DON'T CHANGE FROM HERE ###############################\n",
    "##\n",
    "########################################################################\n",
    "\n",
    "# store the dataframe in current workspace\n",
    "write_fst(my_dataframe, destination_filename)\n",
    "\n",
    "# Get the bucket name\n",
    "my_bucket <- Sys.getenv('WORKSPACE_BUCKET')\n",
    "\n",
    "# Copy the file from current workspace to the bucket\n",
    "system(paste0(\"gsutil cp ./\", destination_filename, \" \", my_bucket, \"/data/\"), intern=T)\n",
    "\n",
    "# Check if file is in the bucket\n",
    "system(paste0(\"gsutil ls \", my_bucket, \"/data/*.fst\"), intern=T)"
   ]
  },
  {
   "cell_type": "code",
   "execution_count": null,
   "metadata": {},
   "outputs": [],
   "source": [
    "# This snippet assumes that you run setup first\n",
    "\n",
    "# This code copies a file from your Google Bucket into a dataframe\n",
    "\n",
    "# replace 'test.csv' with the name of the file in your google bucket (don't delete the quotation marks)\n",
    "name_of_file_in_bucket <- 'regression_bm_11032023_AG.fst'\n",
    "\n",
    "########################################################################\n",
    "##\n",
    "################# DON'T CHANGE FROM HERE ###############################\n",
    "##\n",
    "########################################################################\n",
    "\n",
    "# Get the bucket name\n",
    "my_bucket <- Sys.getenv('WORKSPACE_BUCKET')\n",
    "\n",
    "# Copy the file from current workspace to the bucket\n",
    "# system(paste0(\"gsutil cp \", my_bucket, \"/data/\", name_of_file_in_bucket, \" .\"), intern=T)\n",
    "\n",
    "# Load the file into a dataframe\n",
    "regression_bm  <- read_fst(name_of_file_in_bucket)\n",
    "head(regression_bm)"
   ]
  },
  {
   "cell_type": "code",
   "execution_count": null,
   "metadata": {},
   "outputs": [],
   "source": [
    "# BASE CLOGIT MODEL:"
   ]
  },
  {
   "cell_type": "code",
   "execution_count": null,
   "metadata": {
    "scrolled": true
   },
   "outputs": [],
   "source": [
    "clogit(Treatment ~ f.sex + f.Race + f.Ethnicity + f.age + Metformin +\n",
    "                Myocardial_Infarction +\n",
    "                Congestive_Heart_Failure + Peripheral_Vascular_Disease +\n",
    "                Cerebrovascular_Disease + Cerebrovascular_Disease + Dementia +\n",
    "                Chronic_Pulmonary_Disease + Rheumatic_Disease + Peptic_Ulcer_Disease +\n",
    "                Liver_Disease_Mild + Liver_Disease_Moderate_Severe +  \n",
    "                Diabetes_without_Chronic_Complications + Diabetes_with_Chronic_Complications + \n",
    "                Hemiplegia_Paraplegia + Renal_Disease_Mild_Moderate + \n",
    "                Renal_Disease_Severe + HIV + Metastatic_Solid_Tumor + Malignancy + AIDS +\n",
    "                strata(stratum), data=regression_bm)"
   ]
  },
  {
   "cell_type": "code",
   "execution_count": null,
   "metadata": {},
   "outputs": [],
   "source": [
    "regression_bm_clogit <- clogit(Treatment ~ f.sex + f.Race + f.Ethnicity + f.age + Metformin +\n",
    "                Myocardial_Infarction +\n",
    "                Congestive_Heart_Failure + Peripheral_Vascular_Disease +\n",
    "                Cerebrovascular_Disease + Cerebrovascular_Disease + Dementia +\n",
    "                Chronic_Pulmonary_Disease + Rheumatic_Disease + Peptic_Ulcer_Disease +\n",
    "                Liver_Disease_Mild + Liver_Disease_Moderate_Severe +  \n",
    "                Diabetes_without_Chronic_Complications + Diabetes_with_Chronic_Complications + \n",
    "                Hemiplegia_Paraplegia + Renal_Disease_Mild_Moderate + \n",
    "                Renal_Disease_Severe + HIV + Metastatic_Solid_Tumor + Malignancy + AIDS +\n",
    "                strata(stratum), data=regression_bm)"
   ]
  },
  {
   "cell_type": "code",
   "execution_count": null,
   "metadata": {},
   "outputs": [],
   "source": [
    "save(regression_bm_clogit, file = \"regression_bm_clogit_11042023_AG.RData\")"
   ]
  },
  {
   "cell_type": "code",
   "execution_count": null,
   "metadata": {},
   "outputs": [],
   "source": [
    "(summary(regression_bm_clogit))$coefficients"
   ]
  },
  {
   "cell_type": "code",
   "execution_count": null,
   "metadata": {},
   "outputs": [],
   "source": [
    "write.csv((summary(regression_bm_clogit))$coefficients)"
   ]
  },
  {
   "cell_type": "markdown",
   "metadata": {},
   "source": [
    "# C-Logit: SDOH"
   ]
  },
  {
   "cell_type": "code",
   "execution_count": null,
   "metadata": {},
   "outputs": [],
   "source": [
    "library(survival)"
   ]
  },
  {
   "cell_type": "code",
   "execution_count": null,
   "metadata": {},
   "outputs": [],
   "source": [
    "# This snippet assumes that you run setup first\n",
    "\n",
    "# This code copies a file from your Google Bucket into a dataframe\n",
    "\n",
    "# replace 'test.csv' with the name of the file in your google bucket (don't delete the quotation marks)\n",
    "name_of_file_in_bucket <- 'regression_bm_11032023_AG.fst'\n",
    "\n",
    "########################################################################\n",
    "##\n",
    "################# DON'T CHANGE FROM HERE ###############################\n",
    "##\n",
    "########################################################################\n",
    "\n",
    "# Get the bucket name\n",
    "my_bucket <- Sys.getenv('WORKSPACE_BUCKET')\n",
    "\n",
    "# Copy the file from current workspace to the bucket\n",
    "system(paste0(\"gsutil cp \", my_bucket, \"/data/\", name_of_file_in_bucket, \" .\"), intern=T)\n",
    "\n",
    "# Load the file into a dataframe\n",
    "regression_bm  <- read_fst(name_of_file_in_bucket)\n",
    "head(regression_bm)"
   ]
  },
  {
   "cell_type": "code",
   "execution_count": null,
   "metadata": {},
   "outputs": [],
   "source": [
    "# Load SDOH data:"
   ]
  },
  {
   "cell_type": "code",
   "execution_count": null,
   "metadata": {},
   "outputs": [],
   "source": [
    "# This snippet assumes that you run setup first\n",
    "\n",
    "# This code copies a file from your Google Bucket into a dataframe\n",
    "\n",
    "# replace 'test.csv' with the name of the file in your google bucket (don't delete the quotation marks)\n",
    "name_of_file_in_bucket <- 'Survey_Basics_Co_Lifestyle_shihui_1031.csv'\n",
    "\n",
    "########################################################################\n",
    "##\n",
    "################# DON'T CHANGE FROM HERE ###############################\n",
    "##\n",
    "########################################################################\n",
    "\n",
    "# Get the bucket name\n",
    "my_bucket <- Sys.getenv('WORKSPACE_BUCKET')\n",
    "\n",
    "# Copy the file from current workspace to the bucket\n",
    "system(paste0(\"gsutil cp \", my_bucket, \"/data/\", name_of_file_in_bucket, \" .\"), intern=T)\n",
    "\n",
    "# Load the file into a dataframe\n",
    "survey_basics  <- read_csv(name_of_file_in_bucket)\n",
    "head(survey_basics)"
   ]
  },
  {
   "cell_type": "code",
   "execution_count": null,
   "metadata": {},
   "outputs": [],
   "source": [
    "# all of them and then lumping all the disability together \n",
    "# factor for disability - yes, no, or missing\n",
    "\n",
    "### lumped disability \n",
    "# any disability? - general disability would be yes, if all answers are no, then no disability\n",
    "#### missing if they have any missing data\n",
    "## generate a column for disability - put default value as missing then - for pts who have\n",
    "# yes in the first diability or second or third, then set that column as yes\n",
    "# if pt has no in first AND second AND thired, then set that column as no\n",
    "# indexing \n",
    "\n",
    "## via email - he said what the reference one is \n",
    "\n",
    "## insurance - do in one model \n",
    "\n",
    "\n",
    "\n",
    "### include the base model and then add the extra thing\n",
    "\n",
    " "
   ]
  },
  {
   "cell_type": "markdown",
   "metadata": {},
   "source": [
    "## Insurance"
   ]
  },
  {
   "cell_type": "code",
   "execution_count": null,
   "metadata": {},
   "outputs": [],
   "source": [
    "head(regression_bm)\n",
    "dim(regression_bm)"
   ]
  },
  {
   "cell_type": "code",
   "execution_count": null,
   "metadata": {},
   "outputs": [],
   "source": [
    "# Upload the insurance data:\n",
    "\n",
    "# This snippet assumes that you run setup first\n",
    "\n",
    "# This code copies a file from your Google Bucket into a dataframe\n",
    "\n",
    "# replace 'test.csv' with the name of the file in your google bucket (don't delete the quotation marks)\n",
    "name_of_file_in_bucket <- 'insu.fst'\n",
    "\n",
    "########################################################################\n",
    "##\n",
    "################# DON'T CHANGE FROM HERE ###############################\n",
    "##\n",
    "########################################################################\n",
    "\n",
    "# Get the bucket name\n",
    "my_bucket <- Sys.getenv('WORKSPACE_BUCKET')\n",
    "\n",
    "# Copy the file from current workspace to the bucket\n",
    "system(paste0(\"gsutil cp \", my_bucket, \"/data/\", name_of_file_in_bucket, \" .\"), intern=T)\n",
    "\n",
    "# Load the file into a dataframe\n",
    "insu  <- read_fst(name_of_file_in_bucket)\n",
    "head(insu)"
   ]
  },
  {
   "cell_type": "code",
   "execution_count": null,
   "metadata": {},
   "outputs": [],
   "source": [
    "dim(insu)"
   ]
  },
  {
   "cell_type": "code",
   "execution_count": null,
   "metadata": {},
   "outputs": [],
   "source": [
    "# used the merged ones as your three variables \n",
    "insu <- insu[,c(\"person_id\",\"empl.merge\",\"medcare.merge\", \"medicaid.merge\")]\n",
    "head(insu)"
   ]
  },
  {
   "cell_type": "code",
   "execution_count": null,
   "metadata": {},
   "outputs": [],
   "source": [
    "regression_insu <- merge(regression_bm, insu, by=\"person_id\", all.x = TRUE)\n",
    "head(regression_insu)\n",
    "dim(regression_insu)"
   ]
  },
  {
   "cell_type": "code",
   "execution_count": null,
   "metadata": {},
   "outputs": [],
   "source": [
    "clogit(Treatment ~ f.sex + f.Race + f.Ethnicity + f.age + Metformin +\n",
    "                Myocardial_Infarction +\n",
    "                Congestive_Heart_Failure + Peripheral_Vascular_Disease +\n",
    "                Cerebrovascular_Disease + Cerebrovascular_Disease + Dementia +\n",
    "                Chronic_Pulmonary_Disease + Rheumatic_Disease + Peptic_Ulcer_Disease +\n",
    "                Liver_Disease_Mild + Liver_Disease_Moderate_Severe +  \n",
    "                Diabetes_without_Chronic_Complications + Diabetes_with_Chronic_Complications + \n",
    "                Hemiplegia_Paraplegia + Renal_Disease_Mild_Moderate + \n",
    "                Renal_Disease_Severe + HIV + Metastatic_Solid_Tumor + Malignancy + AIDS +\n",
    "                empl.merge + medcare.merge + medicaid.merge + \n",
    "                strata(stratum), data=regression_insu)"
   ]
  },
  {
   "cell_type": "code",
   "execution_count": null,
   "metadata": {},
   "outputs": [],
   "source": [
    "insu_clogit <- clogit(Treatment ~ f.sex + f.Race + f.Ethnicity + f.age + Metformin +\n",
    "                Myocardial_Infarction +\n",
    "                Congestive_Heart_Failure + Peripheral_Vascular_Disease +\n",
    "                Cerebrovascular_Disease + Cerebrovascular_Disease + Dementia +\n",
    "                Chronic_Pulmonary_Disease + Rheumatic_Disease + Peptic_Ulcer_Disease +\n",
    "                Liver_Disease_Mild + Liver_Disease_Moderate_Severe +  \n",
    "                Diabetes_without_Chronic_Complications + Diabetes_with_Chronic_Complications + \n",
    "                Hemiplegia_Paraplegia + Renal_Disease_Mild_Moderate + \n",
    "                Renal_Disease_Severe + HIV + Metastatic_Solid_Tumor + Malignancy + AIDS +\n",
    "                empl.merge + medcare.merge + medicaid.merge + \n",
    "                strata(stratum), data=regression_insu)"
   ]
  },
  {
   "cell_type": "code",
   "execution_count": null,
   "metadata": {},
   "outputs": [],
   "source": [
    "save(insu_clogit, file = \"insu_clogit_11052023_AG.RData\")"
   ]
  },
  {
   "cell_type": "code",
   "execution_count": null,
   "metadata": {},
   "outputs": [],
   "source": [
    "(summary(insu_clogit))$coefficients"
   ]
  },
  {
   "cell_type": "code",
   "execution_count": null,
   "metadata": {
    "scrolled": true
   },
   "outputs": [],
   "source": [
    "write.csv((summary(insu_clogit))$coefficients)"
   ]
  },
  {
   "cell_type": "code",
   "execution_count": null,
   "metadata": {},
   "outputs": [],
   "source": []
  },
  {
   "cell_type": "markdown",
   "metadata": {},
   "source": [
    "## Lumped Disability"
   ]
  },
  {
   "cell_type": "code",
   "execution_count": null,
   "metadata": {},
   "outputs": [],
   "source": [
    "library(survival)"
   ]
  },
  {
   "cell_type": "code",
   "execution_count": null,
   "metadata": {},
   "outputs": [],
   "source": [
    "disa <- data.frame(person_id = survey_basics[,'person_id'])\n",
    "disa$disa <- 'Missing'\n",
    "disa$disa[survey_basics$disability_deaf %in% 'Yes' \n",
    "          | survey_basics$disability_blind %in% 'Yes'\n",
    "          | survey_basics$disability_walking_climbing %in% 'Yes'\n",
    "          | survey_basics$disability_dressing_bathing %in% 'Yes'\n",
    "          | survey_basics$disability_errands_alone %in% 'Yes'\n",
    "          | survey_basics$disability_concentrating %in% 'Yes'] <- \"Yes\"\n",
    "disa$disa[survey_basics$disability_deaf %in% 'No' \n",
    "          & survey_basics$disability_blind %in% 'No'\n",
    "          & survey_basics$disability_walking_climbing %in% 'No'\n",
    "          & survey_basics$disability_dressing_bathing %in% 'No'\n",
    "          & survey_basics$disability_errands_alone %in% 'No'\n",
    "          & survey_basics$disability_concentrating %in% 'No'] <- \"No\"\n",
    "head(disa)"
   ]
  },
  {
   "cell_type": "code",
   "execution_count": null,
   "metadata": {},
   "outputs": [],
   "source": [
    "head(regression_bm)\n",
    "dim(regression_bm)"
   ]
  },
  {
   "cell_type": "code",
   "execution_count": null,
   "metadata": {},
   "outputs": [],
   "source": [
    "table(disa$disa)"
   ]
  },
  {
   "cell_type": "code",
   "execution_count": null,
   "metadata": {},
   "outputs": [],
   "source": [
    "disa_regression <- merge(regression_bm, disa, by=\"person_id\", all.x = TRUE)\n",
    "head(disa_regression)\n",
    "dim(disa_regression)"
   ]
  },
  {
   "cell_type": "code",
   "execution_count": null,
   "metadata": {},
   "outputs": [],
   "source": [
    "table(disa_regression$disa)"
   ]
  },
  {
   "cell_type": "code",
   "execution_count": null,
   "metadata": {},
   "outputs": [],
   "source": [
    "# Factor disability\n",
    "disa_regression$f.disa <- factor(disa_regression$disa,\n",
    "                levels = c(\"No\", \"Yes\", \"Missing\"))"
   ]
  },
  {
   "cell_type": "code",
   "execution_count": null,
   "metadata": {},
   "outputs": [],
   "source": [
    "# Save regression_sdoh file round 1 --> NO MERGING OF FACTORS\n",
    "# This snippet assumes that you run setup first\n",
    "\n",
    "# This code saves your dataframe into a csv file in a \"data\" folder in Google Bucket\n",
    "\n",
    "# Replace df with THE NAME OF YOUR DATAFRAME\n",
    "my_dataframe <- disa_regression\n",
    "\n",
    "# Replace 'test.csv' with THE NAME of the file you're going to store in the bucket (don't delete the quotation marks)\n",
    "destination_filename <- 'lumped_disa_regression_11122023_AG.fst'\n",
    "\n",
    "########################################################################\n",
    "##\n",
    "################# DON'T CHANGE FROM HERE ###############################\n",
    "##\n",
    "########################################################################\n",
    "\n",
    "# store the dataframe in current workspace\n",
    "write_fst(my_dataframe, destination_filename)\n",
    "\n",
    "# Get the bucket name\n",
    "my_bucket <- Sys.getenv('WORKSPACE_BUCKET')\n",
    "\n",
    "# Copy the file from current workspace to the bucket\n",
    "system(paste0(\"gsutil cp ./\", destination_filename, \" \", my_bucket, \"/data/\"), intern=T)\n",
    "\n",
    "# Check if file is in the bucket\n",
    "system(paste0(\"gsutil ls \", my_bucket, \"/data/*.fst\"), intern=T)"
   ]
  },
  {
   "cell_type": "code",
   "execution_count": null,
   "metadata": {},
   "outputs": [],
   "source": [
    "clogit(Treatment ~ f.sex + f.Race + f.Ethnicity + f.age + Metformin +\n",
    "                Myocardial_Infarction +\n",
    "                Congestive_Heart_Failure + Peripheral_Vascular_Disease +\n",
    "                Cerebrovascular_Disease + Cerebrovascular_Disease + Dementia +\n",
    "                Chronic_Pulmonary_Disease + Rheumatic_Disease + Peptic_Ulcer_Disease +\n",
    "                Liver_Disease_Mild + Liver_Disease_Moderate_Severe +  \n",
    "                Diabetes_without_Chronic_Complications + Diabetes_with_Chronic_Complications + \n",
    "                Hemiplegia_Paraplegia + Renal_Disease_Mild_Moderate + \n",
    "                Renal_Disease_Severe + HIV + Metastatic_Solid_Tumor + Malignancy + AIDS +\n",
    "                f.disa +\n",
    "                strata(stratum), data=disa_regression)"
   ]
  },
  {
   "cell_type": "code",
   "execution_count": null,
   "metadata": {},
   "outputs": [],
   "source": [
    "# Save as R.Data for exportation for Forest Plot"
   ]
  },
  {
   "cell_type": "code",
   "execution_count": null,
   "metadata": {},
   "outputs": [],
   "source": [
    "disa_regression_clogit <- clogit(Treatment ~ f.sex + f.Race + f.Ethnicity + f.age + Metformin +\n",
    "                Myocardial_Infarction +\n",
    "                Congestive_Heart_Failure + Peripheral_Vascular_Disease +\n",
    "                Cerebrovascular_Disease + Cerebrovascular_Disease + Dementia +\n",
    "                Chronic_Pulmonary_Disease + Rheumatic_Disease + Peptic_Ulcer_Disease +\n",
    "                Liver_Disease_Mild + Liver_Disease_Moderate_Severe +  \n",
    "                Diabetes_without_Chronic_Complications + Diabetes_with_Chronic_Complications + \n",
    "                Hemiplegia_Paraplegia + Renal_Disease_Mild_Moderate + \n",
    "                Renal_Disease_Severe + HIV + Metastatic_Solid_Tumor + Malignancy + AIDS +\n",
    "                f.disa +\n",
    "                strata(stratum), data=disa_regression)"
   ]
  },
  {
   "cell_type": "code",
   "execution_count": null,
   "metadata": {},
   "outputs": [],
   "source": [
    "save(disa_regression_clogit, file = \"disa_regression_clogit_11042023_AG.RData\")"
   ]
  },
  {
   "cell_type": "code",
   "execution_count": null,
   "metadata": {
    "scrolled": true
   },
   "outputs": [],
   "source": [
    "(summary(disa_regression_clogit))$coefficients"
   ]
  },
  {
   "cell_type": "code",
   "execution_count": null,
   "metadata": {},
   "outputs": [],
   "source": [
    "write.csv((summary(disa_regression_clogit))$coefficients)"
   ]
  },
  {
   "cell_type": "markdown",
   "metadata": {},
   "source": [
    "## Education"
   ]
  },
  {
   "cell_type": "code",
   "execution_count": null,
   "metadata": {
    "scrolled": true
   },
   "outputs": [],
   "source": [
    "head(survey_basics)"
   ]
  },
  {
   "cell_type": "code",
   "execution_count": null,
   "metadata": {},
   "outputs": [],
   "source": [
    "#Education: college graduate"
   ]
  },
  {
   "cell_type": "code",
   "execution_count": null,
   "metadata": {},
   "outputs": [],
   "source": [
    "table(survey_basics$education)"
   ]
  },
  {
   "cell_type": "code",
   "execution_count": null,
   "metadata": {},
   "outputs": [],
   "source": [
    "head(regression_bm)\n",
    "dim(regression_bm)"
   ]
  },
  {
   "cell_type": "code",
   "execution_count": null,
   "metadata": {},
   "outputs": [],
   "source": [
    "regression_sdoh2 <- merge(regression_bm, survey_basics, by=\"person_id\", all.x = TRUE)\n",
    "head(regression_sdoh2)\n",
    "dim(regression_sdoh2)"
   ]
  },
  {
   "cell_type": "code",
   "execution_count": null,
   "metadata": {},
   "outputs": [],
   "source": [
    "table(regression_sdoh2$education)"
   ]
  },
  {
   "cell_type": "code",
   "execution_count": null,
   "metadata": {},
   "outputs": [],
   "source": [
    "colnames(regression_sdoh2)"
   ]
  },
  {
   "cell_type": "code",
   "execution_count": null,
   "metadata": {},
   "outputs": [],
   "source": [
    "regression_sdoh2$education[regression_sdoh2$education %in% 'GED' \n",
    "          | regression_sdoh2$education %in% 'College'] <- \"GED and College\"\n",
    "regression_sdoh2$education[regression_sdoh2$education %in% 'Advanced Degree' \n",
    "          | regression_sdoh2$education %in% 'College Graduate'] <- \"Advanced\"\n",
    "table(regression_sdoh2$education)"
   ]
  },
  {
   "cell_type": "code",
   "execution_count": null,
   "metadata": {},
   "outputs": [],
   "source": [
    "# From original table: 2615 (ged) + 3660 (college) = 6275 (ged and college in new table)\n",
    "## success!"
   ]
  },
  {
   "cell_type": "code",
   "execution_count": null,
   "metadata": {},
   "outputs": [],
   "source": [
    "# Factor disability\n",
    "regression_sdoh2$f.education <- factor(regression_sdoh2$education,\n",
    "                levels = c(\"Advanced\", \"Never Attended\", \"Below GED\",\n",
    "                           \"GED and College\", \"Missing\"))"
   ]
  },
  {
   "cell_type": "code",
   "execution_count": null,
   "metadata": {},
   "outputs": [],
   "source": [
    "clogit(Treatment ~ f.sex + f.Race + f.Ethnicity + f.age + Metformin +\n",
    "                Myocardial_Infarction +\n",
    "                Congestive_Heart_Failure + Peripheral_Vascular_Disease +\n",
    "                Cerebrovascular_Disease + Cerebrovascular_Disease + Dementia +\n",
    "                Chronic_Pulmonary_Disease + Rheumatic_Disease + Peptic_Ulcer_Disease +\n",
    "                Liver_Disease_Mild + Liver_Disease_Moderate_Severe +  \n",
    "                Diabetes_without_Chronic_Complications + Diabetes_with_Chronic_Complications + \n",
    "                Hemiplegia_Paraplegia + Renal_Disease_Mild_Moderate + \n",
    "                Renal_Disease_Severe + HIV + Metastatic_Solid_Tumor + Malignancy + AIDS +\n",
    "                f.education +\n",
    "                strata(stratum), data=regression_sdoh2)"
   ]
  },
  {
   "cell_type": "code",
   "execution_count": null,
   "metadata": {},
   "outputs": [],
   "source": [
    "education_clogit3 <- clogit(Treatment ~ f.sex + f.Race + f.Ethnicity + f.age + Metformin +\n",
    "                Myocardial_Infarction +\n",
    "                Congestive_Heart_Failure + Peripheral_Vascular_Disease +\n",
    "                Cerebrovascular_Disease + Cerebrovascular_Disease + Dementia +\n",
    "                Chronic_Pulmonary_Disease + Rheumatic_Disease + Peptic_Ulcer_Disease +\n",
    "                Liver_Disease_Mild + Liver_Disease_Moderate_Severe +  \n",
    "                Diabetes_without_Chronic_Complications + Diabetes_with_Chronic_Complications + \n",
    "                Hemiplegia_Paraplegia + Renal_Disease_Mild_Moderate + \n",
    "                Renal_Disease_Severe + HIV + Metastatic_Solid_Tumor + Malignancy + AIDS +\n",
    "                f.education +\n",
    "                strata(stratum), data=regression_sdoh2)"
   ]
  },
  {
   "cell_type": "code",
   "execution_count": null,
   "metadata": {},
   "outputs": [],
   "source": [
    "save(education_clogit2, file = \"education_clogit3_11052023_AG.RData\")"
   ]
  },
  {
   "cell_type": "code",
   "execution_count": null,
   "metadata": {},
   "outputs": [],
   "source": [
    "(summary(education_clogit3))$coefficients"
   ]
  },
  {
   "cell_type": "code",
   "execution_count": null,
   "metadata": {},
   "outputs": [],
   "source": [
    "write.csv((summary(education_clogit3))$coefficients)"
   ]
  },
  {
   "cell_type": "markdown",
   "metadata": {},
   "source": [
    "## Disability: Deaf"
   ]
  },
  {
   "cell_type": "code",
   "execution_count": null,
   "metadata": {},
   "outputs": [],
   "source": [
    "head(regression_sdoh)\n",
    "dim(regression_sdoh)"
   ]
  },
  {
   "cell_type": "code",
   "execution_count": null,
   "metadata": {},
   "outputs": [],
   "source": [
    "colnames(regression_sdoh)"
   ]
  },
  {
   "cell_type": "code",
   "execution_count": null,
   "metadata": {},
   "outputs": [],
   "source": [
    "table(regression_sdoh2$disability_deaf)"
   ]
  },
  {
   "cell_type": "code",
   "execution_count": null,
   "metadata": {},
   "outputs": [],
   "source": [
    "# Factor disability\n",
    "regression_sdoh2$f.disability_deaf <- factor(regression_sdoh2$disability_deaf,\n",
    "                levels = c(\"No\", \"Yes\", \"Missing\"))"
   ]
  },
  {
   "cell_type": "code",
   "execution_count": null,
   "metadata": {},
   "outputs": [],
   "source": [
    "colnames(regression_sdoh2)"
   ]
  },
  {
   "cell_type": "code",
   "execution_count": null,
   "metadata": {},
   "outputs": [],
   "source": [
    "clogit(Treatment ~ f.sex + f.Race + f.Ethnicity + f.age + Metformin +\n",
    "                Myocardial_Infarction +\n",
    "                Congestive_Heart_Failure + Peripheral_Vascular_Disease +\n",
    "                Cerebrovascular_Disease + Cerebrovascular_Disease + Dementia +\n",
    "                Chronic_Pulmonary_Disease + Rheumatic_Disease + Peptic_Ulcer_Disease +\n",
    "                Liver_Disease_Mild + Liver_Disease_Moderate_Severe +  \n",
    "                Diabetes_without_Chronic_Complications + Diabetes_with_Chronic_Complications + \n",
    "                Hemiplegia_Paraplegia + Renal_Disease_Mild_Moderate + \n",
    "                Renal_Disease_Severe + HIV + Metastatic_Solid_Tumor + Malignancy + AIDS +\n",
    "                f.disability_deaf +\n",
    "                strata(stratum), data=regression_sdoh)"
   ]
  },
  {
   "cell_type": "code",
   "execution_count": null,
   "metadata": {},
   "outputs": [],
   "source": [
    "disability_deaf_clogit <- clogit(Treatment ~ f.sex + f.Race + f.Ethnicity + f.age + Metformin +\n",
    "                Myocardial_Infarction +\n",
    "                Congestive_Heart_Failure + Peripheral_Vascular_Disease +\n",
    "                Cerebrovascular_Disease + Cerebrovascular_Disease + Dementia +\n",
    "                Chronic_Pulmonary_Disease + Rheumatic_Disease + Peptic_Ulcer_Disease +\n",
    "                Liver_Disease_Mild + Liver_Disease_Moderate_Severe +  \n",
    "                Diabetes_without_Chronic_Complications + Diabetes_with_Chronic_Complications + \n",
    "                Hemiplegia_Paraplegia + Renal_Disease_Mild_Moderate + \n",
    "                Renal_Disease_Severe + HIV + Metastatic_Solid_Tumor + Malignancy + AIDS +\n",
    "                f.disability_deaf +\n",
    "                strata(stratum), data=regression_sdoh)"
   ]
  },
  {
   "cell_type": "code",
   "execution_count": null,
   "metadata": {},
   "outputs": [],
   "source": [
    "save(disability_deaf_clogit, file = \"disability_deaf_clogit_11042023_AG.RData\")"
   ]
  },
  {
   "cell_type": "code",
   "execution_count": null,
   "metadata": {},
   "outputs": [],
   "source": [
    "(summary(disability_deaf_clogit))$coefficients"
   ]
  },
  {
   "cell_type": "code",
   "execution_count": null,
   "metadata": {},
   "outputs": [],
   "source": [
    "write.csv((summary(disability_deaf_clogit))$coefficients)"
   ]
  },
  {
   "cell_type": "code",
   "execution_count": null,
   "metadata": {},
   "outputs": [],
   "source": []
  },
  {
   "cell_type": "markdown",
   "metadata": {},
   "source": [
    "## Disability: Blind"
   ]
  },
  {
   "cell_type": "code",
   "execution_count": null,
   "metadata": {},
   "outputs": [],
   "source": [
    "head(regression_sdoh)\n",
    "dim(regression_sdoh)\n",
    "colnames(regression_sdoh)"
   ]
  },
  {
   "cell_type": "code",
   "execution_count": null,
   "metadata": {},
   "outputs": [],
   "source": [
    "table(regression_sdoh2$disability_blind)"
   ]
  },
  {
   "cell_type": "code",
   "execution_count": null,
   "metadata": {},
   "outputs": [],
   "source": [
    "# Factor disability\n",
    "regression_sdoh2$f.disability_blind <- factor(regression_sdoh2$disability_blind,\n",
    "                levels = c(\"No\", \"Yes\", \"Missing\"))"
   ]
  },
  {
   "cell_type": "code",
   "execution_count": null,
   "metadata": {},
   "outputs": [],
   "source": [
    "clogit(Treatment ~ f.sex + f.Race + f.Ethnicity + f.age + Metformin +\n",
    "                Myocardial_Infarction +\n",
    "                Congestive_Heart_Failure + Peripheral_Vascular_Disease +\n",
    "                Cerebrovascular_Disease + Cerebrovascular_Disease + Dementia +\n",
    "                Chronic_Pulmonary_Disease + Rheumatic_Disease + Peptic_Ulcer_Disease +\n",
    "                Liver_Disease_Mild + Liver_Disease_Moderate_Severe +  \n",
    "                Diabetes_without_Chronic_Complications + Diabetes_with_Chronic_Complications + \n",
    "                Hemiplegia_Paraplegia + Renal_Disease_Mild_Moderate + \n",
    "                Renal_Disease_Severe + HIV + Metastatic_Solid_Tumor + Malignancy + AIDS +\n",
    "                f.disability_blind +\n",
    "                strata(stratum), data=regression_sdoh)"
   ]
  },
  {
   "cell_type": "code",
   "execution_count": null,
   "metadata": {},
   "outputs": [],
   "source": [
    "disability_blind_clogit <- clogit(Treatment ~ f.sex + f.Race + f.Ethnicity + f.age + Metformin +\n",
    "                Myocardial_Infarction +\n",
    "                Congestive_Heart_Failure + Peripheral_Vascular_Disease +\n",
    "                Cerebrovascular_Disease + Cerebrovascular_Disease + Dementia +\n",
    "                Chronic_Pulmonary_Disease + Rheumatic_Disease + Peptic_Ulcer_Disease +\n",
    "                Liver_Disease_Mild + Liver_Disease_Moderate_Severe +  \n",
    "                Diabetes_without_Chronic_Complications + Diabetes_with_Chronic_Complications + \n",
    "                Hemiplegia_Paraplegia + Renal_Disease_Mild_Moderate + \n",
    "                Renal_Disease_Severe + HIV + Metastatic_Solid_Tumor + Malignancy + AIDS +\n",
    "                f.disability_blind +\n",
    "                strata(stratum), data=regression_sdoh)"
   ]
  },
  {
   "cell_type": "code",
   "execution_count": null,
   "metadata": {},
   "outputs": [],
   "source": [
    "save(disability_blind_clogit, file = \"disability_blind_clogit_11042023_AG.RData\")"
   ]
  },
  {
   "cell_type": "code",
   "execution_count": null,
   "metadata": {},
   "outputs": [],
   "source": [
    "(summary(disability_blind_clogit))$coefficients"
   ]
  },
  {
   "cell_type": "code",
   "execution_count": null,
   "metadata": {},
   "outputs": [],
   "source": [
    "write.csv((summary(disability_blind_clogit))$coefficients)"
   ]
  },
  {
   "cell_type": "markdown",
   "metadata": {},
   "source": [
    "## Disability: Walking, Climbing"
   ]
  },
  {
   "cell_type": "code",
   "execution_count": null,
   "metadata": {},
   "outputs": [],
   "source": [
    "head(regression_sdoh)\n",
    "dim(regression_sdoh)\n",
    "colnames(regression_sdoh)"
   ]
  },
  {
   "cell_type": "code",
   "execution_count": null,
   "metadata": {},
   "outputs": [],
   "source": [
    "table(regression_sdoh$disability_walking_climbing)"
   ]
  },
  {
   "cell_type": "code",
   "execution_count": null,
   "metadata": {},
   "outputs": [],
   "source": [
    "# Factor disability\n",
    "regression_sdoh2$f.disability_walking_climbing <- factor(regression_sdoh2$disability_walking_climbing,\n",
    "                levels = c(\"No\", \"Yes\", \"Missing\"))"
   ]
  },
  {
   "cell_type": "code",
   "execution_count": null,
   "metadata": {},
   "outputs": [],
   "source": [
    "clogit(Treatment ~ f.sex + f.Race + f.Ethnicity + f.age + Metformin +\n",
    "                Myocardial_Infarction +\n",
    "                Congestive_Heart_Failure + Peripheral_Vascular_Disease +\n",
    "                Cerebrovascular_Disease + Cerebrovascular_Disease + Dementia +\n",
    "                Chronic_Pulmonary_Disease + Rheumatic_Disease + Peptic_Ulcer_Disease +\n",
    "                Liver_Disease_Mild + Liver_Disease_Moderate_Severe +  \n",
    "                Diabetes_without_Chronic_Complications + Diabetes_with_Chronic_Complications + \n",
    "                Hemiplegia_Paraplegia + Renal_Disease_Mild_Moderate + \n",
    "                Renal_Disease_Severe + HIV + Metastatic_Solid_Tumor + Malignancy + AIDS +\n",
    "                f.disability_walking_climbing +\n",
    "                strata(stratum), data=regression_sdoh)"
   ]
  },
  {
   "cell_type": "code",
   "execution_count": null,
   "metadata": {},
   "outputs": [],
   "source": [
    "disability_walking_climbing_clogit <- clogit(Treatment ~ f.sex + f.Race + f.Ethnicity + f.age + Metformin +\n",
    "                Myocardial_Infarction +\n",
    "                Congestive_Heart_Failure + Peripheral_Vascular_Disease +\n",
    "                Cerebrovascular_Disease + Cerebrovascular_Disease + Dementia +\n",
    "                Chronic_Pulmonary_Disease + Rheumatic_Disease + Peptic_Ulcer_Disease +\n",
    "                Liver_Disease_Mild + Liver_Disease_Moderate_Severe +  \n",
    "                Diabetes_without_Chronic_Complications + Diabetes_with_Chronic_Complications + \n",
    "                Hemiplegia_Paraplegia + Renal_Disease_Mild_Moderate + \n",
    "                Renal_Disease_Severe + HIV + Metastatic_Solid_Tumor + Malignancy + AIDS +\n",
    "                f.disability_walking_climbing +\n",
    "                strata(stratum), data=regression_sdoh)"
   ]
  },
  {
   "cell_type": "code",
   "execution_count": null,
   "metadata": {},
   "outputs": [],
   "source": [
    "save(disability_walking_climbing_clogit, file = \"disability_walking_climbing_clogit_11042023_AG.RData\")"
   ]
  },
  {
   "cell_type": "code",
   "execution_count": null,
   "metadata": {},
   "outputs": [],
   "source": [
    "(summary(disability_walking_climbing_clogit))$coefficients"
   ]
  },
  {
   "cell_type": "code",
   "execution_count": null,
   "metadata": {},
   "outputs": [],
   "source": [
    "write.csv((summary(disability_walking_climbing_clogit))$coefficients)"
   ]
  },
  {
   "cell_type": "markdown",
   "metadata": {},
   "source": [
    "## Disability: Dressing, Bathing"
   ]
  },
  {
   "cell_type": "code",
   "execution_count": null,
   "metadata": {},
   "outputs": [],
   "source": [
    "head(regression_sdoh)\n",
    "dim(regression_sdoh)\n",
    "colnames(regression_sdoh)"
   ]
  },
  {
   "cell_type": "code",
   "execution_count": null,
   "metadata": {},
   "outputs": [],
   "source": [
    "table(survey_basics$disability_dressing_bathing)"
   ]
  },
  {
   "cell_type": "code",
   "execution_count": null,
   "metadata": {},
   "outputs": [],
   "source": [
    "# Factor disability\n",
    "regression_sdoh2$f.disability_dressing_bathing <- factor(regression_sdoh2$disability_dressing_bathing,\n",
    "                levels = c(\"No\", \"Yes\", \"Missing\"))"
   ]
  },
  {
   "cell_type": "code",
   "execution_count": null,
   "metadata": {},
   "outputs": [],
   "source": [
    "clogit(Treatment ~ f.sex + f.Race + f.Ethnicity + f.age + Metformin +\n",
    "                Myocardial_Infarction +\n",
    "                Congestive_Heart_Failure + Peripheral_Vascular_Disease +\n",
    "                Cerebrovascular_Disease + Cerebrovascular_Disease + Dementia +\n",
    "                Chronic_Pulmonary_Disease + Rheumatic_Disease + Peptic_Ulcer_Disease +\n",
    "                Liver_Disease_Mild + Liver_Disease_Moderate_Severe +  \n",
    "                Diabetes_without_Chronic_Complications + Diabetes_with_Chronic_Complications + \n",
    "                Hemiplegia_Paraplegia + Renal_Disease_Mild_Moderate + \n",
    "                Renal_Disease_Severe + HIV + Metastatic_Solid_Tumor + Malignancy + AIDS +\n",
    "                f.disability_dressing_bathing +\n",
    "                strata(stratum), data=regression_sdoh)"
   ]
  },
  {
   "cell_type": "code",
   "execution_count": null,
   "metadata": {},
   "outputs": [],
   "source": [
    "disability_dressing_bathing_clogit <- clogit(Treatment ~ f.sex + f.Race + f.Ethnicity + f.age + Metformin +\n",
    "                Myocardial_Infarction +\n",
    "                Congestive_Heart_Failure + Peripheral_Vascular_Disease +\n",
    "                Cerebrovascular_Disease + Cerebrovascular_Disease + Dementia +\n",
    "                Chronic_Pulmonary_Disease + Rheumatic_Disease + Peptic_Ulcer_Disease +\n",
    "                Liver_Disease_Mild + Liver_Disease_Moderate_Severe +  \n",
    "                Diabetes_without_Chronic_Complications + Diabetes_with_Chronic_Complications + \n",
    "                Hemiplegia_Paraplegia + Renal_Disease_Mild_Moderate + \n",
    "                Renal_Disease_Severe + HIV + Metastatic_Solid_Tumor + Malignancy + AIDS +\n",
    "                f.disability_dressing_bathing +\n",
    "                strata(stratum), data=regression_sdoh)"
   ]
  },
  {
   "cell_type": "code",
   "execution_count": null,
   "metadata": {},
   "outputs": [],
   "source": [
    "save(disability_dressing_bathing_clogit, file = \"disability_dressing_bathing_clogit_11042023_AG.RData\")"
   ]
  },
  {
   "cell_type": "code",
   "execution_count": null,
   "metadata": {},
   "outputs": [],
   "source": [
    "(summary(disability_dressing_bathing_clogit))$coefficients"
   ]
  },
  {
   "cell_type": "code",
   "execution_count": null,
   "metadata": {},
   "outputs": [],
   "source": [
    "write.csv((summary(disability_dressing_bathing_clogit))$coefficients)"
   ]
  },
  {
   "cell_type": "markdown",
   "metadata": {},
   "source": [
    "## Disability: Errands Alone"
   ]
  },
  {
   "cell_type": "code",
   "execution_count": null,
   "metadata": {},
   "outputs": [],
   "source": [
    "head(regression_sdoh2)\n",
    "dim(regression_sdoh2)\n",
    "colnames(regression_sdoh2)"
   ]
  },
  {
   "cell_type": "code",
   "execution_count": null,
   "metadata": {},
   "outputs": [],
   "source": [
    "table(regression_sdoh2$disability_errands_alone)"
   ]
  },
  {
   "cell_type": "code",
   "execution_count": null,
   "metadata": {},
   "outputs": [],
   "source": [
    "# Factor disability\n",
    "regression_sdoh2$f.disability_errands_alone <- factor(regression_sdoh2$disability_errands_alone,\n",
    "                levels = c(\"No\", \"Yes\", \"Missing\"))"
   ]
  },
  {
   "cell_type": "code",
   "execution_count": null,
   "metadata": {},
   "outputs": [],
   "source": [
    "clogit(Treatment ~ f.sex + f.Race + f.Ethnicity + f.age + Metformin +\n",
    "                Myocardial_Infarction +\n",
    "                Congestive_Heart_Failure + Peripheral_Vascular_Disease +\n",
    "                Cerebrovascular_Disease + Cerebrovascular_Disease + Dementia +\n",
    "                Chronic_Pulmonary_Disease + Rheumatic_Disease + Peptic_Ulcer_Disease +\n",
    "                Liver_Disease_Mild + Liver_Disease_Moderate_Severe +  \n",
    "                Diabetes_without_Chronic_Complications + Diabetes_with_Chronic_Complications + \n",
    "                Hemiplegia_Paraplegia + Renal_Disease_Mild_Moderate + \n",
    "                Renal_Disease_Severe + HIV + Metastatic_Solid_Tumor + Malignancy + AIDS +\n",
    "                f.disability_errands_alone +\n",
    "                strata(stratum), data=regression_sdoh)"
   ]
  },
  {
   "cell_type": "code",
   "execution_count": null,
   "metadata": {},
   "outputs": [],
   "source": [
    "disability_errands_alone_clogit <- clogit(Treatment ~ f.sex + f.Race + f.Ethnicity + f.age + Metformin +\n",
    "                Myocardial_Infarction +\n",
    "                Congestive_Heart_Failure + Peripheral_Vascular_Disease +\n",
    "                Cerebrovascular_Disease + Cerebrovascular_Disease + Dementia +\n",
    "                Chronic_Pulmonary_Disease + Rheumatic_Disease + Peptic_Ulcer_Disease +\n",
    "                Liver_Disease_Mild + Liver_Disease_Moderate_Severe +  \n",
    "                Diabetes_without_Chronic_Complications + Diabetes_with_Chronic_Complications + \n",
    "                Hemiplegia_Paraplegia + Renal_Disease_Mild_Moderate + \n",
    "                Renal_Disease_Severe + HIV + Metastatic_Solid_Tumor + Malignancy + AIDS +\n",
    "                f.disability_errands_alone +\n",
    "                strata(stratum), data=regression_sdoh)"
   ]
  },
  {
   "cell_type": "code",
   "execution_count": null,
   "metadata": {},
   "outputs": [],
   "source": [
    "save(disability_errands_alone_clogit, file = \"disability_errands_alone_clogit_11042023_AG.RData\")"
   ]
  },
  {
   "cell_type": "code",
   "execution_count": null,
   "metadata": {},
   "outputs": [],
   "source": [
    "(summary(disability_errands_alone_clogit))$coefficients"
   ]
  },
  {
   "cell_type": "code",
   "execution_count": null,
   "metadata": {},
   "outputs": [],
   "source": [
    "write.csv((summary(disability_errands_alone_clogit))$coefficients)"
   ]
  },
  {
   "cell_type": "markdown",
   "metadata": {},
   "source": [
    "## Disability: Concentrating"
   ]
  },
  {
   "cell_type": "code",
   "execution_count": null,
   "metadata": {
    "scrolled": true
   },
   "outputs": [],
   "source": [
    "head(regression_sdoh)\n",
    "dim(regression_sdoh)\n",
    "colnames(regression_sdoh)"
   ]
  },
  {
   "cell_type": "code",
   "execution_count": null,
   "metadata": {},
   "outputs": [],
   "source": [
    "table(regression_sdoh2$disability_concentrating)"
   ]
  },
  {
   "cell_type": "code",
   "execution_count": null,
   "metadata": {},
   "outputs": [],
   "source": [
    "# Factor disability\n",
    "regression_sdoh2$f.disability_concentrating <- factor(regression_sdoh2$disability_concentrating,\n",
    "                levels = c(\"No\", \"Yes\", \"Missing\"))"
   ]
  },
  {
   "cell_type": "code",
   "execution_count": null,
   "metadata": {},
   "outputs": [],
   "source": [
    "clogit(Treatment ~ f.sex + f.Race + f.Ethnicity + f.age + Metformin +\n",
    "                Myocardial_Infarction +\n",
    "                Congestive_Heart_Failure + Peripheral_Vascular_Disease +\n",
    "                Cerebrovascular_Disease + Cerebrovascular_Disease + Dementia +\n",
    "                Chronic_Pulmonary_Disease + Rheumatic_Disease + Peptic_Ulcer_Disease +\n",
    "                Liver_Disease_Mild + Liver_Disease_Moderate_Severe +  \n",
    "                Diabetes_without_Chronic_Complications + Diabetes_with_Chronic_Complications + \n",
    "                Hemiplegia_Paraplegia + Renal_Disease_Mild_Moderate + \n",
    "                Renal_Disease_Severe + HIV + Metastatic_Solid_Tumor + Malignancy + AIDS +\n",
    "                f.disability_concentrating +\n",
    "                strata(stratum), data=regression_sdoh)"
   ]
  },
  {
   "cell_type": "code",
   "execution_count": null,
   "metadata": {},
   "outputs": [],
   "source": [
    "disability_concentrating_clogit <- clogit(Treatment ~ f.sex + f.Race + f.Ethnicity + f.age + Metformin +\n",
    "                Myocardial_Infarction +\n",
    "                Congestive_Heart_Failure + Peripheral_Vascular_Disease +\n",
    "                Cerebrovascular_Disease + Cerebrovascular_Disease + Dementia +\n",
    "                Chronic_Pulmonary_Disease + Rheumatic_Disease + Peptic_Ulcer_Disease +\n",
    "                Liver_Disease_Mild + Liver_Disease_Moderate_Severe +  \n",
    "                Diabetes_without_Chronic_Complications + Diabetes_with_Chronic_Complications + \n",
    "                Hemiplegia_Paraplegia + Renal_Disease_Mild_Moderate + \n",
    "                Renal_Disease_Severe + HIV + Metastatic_Solid_Tumor + Malignancy + AIDS +\n",
    "                f.disability_concentrating +\n",
    "                strata(stratum), data=regression_sdoh)"
   ]
  },
  {
   "cell_type": "code",
   "execution_count": null,
   "metadata": {},
   "outputs": [],
   "source": [
    "save(disability_concentrating_clogit, file = \"disability_concentrating_clogit_11042023_AG.RData\")"
   ]
  },
  {
   "cell_type": "code",
   "execution_count": null,
   "metadata": {},
   "outputs": [],
   "source": [
    "(summary(disability_concentrating_clogit))$coefficients"
   ]
  },
  {
   "cell_type": "code",
   "execution_count": null,
   "metadata": {},
   "outputs": [],
   "source": [
    "write.csv((summary(disability_concentrating_clogit))$coefficients)"
   ]
  },
  {
   "cell_type": "markdown",
   "metadata": {},
   "source": [
    "## Employment"
   ]
  },
  {
   "cell_type": "code",
   "execution_count": null,
   "metadata": {
    "code_folding": []
   },
   "outputs": [],
   "source": [
    "#Employment: employed"
   ]
  },
  {
   "cell_type": "code",
   "execution_count": null,
   "metadata": {},
   "outputs": [],
   "source": [
    "head(regression_sdoh2)\n",
    "dim(regression_sdoh2)\n",
    "colnames(regression_sdoh2)"
   ]
  },
  {
   "cell_type": "code",
   "execution_count": null,
   "metadata": {},
   "outputs": [],
   "source": [
    "table(regression_sdoh2$employment)"
   ]
  },
  {
   "cell_type": "code",
   "execution_count": null,
   "metadata": {},
   "outputs": [],
   "source": [
    "regression_sdoh2$employment[regression_sdoh2$employment %in% 'Homemaker' \n",
    "          | regression_sdoh2$employment %in% 'Retired'\n",
    "          | regression_sdoh2$employment %in% 'Self-employed'] <- \"Others\"\n",
    "table(regression_sdoh2$employment)"
   ]
  },
  {
   "cell_type": "code",
   "execution_count": null,
   "metadata": {},
   "outputs": [],
   "source": [
    "# 470 + 4147 + 656 = 5273, the number in others = success!"
   ]
  },
  {
   "cell_type": "code",
   "execution_count": null,
   "metadata": {},
   "outputs": [],
   "source": [
    "# Factor disability\n",
    "regression_sdoh2$f.employment <- factor(regression_sdoh2$employment,\n",
    "                levels = c(\"Employed\", \"Student\", \"Unemployed\",\n",
    "                           \"Others\", \"Missing\"))"
   ]
  },
  {
   "cell_type": "code",
   "execution_count": null,
   "metadata": {},
   "outputs": [],
   "source": [
    "clogit(Treatment ~ f.sex + f.Race + f.Ethnicity + f.age + Metformin +\n",
    "                Myocardial_Infarction +\n",
    "                Congestive_Heart_Failure + Peripheral_Vascular_Disease +\n",
    "                Cerebrovascular_Disease + Cerebrovascular_Disease + Dementia +\n",
    "                Chronic_Pulmonary_Disease + Rheumatic_Disease + Peptic_Ulcer_Disease +\n",
    "                Liver_Disease_Mild + Liver_Disease_Moderate_Severe +  \n",
    "                Diabetes_without_Chronic_Complications + Diabetes_with_Chronic_Complications + \n",
    "                Hemiplegia_Paraplegia + Renal_Disease_Mild_Moderate + \n",
    "                Renal_Disease_Severe + HIV + Metastatic_Solid_Tumor + Malignancy + AIDS +\n",
    "                f.employment +\n",
    "                strata(stratum), data=regression_sdoh2)"
   ]
  },
  {
   "cell_type": "code",
   "execution_count": null,
   "metadata": {},
   "outputs": [],
   "source": [
    "employment_clogit2 <- clogit(Treatment ~ f.sex + f.Race + f.Ethnicity + f.age + Metformin +\n",
    "                Myocardial_Infarction +\n",
    "                Congestive_Heart_Failure + Peripheral_Vascular_Disease +\n",
    "                Cerebrovascular_Disease + Cerebrovascular_Disease + Dementia +\n",
    "                Chronic_Pulmonary_Disease + Rheumatic_Disease + Peptic_Ulcer_Disease +\n",
    "                Liver_Disease_Mild + Liver_Disease_Moderate_Severe +  \n",
    "                Diabetes_without_Chronic_Complications + Diabetes_with_Chronic_Complications + \n",
    "                Hemiplegia_Paraplegia + Renal_Disease_Mild_Moderate + \n",
    "                Renal_Disease_Severe + HIV + Metastatic_Solid_Tumor + Malignancy + AIDS +\n",
    "                f.employment +\n",
    "                strata(stratum), data=regression_sdoh2)"
   ]
  },
  {
   "cell_type": "code",
   "execution_count": null,
   "metadata": {},
   "outputs": [],
   "source": [
    "save(employment_clogit2, file = \"employment_clogit2_11052023_AG.RData\")"
   ]
  },
  {
   "cell_type": "code",
   "execution_count": null,
   "metadata": {},
   "outputs": [],
   "source": [
    "(summary(employment_clogit2))$coefficients"
   ]
  },
  {
   "cell_type": "code",
   "execution_count": null,
   "metadata": {},
   "outputs": [],
   "source": [
    "write.csv((summary(employment_clogit2))$coefficients)"
   ]
  },
  {
   "cell_type": "code",
   "execution_count": null,
   "metadata": {},
   "outputs": [],
   "source": []
  },
  {
   "cell_type": "markdown",
   "metadata": {},
   "source": [
    "## Income"
   ]
  },
  {
   "cell_type": "code",
   "execution_count": null,
   "metadata": {},
   "outputs": [],
   "source": [
    "#Income: 50k – 75k (the national median) ---> changing it to 35k-100k"
   ]
  },
  {
   "cell_type": "code",
   "execution_count": null,
   "metadata": {},
   "outputs": [],
   "source": [
    "head(regression_sdoh2)\n",
    "dim(regression_sdoh2)\n",
    "colnames(regression_sdoh2)"
   ]
  },
  {
   "cell_type": "code",
   "execution_count": null,
   "metadata": {},
   "outputs": [],
   "source": [
    "table(regression_sdoh2$income)"
   ]
  },
  {
   "cell_type": "code",
   "execution_count": null,
   "metadata": {},
   "outputs": [],
   "source": [
    "regression_sdoh2$income[regression_sdoh2$income %in% '35k-50k' \n",
    "          | regression_sdoh2$income %in% '50k-75k'\n",
    "          | regression_sdoh2$income %in% '75k-100k'] <- \"35k-100k\"\n",
    "table(regression_sdoh2$income)"
   ]
  },
  {
   "cell_type": "code",
   "execution_count": null,
   "metadata": {},
   "outputs": [],
   "source": [
    "# Factor income\n",
    "regression_sdoh2$f.income <- factor(regression_sdoh2$income,\n",
    "                levels = c(\"35k-100k\", \"less 10k\", \"10k-25k\", \"25k-35k\",\n",
    "                          \"100k-150k\", \"150k-200k\",\n",
    "                          \"more than 200k\", \"Missing\"))"
   ]
  },
  {
   "cell_type": "code",
   "execution_count": null,
   "metadata": {},
   "outputs": [],
   "source": [
    "clogit(Treatment ~ f.sex + f.Race + f.Ethnicity + f.age + Metformin +\n",
    "                Myocardial_Infarction +\n",
    "                Congestive_Heart_Failure + Peripheral_Vascular_Disease +\n",
    "                Cerebrovascular_Disease + Cerebrovascular_Disease + Dementia +\n",
    "                Chronic_Pulmonary_Disease + Rheumatic_Disease + Peptic_Ulcer_Disease +\n",
    "                Liver_Disease_Mild + Liver_Disease_Moderate_Severe +  \n",
    "                Diabetes_without_Chronic_Complications + Diabetes_with_Chronic_Complications + \n",
    "                Hemiplegia_Paraplegia + Renal_Disease_Mild_Moderate + \n",
    "                Renal_Disease_Severe + HIV + Metastatic_Solid_Tumor + Malignancy + AIDS +\n",
    "                f.income +\n",
    "                strata(stratum), data=regression_sdoh2)"
   ]
  },
  {
   "cell_type": "code",
   "execution_count": null,
   "metadata": {},
   "outputs": [],
   "source": [
    "income_clogit2 <- clogit(Treatment ~ f.sex + f.Race + f.Ethnicity + f.age + Metformin +\n",
    "                Myocardial_Infarction +\n",
    "                Congestive_Heart_Failure + Peripheral_Vascular_Disease +\n",
    "                Cerebrovascular_Disease + Cerebrovascular_Disease + Dementia +\n",
    "                Chronic_Pulmonary_Disease + Rheumatic_Disease + Peptic_Ulcer_Disease +\n",
    "                Liver_Disease_Mild + Liver_Disease_Moderate_Severe +  \n",
    "                Diabetes_without_Chronic_Complications + Diabetes_with_Chronic_Complications + \n",
    "                Hemiplegia_Paraplegia + Renal_Disease_Mild_Moderate + \n",
    "                Renal_Disease_Severe + HIV + Metastatic_Solid_Tumor + Malignancy + AIDS +\n",
    "                f.income +\n",
    "                strata(stratum), data=regression_sdoh2)"
   ]
  },
  {
   "cell_type": "code",
   "execution_count": null,
   "metadata": {},
   "outputs": [],
   "source": [
    "save(income_clogit2, file = \"income_clogit2_11052023_AG.RData\")"
   ]
  },
  {
   "cell_type": "code",
   "execution_count": null,
   "metadata": {},
   "outputs": [],
   "source": [
    "(summary(income_clogit2))$coefficients"
   ]
  },
  {
   "cell_type": "code",
   "execution_count": null,
   "metadata": {
    "scrolled": true
   },
   "outputs": [],
   "source": [
    "write.csv((summary(income_clogit2))$coefficients)"
   ]
  },
  {
   "cell_type": "code",
   "execution_count": null,
   "metadata": {},
   "outputs": [],
   "source": []
  },
  {
   "cell_type": "markdown",
   "metadata": {},
   "source": [
    "## Housing"
   ]
  },
  {
   "cell_type": "code",
   "execution_count": null,
   "metadata": {},
   "outputs": [],
   "source": [
    "#Housing: owner"
   ]
  },
  {
   "cell_type": "code",
   "execution_count": null,
   "metadata": {},
   "outputs": [],
   "source": [
    "head(regression_sdoh2)\n",
    "dim(regression_sdoh2)\n",
    "colnames(regression_sdoh2)"
   ]
  },
  {
   "cell_type": "code",
   "execution_count": null,
   "metadata": {},
   "outputs": [],
   "source": [
    "table(regression_sdoh2$housing)"
   ]
  },
  {
   "cell_type": "code",
   "execution_count": null,
   "metadata": {},
   "outputs": [],
   "source": [
    "# Factor disability\n",
    "regression_sdoh2$f.housing <- factor(regression_sdoh2$housing,\n",
    "                levels = c(\"Own\", \"Rent\", \"Others\", \"Missing\"))"
   ]
  },
  {
   "cell_type": "code",
   "execution_count": null,
   "metadata": {},
   "outputs": [],
   "source": [
    "clogit(Treatment ~ f.sex + f.Race + f.Ethnicity + f.age + Metformin +\n",
    "                Myocardial_Infarction +\n",
    "                Congestive_Heart_Failure + Peripheral_Vascular_Disease +\n",
    "                Cerebrovascular_Disease + Cerebrovascular_Disease + Dementia +\n",
    "                Chronic_Pulmonary_Disease + Rheumatic_Disease + Peptic_Ulcer_Disease +\n",
    "                Liver_Disease_Mild + Liver_Disease_Moderate_Severe +  \n",
    "                Diabetes_without_Chronic_Complications + Diabetes_with_Chronic_Complications + \n",
    "                Hemiplegia_Paraplegia + Renal_Disease_Mild_Moderate + \n",
    "                Renal_Disease_Severe + HIV + Metastatic_Solid_Tumor + Malignancy + AIDS +\n",
    "                f.housing +\n",
    "                strata(stratum), data=regression_sdoh2)"
   ]
  },
  {
   "cell_type": "code",
   "execution_count": null,
   "metadata": {},
   "outputs": [],
   "source": [
    "housing_clogit <- clogit(Treatment ~ f.sex + f.Race + f.Ethnicity + f.age + Metformin +\n",
    "                Myocardial_Infarction +\n",
    "                Congestive_Heart_Failure + Peripheral_Vascular_Disease +\n",
    "                Cerebrovascular_Disease + Cerebrovascular_Disease + Dementia +\n",
    "                Chronic_Pulmonary_Disease + Rheumatic_Disease + Peptic_Ulcer_Disease +\n",
    "                Liver_Disease_Mild + Liver_Disease_Moderate_Severe +  \n",
    "                Diabetes_without_Chronic_Complications + Diabetes_with_Chronic_Complications + \n",
    "                Hemiplegia_Paraplegia + Renal_Disease_Mild_Moderate + \n",
    "                Renal_Disease_Severe + HIV + Metastatic_Solid_Tumor + Malignancy + AIDS +\n",
    "                f.housing +\n",
    "                strata(stratum), data=regression_sdoh)"
   ]
  },
  {
   "cell_type": "code",
   "execution_count": null,
   "metadata": {},
   "outputs": [],
   "source": [
    "save(housing_clogit, file = \"housing_clogit_11042023_AG.RData\")"
   ]
  },
  {
   "cell_type": "code",
   "execution_count": null,
   "metadata": {},
   "outputs": [],
   "source": [
    "(summary(housing_clogit))$coefficients"
   ]
  },
  {
   "cell_type": "code",
   "execution_count": null,
   "metadata": {},
   "outputs": [],
   "source": [
    "write.csv((summary(housing_clogit))$coefficients)"
   ]
  },
  {
   "cell_type": "code",
   "execution_count": null,
   "metadata": {},
   "outputs": [],
   "source": []
  },
  {
   "cell_type": "markdown",
   "metadata": {},
   "source": [
    "## Stable House"
   ]
  },
  {
   "cell_type": "code",
   "execution_count": null,
   "metadata": {},
   "outputs": [],
   "source": [
    "#Stable housing: no = baseline (question was whether or not you have to worry about housing\n",
    "# stability)"
   ]
  },
  {
   "cell_type": "code",
   "execution_count": null,
   "metadata": {},
   "outputs": [],
   "source": [
    "head(regression_sdoh2)\n",
    "dim(regression_sdoh2)\n",
    "colnames(regression_sdoh2)"
   ]
  },
  {
   "cell_type": "code",
   "execution_count": null,
   "metadata": {},
   "outputs": [],
   "source": [
    "table(regression_sdoh2$stable_house)"
   ]
  },
  {
   "cell_type": "code",
   "execution_count": null,
   "metadata": {},
   "outputs": [],
   "source": [
    "# Factor disability\n",
    "regression_sdoh2$f.stable_house <- factor(regression_sdoh2$stable_house,\n",
    "                levels = c(\"No\", \"Yes\", \"Missing\"))"
   ]
  },
  {
   "cell_type": "code",
   "execution_count": null,
   "metadata": {},
   "outputs": [],
   "source": [
    "clogit(Treatment ~ f.sex + f.Race + f.Ethnicity + f.age + Metformin +\n",
    "                Myocardial_Infarction +\n",
    "                Congestive_Heart_Failure + Peripheral_Vascular_Disease +\n",
    "                Cerebrovascular_Disease + Cerebrovascular_Disease + Dementia +\n",
    "                Chronic_Pulmonary_Disease + Rheumatic_Disease + Peptic_Ulcer_Disease +\n",
    "                Liver_Disease_Mild + Liver_Disease_Moderate_Severe +  \n",
    "                Diabetes_without_Chronic_Complications + Diabetes_with_Chronic_Complications + \n",
    "                Hemiplegia_Paraplegia + Renal_Disease_Mild_Moderate + \n",
    "                Renal_Disease_Severe + HIV + Metastatic_Solid_Tumor + Malignancy + AIDS +\n",
    "                f.stable_house +\n",
    "                strata(stratum), data=regression_sdoh2)"
   ]
  },
  {
   "cell_type": "code",
   "execution_count": null,
   "metadata": {},
   "outputs": [],
   "source": [
    "stable_house_clogit2 <- clogit(Treatment ~ f.sex + f.Race + f.Ethnicity + f.age + Metformin +\n",
    "                Myocardial_Infarction +\n",
    "                Congestive_Heart_Failure + Peripheral_Vascular_Disease +\n",
    "                Cerebrovascular_Disease + Cerebrovascular_Disease + Dementia +\n",
    "                Chronic_Pulmonary_Disease + Rheumatic_Disease + Peptic_Ulcer_Disease +\n",
    "                Liver_Disease_Mild + Liver_Disease_Moderate_Severe +  \n",
    "                Diabetes_without_Chronic_Complications + Diabetes_with_Chronic_Complications + \n",
    "                Hemiplegia_Paraplegia + Renal_Disease_Mild_Moderate + \n",
    "                Renal_Disease_Severe + HIV + Metastatic_Solid_Tumor + Malignancy + AIDS +\n",
    "                f.stable_house +\n",
    "                strata(stratum), data=regression_sdoh2)"
   ]
  },
  {
   "cell_type": "code",
   "execution_count": null,
   "metadata": {},
   "outputs": [],
   "source": [
    "save(stable_house_clogit2, file = \"stable_house_clogit2_11212023_AG.RData\")"
   ]
  },
  {
   "cell_type": "code",
   "execution_count": null,
   "metadata": {},
   "outputs": [],
   "source": [
    "(summary(stable_house_clogit2))$coefficients"
   ]
  },
  {
   "cell_type": "code",
   "execution_count": null,
   "metadata": {},
   "outputs": [],
   "source": [
    "write.csv((summary(stable_house_clogit2))$coefficients)"
   ]
  },
  {
   "cell_type": "markdown",
   "metadata": {},
   "source": [
    "## Regression files"
   ]
  },
  {
   "cell_type": "code",
   "execution_count": null,
   "metadata": {},
   "outputs": [],
   "source": [
    "# This snippet assumes that you run setup first --> BASE MODEL\n",
    "\n",
    "# This code copies a file from your Google Bucket into a dataframe\n",
    "\n",
    "# replace 'test.csv' with the name of the file in your google bucket (don't delete the quotation marks)\n",
    "name_of_file_in_bucket <- 'regression_bm_11032023_AG.fst'\n",
    "\n",
    "########################################################################\n",
    "##\n",
    "################# DON'T CHANGE FROM HERE ###############################\n",
    "##\n",
    "########################################################################\n",
    "\n",
    "# Get the bucket name\n",
    "my_bucket <- Sys.getenv('WORKSPACE_BUCKET')\n",
    "\n",
    "# Copy the file from current workspace to the bucket\n",
    "# system(paste0(\"gsutil cp \", my_bucket, \"/data/\", name_of_file_in_bucket, \" .\"), intern=T)\n",
    "\n",
    "# Load the file into a dataframe\n",
    "regression_bm  <- read_fst(name_of_file_in_bucket)\n",
    "head(regression_bm)"
   ]
  },
  {
   "cell_type": "code",
   "execution_count": null,
   "metadata": {},
   "outputs": [],
   "source": [
    "dim(regression_bm)"
   ]
  },
  {
   "cell_type": "code",
   "execution_count": null,
   "metadata": {},
   "outputs": [],
   "source": [
    "# Save regression_sdoh file round 1 --> NO MERGING OF FACTORS\n",
    "# This snippet assumes that you run setup first\n",
    "\n",
    "# This code saves your dataframe into a csv file in a \"data\" folder in Google Bucket\n",
    "\n",
    "# Replace df with THE NAME OF YOUR DATAFRAME\n",
    "my_dataframe <- regression_sdoh\n",
    "\n",
    "# Replace 'test.csv' with THE NAME of the file you're going to store in the bucket (don't delete the quotation marks)\n",
    "destination_filename <- 'regression_sdoh_11042023_AG.fst'\n",
    "\n",
    "########################################################################\n",
    "##\n",
    "################# DON'T CHANGE FROM HERE ###############################\n",
    "##\n",
    "########################################################################\n",
    "\n",
    "# store the dataframe in current workspace\n",
    "write_fst(my_dataframe, destination_filename)\n",
    "\n",
    "# Get the bucket name\n",
    "my_bucket <- Sys.getenv('WORKSPACE_BUCKET')\n",
    "\n",
    "# Copy the file from current workspace to the bucket\n",
    "system(paste0(\"gsutil cp ./\", destination_filename, \" \", my_bucket, \"/data/\"), intern=T)\n",
    "\n",
    "# Check if file is in the bucket\n",
    "system(paste0(\"gsutil ls \", my_bucket, \"/data/*.fst\"), intern=T)"
   ]
  },
  {
   "cell_type": "code",
   "execution_count": null,
   "metadata": {},
   "outputs": [],
   "source": [
    "# This snippet assumes that you run setup first\n",
    "\n",
    "# This code copies a file from your Google Bucket into a dataframe\n",
    "\n",
    "# replace 'test.csv' with the name of the file in your google bucket (don't delete the quotation marks)\n",
    "name_of_file_in_bucket <- 'regression_sdoh_11042023_AG.fst'\n",
    "\n",
    "########################################################################\n",
    "##\n",
    "################# DON'T CHANGE FROM HERE ###############################\n",
    "##\n",
    "########################################################################\n",
    "\n",
    "# Get the bucket name\n",
    "my_bucket <- Sys.getenv('WORKSPACE_BUCKET')\n",
    "\n",
    "# Copy the file from current workspace to the bucket\n",
    "system(paste0(\"gsutil cp \", my_bucket, \"/data/\", name_of_file_in_bucket, \" .\"), intern=T)\n",
    "\n",
    "# Load the file into a dataframe\n",
    "regression_sdoh  <- read_fst(name_of_file_in_bucket)\n",
    "head(regression_sdoh)"
   ]
  },
  {
   "cell_type": "code",
   "execution_count": null,
   "metadata": {},
   "outputs": [],
   "source": [
    "colnames(regression_sdoh2)\n",
    "head(regression_sdoh2)\n",
    "dim(regression_sdoh2)"
   ]
  },
  {
   "cell_type": "code",
   "execution_count": null,
   "metadata": {},
   "outputs": [],
   "source": [
    "# THIS IS THE MERGING OF FACTORS DATAFRAME, regression_sdoh2:\n",
    "# This snippet assumes that you run setup first\n",
    "\n",
    "# This code saves your dataframe into a csv file in a \"data\" folder in Google Bucket\n",
    "\n",
    "# Replace df with THE NAME OF YOUR DATAFRAME\n",
    "my_dataframe <- regression_sdoh2\n",
    "\n",
    "# Replace 'test.csv' with THE NAME of the file you're going to store in the bucket (don't delete the quotation marks)\n",
    "destination_filename <- 'regression_sdoh2_11122023_AG.fst'\n",
    "\n",
    "########################################################################\n",
    "##\n",
    "################# DON'T CHANGE FROM HERE ###############################\n",
    "##\n",
    "########################################################################\n",
    "\n",
    "# store the dataframe in current workspace\n",
    "write_fst(my_dataframe, destination_filename)\n",
    "\n",
    "# Get the bucket name\n",
    "my_bucket <- Sys.getenv('WORKSPACE_BUCKET')\n",
    "\n",
    "# Copy the file from current workspace to the bucket\n",
    "system(paste0(\"gsutil cp ./\", destination_filename, \" \", my_bucket, \"/data/\"), intern=T)\n",
    "\n",
    "# Check if file is in the bucket\n",
    "system(paste0(\"gsutil ls \", my_bucket, \"/data/*.fst\"), intern=T)\n"
   ]
  },
  {
   "cell_type": "code",
   "execution_count": null,
   "metadata": {},
   "outputs": [],
   "source": [
    "# This snippet assumes that you run setup first\n",
    "\n",
    "# This code copies a file from your Google Bucket into a dataframe\n",
    "\n",
    "# replace 'test.csv' with the name of the file in your google bucket (don't delete the quotation marks)\n",
    "name_of_file_in_bucket <- 'regression_sdoh2_11122023_AG.fst'\n",
    "\n",
    "########################################################################\n",
    "##\n",
    "################# DON'T CHANGE FROM HERE ###############################\n",
    "##\n",
    "########################################################################\n",
    "\n",
    "# Get the bucket name\n",
    "my_bucket <- Sys.getenv('WORKSPACE_BUCKET')\n",
    "\n",
    "# Copy the file from current workspace to the bucket\n",
    "system(paste0(\"gsutil cp \", my_bucket, \"/data/\", name_of_file_in_bucket, \" .\"), intern=T)\n",
    "\n",
    "# Load the file into a dataframe\n",
    "regression_sdoh2  <- read_fst(name_of_file_in_bucket)\n",
    "head(regression_sdoh2)"
   ]
  },
  {
   "cell_type": "code",
   "execution_count": null,
   "metadata": {},
   "outputs": [],
   "source": [
    "colnames(regression_sdoh2)"
   ]
  },
  {
   "cell_type": "code",
   "execution_count": null,
   "metadata": {},
   "outputs": [],
   "source": [
    "regression_sdoh2$f.stable_house <- NULL"
   ]
  },
  {
   "cell_type": "code",
   "execution_count": null,
   "metadata": {},
   "outputs": [],
   "source": [
    "colnames(regression_sdoh2)"
   ]
  },
  {
   "cell_type": "code",
   "execution_count": null,
   "metadata": {},
   "outputs": [],
   "source": [
    "# Third version of regression sdoh data (this one has the fixed stable housing)\n",
    "\n",
    "# This snippet assumes that you run setup first\n",
    "\n",
    "# This code saves your dataframe into a csv file in a \"data\" folder in Google Bucket\n",
    "\n",
    "# Replace df with THE NAME OF YOUR DATAFRAME\n",
    "my_dataframe <- regression_sdoh2\n",
    "\n",
    "# Replace 'test.csv' with THE NAME of the file you're going to store in the bucket (don't delete the quotation marks)\n",
    "destination_filename <- 'regression_sdoh2_11212023_AG.fst'\n",
    "\n",
    "########################################################################\n",
    "##\n",
    "################# DON'T CHANGE FROM HERE ###############################\n",
    "##\n",
    "########################################################################\n",
    "\n",
    "# store the dataframe in current workspace\n",
    "write_fst(my_dataframe, destination_filename)\n",
    "\n",
    "# Get the bucket name\n",
    "my_bucket <- Sys.getenv('WORKSPACE_BUCKET')\n",
    "\n",
    "# Copy the file from current workspace to the bucket\n",
    "system(paste0(\"gsutil cp ./\", destination_filename, \" \", my_bucket, \"/data/\"), intern=T)\n",
    "\n",
    "# Check if file is in the bucket\n",
    "system(paste0(\"gsutil ls \", my_bucket, \"/data/*.fst\"), intern=T)\n"
   ]
  },
  {
   "cell_type": "code",
   "execution_count": null,
   "metadata": {},
   "outputs": [],
   "source": [
    "# This snippet assumes that you run setup first\n",
    "\n",
    "# This code copies a file from your Google Bucket into a dataframe\n",
    "\n",
    "# replace 'test.csv' with the name of the file in your google bucket (don't delete the quotation marks)\n",
    "name_of_file_in_bucket <- 'regression_sdoh2_11212023_AG.fst'\n",
    "\n",
    "########################################################################\n",
    "##\n",
    "################# DON'T CHANGE FROM HERE ###############################\n",
    "##\n",
    "########################################################################\n",
    "\n",
    "# Get the bucket name\n",
    "my_bucket <- Sys.getenv('WORKSPACE_BUCKET')\n",
    "\n",
    "# Copy the file from current workspace to the bucket\n",
    "system(paste0(\"gsutil cp \", my_bucket, \"/data/\", name_of_file_in_bucket, \" .\"), intern=T)\n",
    "\n",
    "# Load the file into a dataframe\n",
    "regression_sdoh2  <- read_fst(name_of_file_in_bucket)\n",
    "head(regression_sdoh2)"
   ]
  },
  {
   "cell_type": "code",
   "execution_count": null,
   "metadata": {},
   "outputs": [],
   "source": [
    "dim(regression_sdoh)"
   ]
  },
  {
   "cell_type": "code",
   "execution_count": null,
   "metadata": {},
   "outputs": [],
   "source": [
    "colnames(regression_sdoh)"
   ]
  },
  {
   "cell_type": "markdown",
   "metadata": {},
   "source": [
    "# Genotypes"
   ]
  },
  {
   "cell_type": "markdown",
   "metadata": {},
   "source": [
    "## Clean Dataset"
   ]
  },
  {
   "cell_type": "code",
   "execution_count": null,
   "metadata": {},
   "outputs": [],
   "source": [
    "# This snippet assumes that you run setup first\n",
    "\n",
    "# This code copies a file from your Google Bucket into a dataframe\n",
    "\n",
    "# replace 'test.csv' with the name of the file in your google bucket (don't delete the quotation marks)\n",
    "name_of_file_in_bucket <- 'Acidosis_genotype_CX_11292023.csv'\n",
    "\n",
    "########################################################################\n",
    "##\n",
    "################# DON'T CHANGE FROM HERE ###############################\n",
    "##\n",
    "########################################################################\n",
    "\n",
    "# Get the bucket name\n",
    "my_bucket <- Sys.getenv('WORKSPACE_BUCKET')\n",
    "\n",
    "# Copy the file from current workspace to the bucket\n",
    "system(paste0(\"gsutil cp \", my_bucket, \"/data/\", name_of_file_in_bucket, \" .\"), intern=T)\n",
    "\n",
    "# Load the file into a dataframe\n",
    "genotype_og  <- read_csv(name_of_file_in_bucket)\n",
    "head(genotype_og)"
   ]
  },
  {
   "cell_type": "code",
   "execution_count": null,
   "metadata": {},
   "outputs": [],
   "source": [
    "library(survival)"
   ]
  },
  {
   "cell_type": "code",
   "execution_count": null,
   "metadata": {},
   "outputs": [],
   "source": [
    "dim(genotype_og)"
   ]
  },
  {
   "cell_type": "markdown",
   "metadata": {},
   "source": [
    "## MATE1: rs2289669 "
   ]
  },
  {
   "cell_type": "code",
   "execution_count": null,
   "metadata": {},
   "outputs": [],
   "source": [
    "rs2289669 <- subset(genotype_og, (locus == 'chr17:19560030'))\n",
    "head(rs2289669)\n",
    "dim(rs2289669)"
   ]
  },
  {
   "cell_type": "code",
   "execution_count": null,
   "metadata": {},
   "outputs": [],
   "source": [
    "length(unique(rs2289669$person_id\n",
    "# other data may have duplicates - will need to remove duplicates and choose what one is better\n",
    "# can do this manually "
   ]
  },
  {
   "cell_type": "code",
   "execution_count": null,
   "metadata": {},
   "outputs": [],
   "source": [
    "# Make the df smaller so that it only includes participants in the acidosis cohort "
   ]
  },
  {
   "cell_type": "code",
   "execution_count": null,
   "metadata": {},
   "outputs": [],
   "source": [
    "# This snippet assumes that you run setup first\n",
    "\n",
    "# This code copies a file from your Google Bucket into a dataframe\n",
    "\n",
    "# replace 'test.csv' with the name of the file in your google bucket (don't delete the quotation marks)\n",
    "name_of_file_in_bucket <- 'complete_cohort_pid_only_11032023_AG.csv'\n",
    "\n",
    "########################################################################\n",
    "##\n",
    "################# DON'T CHANGE FROM HERE ###############################\n",
    "##\n",
    "########################################################################\n",
    "\n",
    "# Get the bucket name\n",
    "my_bucket <- Sys.getenv('WORKSPACE_BUCKET')\n",
    "\n",
    "# Copy the file from current workspace to the bucket\n",
    "system(paste0(\"gsutil cp \", my_bucket, \"/data/\", name_of_file_in_bucket, \" .\"), intern=T)\n",
    "\n",
    "# Load the file into a dataframe\n",
    "cohort_pid  <- read_csv(name_of_file_in_bucket)\n",
    "head(cohort_pid)"
   ]
  },
  {
   "cell_type": "code",
   "execution_count": null,
   "metadata": {},
   "outputs": [],
   "source": [
    "dim(cohort_pid)"
   ]
  },
  {
   "cell_type": "code",
   "execution_count": null,
   "metadata": {},
   "outputs": [],
   "source": [
    "colnames(cohort_pid)[1] <- \"person_id\"\n",
    "head(cohort_pid)"
   ]
  },
  {
   "cell_type": "code",
   "execution_count": null,
   "metadata": {},
   "outputs": [],
   "source": [
    "rs2289669 <- merge(cohort_pid, rs2289669, by=\"person_id\", all.x = TRUE)\n",
    "head(rs2289669)\n",
    "dim(rs2289669)"
   ]
  },
  {
   "cell_type": "code",
   "execution_count": null,
   "metadata": {
    "scrolled": true
   },
   "outputs": [],
   "source": [
    "table(rs2289669$GT)"
   ]
  },
  {
   "cell_type": "code",
   "execution_count": null,
   "metadata": {},
   "outputs": [],
   "source": [
    "table(is.na(rs2289669$GT))"
   ]
  },
  {
   "cell_type": "code",
   "execution_count": null,
   "metadata": {},
   "outputs": [],
   "source": [
    "rs2289669_factor <- data.frame(person_id = rs2289669[,'person_id'])\n",
    "rs2289669_factor$GT <- 'Missing'\n",
    "rs2289669_factor$GT[rs2289669$GT %in% '0/0'] <- \"0/0\"\n",
    "rs2289669_factor$GT[rs2289669$GT %in% '0/1'] <- \"0/1\"\n",
    "rs2289669_factor$GT[rs2289669$GT %in% '1/1'] <- \"1/1\"\n",
    "\n",
    "head(rs2289669_factor)"
   ]
  },
  {
   "cell_type": "code",
   "execution_count": null,
   "metadata": {},
   "outputs": [],
   "source": [
    "table(rs2289669_factor$GT)"
   ]
  },
  {
   "cell_type": "code",
   "execution_count": null,
   "metadata": {},
   "outputs": [],
   "source": [
    "rs2289669_factor$f.rs2289669 <- factor(rs2289669_factor$GT,\n",
    "                levels = c(\"0/0\", \"0/1\", \"1/1\", \"Missing\"))"
   ]
  },
  {
   "cell_type": "code",
   "execution_count": null,
   "metadata": {},
   "outputs": [],
   "source": [
    "# This snippet assumes that you run setup first --> BASE MODEL\n",
    "\n",
    "# This code copies a file from your Google Bucket into a dataframe\n",
    "\n",
    "# replace 'test.csv' with the name of the file in your google bucket (don't delete the quotation marks)\n",
    "name_of_file_in_bucket <- 'regression_bm_11032023_AG.fst'\n",
    "\n",
    "########################################################################\n",
    "##\n",
    "################# DON'T CHANGE FROM HERE ###############################\n",
    "##\n",
    "########################################################################\n",
    "\n",
    "# Get the bucket name\n",
    "my_bucket <- Sys.getenv('WORKSPACE_BUCKET')\n",
    "\n",
    "# Copy the file from current workspace to the bucket\n",
    "# system(paste0(\"gsutil cp \", my_bucket, \"/data/\", name_of_file_in_bucket, \" .\"), intern=T)\n",
    "\n",
    "# Load the file into a dataframe\n",
    "regression_bm  <- read_fst(name_of_file_in_bucket)\n",
    "head(regression_bm)"
   ]
  },
  {
   "cell_type": "code",
   "execution_count": null,
   "metadata": {},
   "outputs": [],
   "source": [
    "rs2289669_factor <- merge(regression_bm, rs2289669_factor, by=\"person_id\", all.x = TRUE)\n",
    "head(rs2289669_factor)\n",
    "dim(rs2289669_factor)"
   ]
  },
  {
   "cell_type": "code",
   "execution_count": null,
   "metadata": {},
   "outputs": [],
   "source": [
    "clogit(Treatment ~ f.sex + f.Race + f.Ethnicity + f.age + Metformin +\n",
    "                Myocardial_Infarction +\n",
    "                Congestive_Heart_Failure + Peripheral_Vascular_Disease +\n",
    "                Cerebrovascular_Disease + Cerebrovascular_Disease + Dementia +\n",
    "                Chronic_Pulmonary_Disease + Rheumatic_Disease + Peptic_Ulcer_Disease +\n",
    "                Liver_Disease_Mild + Liver_Disease_Moderate_Severe +  \n",
    "                Diabetes_without_Chronic_Complications + Diabetes_with_Chronic_Complications + \n",
    "                Hemiplegia_Paraplegia + Renal_Disease_Mild_Moderate + \n",
    "                Renal_Disease_Severe + HIV + Metastatic_Solid_Tumor + Malignancy + AIDS +\n",
    "                f.rs2289669 +\n",
    "                strata(stratum), data=rs2289669_factor)"
   ]
  },
  {
   "cell_type": "code",
   "execution_count": null,
   "metadata": {},
   "outputs": [],
   "source": [
    "rs22896690_clogit <- clogit(Treatment ~ f.sex + f.Race + f.Ethnicity + f.age + Metformin +\n",
    "                Myocardial_Infarction +\n",
    "                Congestive_Heart_Failure + Peripheral_Vascular_Disease +\n",
    "                Cerebrovascular_Disease + Cerebrovascular_Disease + Dementia +\n",
    "                Chronic_Pulmonary_Disease + Rheumatic_Disease + Peptic_Ulcer_Disease +\n",
    "                Liver_Disease_Mild + Liver_Disease_Moderate_Severe +  \n",
    "                Diabetes_without_Chronic_Complications + Diabetes_with_Chronic_Complications + \n",
    "                Hemiplegia_Paraplegia + Renal_Disease_Mild_Moderate + \n",
    "                Renal_Disease_Severe + HIV + Metastatic_Solid_Tumor + Malignancy + AIDS +\n",
    "                f.rs2289669 +\n",
    "                strata(stratum), data=rs2289669_factor)"
   ]
  },
  {
   "cell_type": "code",
   "execution_count": null,
   "metadata": {},
   "outputs": [],
   "source": [
    "save(rs22896690_clogit, file = \"rs22896690_clogit_12022023_AG.RData\")"
   ]
  },
  {
   "cell_type": "code",
   "execution_count": null,
   "metadata": {},
   "outputs": [],
   "source": [
    "(summary(rs22896690_clogit))$coefficients"
   ]
  },
  {
   "cell_type": "code",
   "execution_count": null,
   "metadata": {},
   "outputs": [],
   "source": [
    "write.csv((summary(rs22896690_clogit))$coefficients)"
   ]
  },
  {
   "cell_type": "code",
   "execution_count": null,
   "metadata": {},
   "outputs": [],
   "source": []
  },
  {
   "cell_type": "markdown",
   "metadata": {},
   "source": [
    "## MATE1: rs8065082  "
   ]
  },
  {
   "cell_type": "code",
   "execution_count": null,
   "metadata": {},
   "outputs": [],
   "source": [
    "17:19561878"
   ]
  },
  {
   "cell_type": "code",
   "execution_count": null,
   "metadata": {},
   "outputs": [],
   "source": [
    "rs8065082 <- subset(genotype_og, (locus == 'chr17:19561878'))\n",
    "head(rs8065082)\n",
    "dim(rs8065082)"
   ]
  },
  {
   "cell_type": "code",
   "execution_count": null,
   "metadata": {},
   "outputs": [],
   "source": [
    "length(unique(rs8065082$person_id))"
   ]
  },
  {
   "cell_type": "code",
   "execution_count": null,
   "metadata": {},
   "outputs": [],
   "source": [
    "rs8065082 <- merge(regression_bm, rs8065082, by=\"person_id\", all.x = TRUE)\n",
    "head(rs8065082)\n",
    "dim(rs8065082)"
   ]
  },
  {
   "cell_type": "code",
   "execution_count": null,
   "metadata": {},
   "outputs": [],
   "source": [
    "table(rs8065082$GT)"
   ]
  },
  {
   "cell_type": "code",
   "execution_count": null,
   "metadata": {},
   "outputs": [],
   "source": [
    "table(is.na(rs8065082$GT))"
   ]
  },
  {
   "cell_type": "code",
   "execution_count": null,
   "metadata": {},
   "outputs": [],
   "source": [
    "rs8065082_factor <- data.frame(person_id = rs8065082[,'person_id'])\n",
    "rs8065082_factor$GT <- 'Missing'\n",
    "rs8065082_factor$GT[rs8065082$GT %in% '0/0'] <- \"0/0\"\n",
    "rs8065082_factor$GT[rs8065082$GT %in% '0/1'] <- \"0/1\"\n",
    "rs8065082_factor$GT[rs8065082$GT %in% '1/1'] <- \"1/1\"\n",
    "\n",
    "head(rs8065082_factor)"
   ]
  },
  {
   "cell_type": "code",
   "execution_count": null,
   "metadata": {},
   "outputs": [],
   "source": [
    "table(rs8065082_factor$GT)"
   ]
  },
  {
   "cell_type": "code",
   "execution_count": null,
   "metadata": {},
   "outputs": [],
   "source": [
    "rs8065082_factor$f.rs8065082 <- factor(rs8065082_factor$GT,\n",
    "                levels = c(\"0/0\", \"0/1\", \"1/1\", \"Missing\"))"
   ]
  },
  {
   "cell_type": "code",
   "execution_count": null,
   "metadata": {},
   "outputs": [],
   "source": [
    "rs8065082_factor <- merge(regression_bm, rs8065082_factor, by=\"person_id\", all.x = TRUE)\n",
    "head(rs8065082_factor)\n",
    "dim(rs8065082_factor)"
   ]
  },
  {
   "cell_type": "code",
   "execution_count": null,
   "metadata": {},
   "outputs": [],
   "source": [
    "clogit(Treatment ~ f.sex + f.Race + f.Ethnicity + f.age + Metformin +\n",
    "                Myocardial_Infarction +\n",
    "                Congestive_Heart_Failure + Peripheral_Vascular_Disease +\n",
    "                Cerebrovascular_Disease + Cerebrovascular_Disease + Dementia +\n",
    "                Chronic_Pulmonary_Disease + Rheumatic_Disease + Peptic_Ulcer_Disease +\n",
    "                Liver_Disease_Mild + Liver_Disease_Moderate_Severe +  \n",
    "                Diabetes_without_Chronic_Complications + Diabetes_with_Chronic_Complications + \n",
    "                Hemiplegia_Paraplegia + Renal_Disease_Mild_Moderate + \n",
    "                Renal_Disease_Severe + HIV + Metastatic_Solid_Tumor + Malignancy + AIDS +\n",
    "                f.rs8065082 +\n",
    "                strata(stratum), data=rs8065082_factor)"
   ]
  },
  {
   "cell_type": "code",
   "execution_count": null,
   "metadata": {},
   "outputs": [],
   "source": [
    "rs8065082_clogit <- clogit(Treatment ~ f.sex + f.Race + f.Ethnicity + f.age + Metformin +\n",
    "                Myocardial_Infarction +\n",
    "                Congestive_Heart_Failure + Peripheral_Vascular_Disease +\n",
    "                Cerebrovascular_Disease + Cerebrovascular_Disease + Dementia +\n",
    "                Chronic_Pulmonary_Disease + Rheumatic_Disease + Peptic_Ulcer_Disease +\n",
    "                Liver_Disease_Mild + Liver_Disease_Moderate_Severe +  \n",
    "                Diabetes_without_Chronic_Complications + Diabetes_with_Chronic_Complications + \n",
    "                Hemiplegia_Paraplegia + Renal_Disease_Mild_Moderate + \n",
    "                Renal_Disease_Severe + HIV + Metastatic_Solid_Tumor + Malignancy + AIDS +\n",
    "                f.rs8065082 +\n",
    "                strata(stratum), data=rs8065082_factor)"
   ]
  },
  {
   "cell_type": "code",
   "execution_count": null,
   "metadata": {},
   "outputs": [],
   "source": [
    "save(rs8065082_clogit, file = \"rs8065082_clogit_12022023_AG.RData\")"
   ]
  },
  {
   "cell_type": "code",
   "execution_count": null,
   "metadata": {},
   "outputs": [],
   "source": [
    "(summary(rs8065082_clogit))$coefficients"
   ]
  },
  {
   "cell_type": "code",
   "execution_count": null,
   "metadata": {},
   "outputs": [],
   "source": [
    "write.csv((summary(rs8065082_clogit))$coefficients)"
   ]
  },
  {
   "cell_type": "code",
   "execution_count": null,
   "metadata": {},
   "outputs": [],
   "source": []
  },
  {
   "cell_type": "code",
   "execution_count": null,
   "metadata": {},
   "outputs": [],
   "source": []
  },
  {
   "cell_type": "markdown",
   "metadata": {},
   "source": [
    "## MATE2K: rs12943590   "
   ]
  },
  {
   "cell_type": "code",
   "execution_count": null,
   "metadata": {},
   "outputs": [],
   "source": [
    "rs12943590 <- subset(genotype_og, (locus == 'chr17:19716685'))\n",
    "head(rs12943590)\n",
    "dim(rs12943590)"
   ]
  },
  {
   "cell_type": "code",
   "execution_count": null,
   "metadata": {},
   "outputs": [],
   "source": [
    "length(unique(rs12943590$person_id))"
   ]
  },
  {
   "cell_type": "code",
   "execution_count": null,
   "metadata": {},
   "outputs": [],
   "source": [
    "rs12943590 <- merge(cohort_pid, rs12943590, by=\"person_id\", all.x = TRUE)\n",
    "head(rs12943590)\n",
    "dim(rs12943590)"
   ]
  },
  {
   "cell_type": "code",
   "execution_count": null,
   "metadata": {},
   "outputs": [],
   "source": [
    "table(rs12943590$GT)"
   ]
  },
  {
   "cell_type": "code",
   "execution_count": null,
   "metadata": {},
   "outputs": [],
   "source": [
    "table(is.na(rs12943590$GT))"
   ]
  },
  {
   "cell_type": "code",
   "execution_count": null,
   "metadata": {},
   "outputs": [],
   "source": [
    "rs12943590_factor <- data.frame(person_id = rs12943590[,'person_id'])\n",
    "rs12943590_factor$GT <- 'Missing'\n",
    "rs12943590_factor$GT[rs12943590$GT %in% '0/0'] <- \"0/0\"\n",
    "rs12943590_factor$GT[rs12943590$GT %in% '0/1'] <- \"0/1\"\n",
    "rs12943590_factor$GT[rs12943590$GT %in% '1/1'] <- \"1/1\"\n",
    "\n",
    "head(rs12943590_factor)"
   ]
  },
  {
   "cell_type": "code",
   "execution_count": null,
   "metadata": {},
   "outputs": [],
   "source": [
    "table(rs12943590_factor$GT)"
   ]
  },
  {
   "cell_type": "code",
   "execution_count": null,
   "metadata": {},
   "outputs": [],
   "source": [
    "rs12943590_factor$f.rs12943590 <- factor(rs12943590_factor$GT,\n",
    "                levels = c(\"0/0\", \"0/1\", \"1/1\", \"Missing\"))"
   ]
  },
  {
   "cell_type": "code",
   "execution_count": null,
   "metadata": {},
   "outputs": [],
   "source": [
    "rs12943590_factor <- merge(regression_bm, rs12943590_factor, by=\"person_id\", all.x = TRUE)\n",
    "head(rs12943590_factor)\n",
    "dim(rs12943590_factor)"
   ]
  },
  {
   "cell_type": "code",
   "execution_count": null,
   "metadata": {},
   "outputs": [],
   "source": [
    "clogit(Treatment ~ f.sex + f.Race + f.Ethnicity + f.age + Metformin +\n",
    "                Myocardial_Infarction +\n",
    "                Congestive_Heart_Failure + Peripheral_Vascular_Disease +\n",
    "                Cerebrovascular_Disease + Cerebrovascular_Disease + Dementia +\n",
    "                Chronic_Pulmonary_Disease + Rheumatic_Disease + Peptic_Ulcer_Disease +\n",
    "                Liver_Disease_Mild + Liver_Disease_Moderate_Severe +  \n",
    "                Diabetes_without_Chronic_Complications + Diabetes_with_Chronic_Complications + \n",
    "                Hemiplegia_Paraplegia + Renal_Disease_Mild_Moderate + \n",
    "                Renal_Disease_Severe + HIV + Metastatic_Solid_Tumor + Malignancy + AIDS +\n",
    "                f.rs12943590 +\n",
    "                strata(stratum), data=rs12943590_factor)"
   ]
  },
  {
   "cell_type": "code",
   "execution_count": null,
   "metadata": {},
   "outputs": [],
   "source": [
    "rs12943590_clogit <- clogit(Treatment ~ f.sex + f.Race + f.Ethnicity + f.age + Metformin +\n",
    "                Myocardial_Infarction +\n",
    "                Congestive_Heart_Failure + Peripheral_Vascular_Disease +\n",
    "                Cerebrovascular_Disease + Cerebrovascular_Disease + Dementia +\n",
    "                Chronic_Pulmonary_Disease + Rheumatic_Disease + Peptic_Ulcer_Disease +\n",
    "                Liver_Disease_Mild + Liver_Disease_Moderate_Severe +  \n",
    "                Diabetes_without_Chronic_Complications + Diabetes_with_Chronic_Complications + \n",
    "                Hemiplegia_Paraplegia + Renal_Disease_Mild_Moderate + \n",
    "                Renal_Disease_Severe + HIV + Metastatic_Solid_Tumor + Malignancy + AIDS +\n",
    "                f.rs12943590 +\n",
    "                strata(stratum), data=rs12943590_factor)"
   ]
  },
  {
   "cell_type": "code",
   "execution_count": null,
   "metadata": {},
   "outputs": [],
   "source": [
    "save(rs12943590_clogit, file = \"rs12943590_clogit_12022023_AG.RData\")"
   ]
  },
  {
   "cell_type": "code",
   "execution_count": null,
   "metadata": {},
   "outputs": [],
   "source": [
    "(summary(rs12943590_clogit))$coefficients"
   ]
  },
  {
   "cell_type": "code",
   "execution_count": null,
   "metadata": {},
   "outputs": [],
   "source": [
    "write.csv((summary(rs12943590_clogit))$coefficients)"
   ]
  },
  {
   "cell_type": "code",
   "execution_count": null,
   "metadata": {},
   "outputs": [],
   "source": []
  },
  {
   "cell_type": "markdown",
   "metadata": {},
   "source": [
    "## OCTN1: rs272893   "
   ]
  },
  {
   "cell_type": "code",
   "execution_count": null,
   "metadata": {},
   "outputs": [],
   "source": [
    "rs272893 <- subset(genotype_og, (locus == 'chr5:132327369'))\n",
    "head(rs272893)\n",
    "dim(rs272893)"
   ]
  },
  {
   "cell_type": "code",
   "execution_count": null,
   "metadata": {},
   "outputs": [],
   "source": [
    "length(unique(rs272893$person_id))"
   ]
  },
  {
   "cell_type": "code",
   "execution_count": null,
   "metadata": {},
   "outputs": [],
   "source": [
    "rs272893 <- merge(cohort_pid, rs272893, by=\"person_id\", all.x = TRUE)\n",
    "head(rs272893)\n",
    "dim(rs272893)"
   ]
  },
  {
   "cell_type": "code",
   "execution_count": null,
   "metadata": {},
   "outputs": [],
   "source": [
    "table(rs272893$GT)"
   ]
  },
  {
   "cell_type": "code",
   "execution_count": null,
   "metadata": {},
   "outputs": [],
   "source": [
    "table(is.na(rs272893$GT))"
   ]
  },
  {
   "cell_type": "code",
   "execution_count": null,
   "metadata": {},
   "outputs": [],
   "source": [
    "rs272893_factor <- data.frame(person_id = rs272893[,'person_id'])\n",
    "rs272893_factor$GT <- 'Missing'\n",
    "rs272893_factor$GT[rs272893$GT %in% '0/0'] <- \"0/0\"\n",
    "rs272893_factor$GT[rs272893$GT %in% '0/1'] <- \"0/1\"\n",
    "rs272893_factor$GT[rs272893$GT %in% '1/1'] <- \"1/1\"\n",
    "\n",
    "head(rs272893_factor)"
   ]
  },
  {
   "cell_type": "code",
   "execution_count": null,
   "metadata": {},
   "outputs": [],
   "source": [
    "table(rs272893_factor$GT)"
   ]
  },
  {
   "cell_type": "code",
   "execution_count": null,
   "metadata": {},
   "outputs": [],
   "source": [
    "rs272893_factor$f.rs272893 <- factor(rs272893_factor$GT,\n",
    "                levels = c(\"0/0\", \"0/1\", \"1/1\", \"Missing\"))"
   ]
  },
  {
   "cell_type": "code",
   "execution_count": null,
   "metadata": {},
   "outputs": [],
   "source": [
    "rs272893_factor <- merge(regression_bm, rs272893_factor, by=\"person_id\", all.x = TRUE)\n",
    "head(rs272893_factor)\n",
    "dim(rs272893_factor)"
   ]
  },
  {
   "cell_type": "code",
   "execution_count": null,
   "metadata": {
    "scrolled": true
   },
   "outputs": [],
   "source": [
    "clogit(Treatment ~ f.sex + f.Race + f.Ethnicity + f.age + Metformin +\n",
    "                Myocardial_Infarction +\n",
    "                Congestive_Heart_Failure + Peripheral_Vascular_Disease +\n",
    "                Cerebrovascular_Disease + Cerebrovascular_Disease + Dementia +\n",
    "                Chronic_Pulmonary_Disease + Rheumatic_Disease + Peptic_Ulcer_Disease +\n",
    "                Liver_Disease_Mild + Liver_Disease_Moderate_Severe +  \n",
    "                Diabetes_without_Chronic_Complications + Diabetes_with_Chronic_Complications + \n",
    "                Hemiplegia_Paraplegia + Renal_Disease_Mild_Moderate + \n",
    "                Renal_Disease_Severe + HIV + Metastatic_Solid_Tumor + Malignancy + AIDS +\n",
    "                f.rs272893 +\n",
    "                strata(stratum), data=rs272893_factor)"
   ]
  },
  {
   "cell_type": "code",
   "execution_count": null,
   "metadata": {},
   "outputs": [],
   "source": [
    "rs272893_clogit <- clogit(Treatment ~ f.sex + f.Race + f.Ethnicity + f.age + Metformin +\n",
    "                Myocardial_Infarction +\n",
    "                Congestive_Heart_Failure + Peripheral_Vascular_Disease +\n",
    "                Cerebrovascular_Disease + Cerebrovascular_Disease + Dementia +\n",
    "                Chronic_Pulmonary_Disease + Rheumatic_Disease + Peptic_Ulcer_Disease +\n",
    "                Liver_Disease_Mild + Liver_Disease_Moderate_Severe +  \n",
    "                Diabetes_without_Chronic_Complications + Diabetes_with_Chronic_Complications + \n",
    "                Hemiplegia_Paraplegia + Renal_Disease_Mild_Moderate + \n",
    "                Renal_Disease_Severe + HIV + Metastatic_Solid_Tumor + Malignancy + AIDS +\n",
    "                f.rs272893 +\n",
    "                strata(stratum), data=rs272893_factor)"
   ]
  },
  {
   "cell_type": "code",
   "execution_count": null,
   "metadata": {},
   "outputs": [],
   "source": [
    "save(rs272893_clogit, file = \"rs272893_clogit_12022023_AG.RData\")"
   ]
  },
  {
   "cell_type": "code",
   "execution_count": null,
   "metadata": {},
   "outputs": [],
   "source": [
    "(summary(rs272893_clogit))$coefficients"
   ]
  },
  {
   "cell_type": "code",
   "execution_count": null,
   "metadata": {},
   "outputs": [],
   "source": [
    "write.csv((summary(rs272893_clogit))$coefficients)"
   ]
  },
  {
   "cell_type": "code",
   "execution_count": null,
   "metadata": {},
   "outputs": [],
   "source": []
  },
  {
   "cell_type": "markdown",
   "metadata": {},
   "source": [
    "## OCT1: rs12208357   "
   ]
  },
  {
   "cell_type": "code",
   "execution_count": null,
   "metadata": {},
   "outputs": [],
   "source": [
    "rs12208357 <- subset(genotype_og, (locus == 'chr6:160122116'))\n",
    "head(rs12208357)\n",
    "dim(rs12208357)"
   ]
  },
  {
   "cell_type": "code",
   "execution_count": null,
   "metadata": {},
   "outputs": [],
   "source": [
    "length(unique(rs12208357$person_id))"
   ]
  },
  {
   "cell_type": "code",
   "execution_count": null,
   "metadata": {},
   "outputs": [],
   "source": [
    "rs12208357 <- merge(cohort_pid, rs12208357, by=\"person_id\", all.x = TRUE)\n",
    "head(rs12208357)\n",
    "dim(rs12208357)"
   ]
  },
  {
   "cell_type": "code",
   "execution_count": null,
   "metadata": {},
   "outputs": [],
   "source": [
    "table(rs12208357$GT)"
   ]
  },
  {
   "cell_type": "code",
   "execution_count": null,
   "metadata": {},
   "outputs": [],
   "source": [
    "table(is.na(rs12208357$GT))"
   ]
  },
  {
   "cell_type": "code",
   "execution_count": null,
   "metadata": {},
   "outputs": [],
   "source": [
    "rs12208357_factor <- data.frame(person_id = rs12208357[,'person_id'])\n",
    "rs12208357_factor$GT <- 'Missing'\n",
    "rs12208357_factor$GT[rs12208357$GT %in% '0/0'] <- \"0/0\"\n",
    "rs12208357_factor$GT[rs12208357$GT %in% '0/1'] <- \"0/1\"\n",
    "rs12208357_factor$GT[rs12208357$GT %in% '1/1'] <- \"1/1\"\n",
    "\n",
    "head(rs12208357_factor)"
   ]
  },
  {
   "cell_type": "code",
   "execution_count": null,
   "metadata": {},
   "outputs": [],
   "source": [
    "table(rs12208357_factor$GT)"
   ]
  },
  {
   "cell_type": "code",
   "execution_count": null,
   "metadata": {},
   "outputs": [],
   "source": [
    "rs12208357_factor$f.rs12208357 <- factor(rs12208357_factor$GT,\n",
    "                levels = c(\"0/0\", \"0/1\", \"1/1\", \"Missing\"))"
   ]
  },
  {
   "cell_type": "code",
   "execution_count": null,
   "metadata": {},
   "outputs": [],
   "source": [
    "rs12208357_factor <- merge(regression_bm, rs12208357_factor, by=\"person_id\", all.x = TRUE)\n",
    "head(rs12208357_factor)\n",
    "dim(rs12208357_factor)"
   ]
  },
  {
   "cell_type": "code",
   "execution_count": null,
   "metadata": {},
   "outputs": [],
   "source": [
    "clogit(Treatment ~ f.sex + f.Race + f.Ethnicity + f.age + Metformin +\n",
    "                Myocardial_Infarction +\n",
    "                Congestive_Heart_Failure + Peripheral_Vascular_Disease +\n",
    "                Cerebrovascular_Disease + Cerebrovascular_Disease + Dementia +\n",
    "                Chronic_Pulmonary_Disease + Rheumatic_Disease + Peptic_Ulcer_Disease +\n",
    "                Liver_Disease_Mild + Liver_Disease_Moderate_Severe +  \n",
    "                Diabetes_without_Chronic_Complications + Diabetes_with_Chronic_Complications + \n",
    "                Hemiplegia_Paraplegia + Renal_Disease_Mild_Moderate + \n",
    "                Renal_Disease_Severe + HIV + Metastatic_Solid_Tumor + Malignancy + AIDS +\n",
    "                f.rs12208357 +\n",
    "                strata(stratum), data=rs12208357_factor)"
   ]
  },
  {
   "cell_type": "code",
   "execution_count": null,
   "metadata": {},
   "outputs": [],
   "source": [
    "rs12208357_clogit <- clogit(Treatment ~ f.sex + f.Race + f.Ethnicity + f.age + Metformin +\n",
    "                Myocardial_Infarction +\n",
    "                Congestive_Heart_Failure + Peripheral_Vascular_Disease +\n",
    "                Cerebrovascular_Disease + Cerebrovascular_Disease + Dementia +\n",
    "                Chronic_Pulmonary_Disease + Rheumatic_Disease + Peptic_Ulcer_Disease +\n",
    "                Liver_Disease_Mild + Liver_Disease_Moderate_Severe +  \n",
    "                Diabetes_without_Chronic_Complications + Diabetes_with_Chronic_Complications + \n",
    "                Hemiplegia_Paraplegia + Renal_Disease_Mild_Moderate + \n",
    "                Renal_Disease_Severe + HIV + Metastatic_Solid_Tumor + Malignancy + AIDS +\n",
    "                f.rs12208357 +\n",
    "                strata(stratum), data=rs12208357_factor)"
   ]
  },
  {
   "cell_type": "code",
   "execution_count": null,
   "metadata": {},
   "outputs": [],
   "source": [
    "save(rs12208357_clogit, file = \"rs12208357_clogit_12022023_AG.RData\")"
   ]
  },
  {
   "cell_type": "code",
   "execution_count": null,
   "metadata": {},
   "outputs": [],
   "source": [
    "(summary(rs12208357_clogit))$coefficients"
   ]
  },
  {
   "cell_type": "code",
   "execution_count": null,
   "metadata": {},
   "outputs": [],
   "source": [
    "write.csv((summary(rs12208357_clogit))$coefficients)"
   ]
  },
  {
   "cell_type": "code",
   "execution_count": null,
   "metadata": {},
   "outputs": [],
   "source": []
  },
  {
   "cell_type": "markdown",
   "metadata": {},
   "source": [
    "## OCT1: rs622342    "
   ]
  },
  {
   "cell_type": "code",
   "execution_count": null,
   "metadata": {},
   "outputs": [],
   "source": [
    "rs622342 <- subset(genotype_og, (locus == 'chr6:160151834'))\n",
    "head(rs622342)\n",
    "dim(rs622342)"
   ]
  },
  {
   "cell_type": "code",
   "execution_count": null,
   "metadata": {},
   "outputs": [],
   "source": [
    "length(unique(rs622342$person_id))"
   ]
  },
  {
   "cell_type": "code",
   "execution_count": null,
   "metadata": {},
   "outputs": [],
   "source": [
    "rs622342 <- merge(cohort_pid, rs622342, by=\"person_id\", all.x = TRUE)\n",
    "head(rs622342)\n",
    "dim(rs622342)"
   ]
  },
  {
   "cell_type": "code",
   "execution_count": null,
   "metadata": {},
   "outputs": [],
   "source": [
    "table(rs622342$GT)"
   ]
  },
  {
   "cell_type": "code",
   "execution_count": null,
   "metadata": {},
   "outputs": [],
   "source": [
    "table(is.na(rs622342$GT))"
   ]
  },
  {
   "cell_type": "code",
   "execution_count": null,
   "metadata": {},
   "outputs": [],
   "source": [
    "rs622342_factor <- data.frame(person_id = rs622342[,'person_id'])\n",
    "rs622342_factor$GT <- 'Missing'\n",
    "rs622342_factor$GT[rs622342$GT %in% '0/0'] <- \"0/0\"\n",
    "rs622342_factor$GT[rs622342$GT %in% '0/1'] <- \"0/1\"\n",
    "rs622342_factor$GT[rs622342$GT %in% '1/1'] <- \"1/1\"\n",
    "\n",
    "head(rs622342_factor)"
   ]
  },
  {
   "cell_type": "code",
   "execution_count": null,
   "metadata": {},
   "outputs": [],
   "source": [
    "table(rs622342_factor$GT)"
   ]
  },
  {
   "cell_type": "code",
   "execution_count": null,
   "metadata": {},
   "outputs": [],
   "source": [
    "rs622342_factor$f.rs622342 <- factor(rs622342_factor$GT,\n",
    "                levels = c(\"0/0\", \"0/1\", \"1/1\", \"Missing\"))"
   ]
  },
  {
   "cell_type": "code",
   "execution_count": null,
   "metadata": {},
   "outputs": [],
   "source": [
    "rs622342_factor <- merge(regression_bm, rs622342_factor, by=\"person_id\", all.x = TRUE)\n",
    "head(rs622342_factor)\n",
    "dim(rs622342_factor)"
   ]
  },
  {
   "cell_type": "code",
   "execution_count": null,
   "metadata": {},
   "outputs": [],
   "source": [
    "clogit(Treatment ~ f.sex + f.Race + f.Ethnicity + f.age + Metformin +\n",
    "                Myocardial_Infarction +\n",
    "                Congestive_Heart_Failure + Peripheral_Vascular_Disease +\n",
    "                Cerebrovascular_Disease + Cerebrovascular_Disease + Dementia +\n",
    "                Chronic_Pulmonary_Disease + Rheumatic_Disease + Peptic_Ulcer_Disease +\n",
    "                Liver_Disease_Mild + Liver_Disease_Moderate_Severe +  \n",
    "                Diabetes_without_Chronic_Complications + Diabetes_with_Chronic_Complications + \n",
    "                Hemiplegia_Paraplegia + Renal_Disease_Mild_Moderate + \n",
    "                Renal_Disease_Severe + HIV + Metastatic_Solid_Tumor + Malignancy + AIDS +\n",
    "                f.rs622342 +\n",
    "                strata(stratum), data=rs622342_factor)"
   ]
  },
  {
   "cell_type": "code",
   "execution_count": null,
   "metadata": {},
   "outputs": [],
   "source": [
    "rs622342_clogit <- clogit(Treatment ~ f.sex + f.Race + f.Ethnicity + f.age + Metformin +\n",
    "                Myocardial_Infarction +\n",
    "                Congestive_Heart_Failure + Peripheral_Vascular_Disease +\n",
    "                Cerebrovascular_Disease + Cerebrovascular_Disease + Dementia +\n",
    "                Chronic_Pulmonary_Disease + Rheumatic_Disease + Peptic_Ulcer_Disease +\n",
    "                Liver_Disease_Mild + Liver_Disease_Moderate_Severe +  \n",
    "                Diabetes_without_Chronic_Complications + Diabetes_with_Chronic_Complications + \n",
    "                Hemiplegia_Paraplegia + Renal_Disease_Mild_Moderate + \n",
    "                Renal_Disease_Severe + HIV + Metastatic_Solid_Tumor + Malignancy + AIDS +\n",
    "                f.rs622342 +\n",
    "                strata(stratum), data=rs622342_factor)"
   ]
  },
  {
   "cell_type": "code",
   "execution_count": null,
   "metadata": {},
   "outputs": [],
   "source": [
    "save(rs622342_clogit, file = \"rs622342_clogit_12022023_AG.RData\")"
   ]
  },
  {
   "cell_type": "code",
   "execution_count": null,
   "metadata": {},
   "outputs": [],
   "source": [
    "(summary(rs622342_clogit))$coefficients"
   ]
  },
  {
   "cell_type": "code",
   "execution_count": null,
   "metadata": {},
   "outputs": [],
   "source": [
    "write.csv((summary(rs622342_clogit))$coefficients)"
   ]
  },
  {
   "cell_type": "code",
   "execution_count": null,
   "metadata": {},
   "outputs": [],
   "source": []
  },
  {
   "cell_type": "markdown",
   "metadata": {},
   "source": [
    "## OCT2: rs316019"
   ]
  },
  {
   "cell_type": "code",
   "execution_count": null,
   "metadata": {},
   "outputs": [],
   "source": [
    "rs316019 <- subset(genotype_og, (locus == 'chr6:160249250'))\n",
    "head(rs316019)\n",
    "dim(rs316019)"
   ]
  },
  {
   "cell_type": "code",
   "execution_count": null,
   "metadata": {},
   "outputs": [],
   "source": [
    "length(unique(rs316019$person_id))"
   ]
  },
  {
   "cell_type": "code",
   "execution_count": null,
   "metadata": {},
   "outputs": [],
   "source": [
    "rs316019 <- merge(cohort_pid, rs316019, by=\"person_id\", all.x = TRUE)\n",
    "head(rs316019)\n",
    "dim(rs316019)"
   ]
  },
  {
   "cell_type": "code",
   "execution_count": null,
   "metadata": {},
   "outputs": [],
   "source": [
    "table(rs316019$GT)"
   ]
  },
  {
   "cell_type": "code",
   "execution_count": null,
   "metadata": {},
   "outputs": [],
   "source": [
    "table(is.na(rs316019$GT))"
   ]
  },
  {
   "cell_type": "code",
   "execution_count": null,
   "metadata": {},
   "outputs": [],
   "source": [
    "rs316019_factor <- data.frame(person_id = rs316019[,'person_id'])\n",
    "rs316019_factor$GT <- 'Missing'\n",
    "rs316019_factor$GT[rs316019$GT %in% '0/0'] <- \"0/0\"\n",
    "rs316019_factor$GT[rs316019$GT %in% '0/1'] <- \"0/1\"\n",
    "rs316019_factor$GT[rs316019$GT %in% '1/1'] <- \"1/1\"\n",
    "\n",
    "head(rs316019_factor)"
   ]
  },
  {
   "cell_type": "code",
   "execution_count": null,
   "metadata": {},
   "outputs": [],
   "source": [
    "table(rs316019_factor$GT)"
   ]
  },
  {
   "cell_type": "code",
   "execution_count": null,
   "metadata": {},
   "outputs": [],
   "source": [
    "rs316019_factor$f.rs316019 <- factor(rs316019_factor$GT,\n",
    "                levels = c(\"0/0\", \"0/1\", \"1/1\", \"Missing\"))"
   ]
  },
  {
   "cell_type": "code",
   "execution_count": null,
   "metadata": {},
   "outputs": [],
   "source": [
    "rs316019_factor <- merge(regression_bm, rs316019_factor, by=\"person_id\", all.x = TRUE)\n",
    "head(rs316019_factor)\n",
    "dim(rs316019_factor)"
   ]
  },
  {
   "cell_type": "code",
   "execution_count": null,
   "metadata": {},
   "outputs": [],
   "source": [
    "clogit(Treatment ~ f.sex + f.Race + f.Ethnicity + f.age + Metformin +\n",
    "                Myocardial_Infarction +\n",
    "                Congestive_Heart_Failure + Peripheral_Vascular_Disease +\n",
    "                Cerebrovascular_Disease + Cerebrovascular_Disease + Dementia +\n",
    "                Chronic_Pulmonary_Disease + Rheumatic_Disease + Peptic_Ulcer_Disease +\n",
    "                Liver_Disease_Mild + Liver_Disease_Moderate_Severe +  \n",
    "                Diabetes_without_Chronic_Complications + Diabetes_with_Chronic_Complications + \n",
    "                Hemiplegia_Paraplegia + Renal_Disease_Mild_Moderate + \n",
    "                Renal_Disease_Severe + HIV + Metastatic_Solid_Tumor + Malignancy + AIDS +\n",
    "                f.rs316019 +\n",
    "                strata(stratum), data=rs316019_factor)"
   ]
  },
  {
   "cell_type": "code",
   "execution_count": null,
   "metadata": {},
   "outputs": [],
   "source": [
    "rs316019_clogit <- clogit(Treatment ~ f.sex + f.Race + f.Ethnicity + f.age + Metformin +\n",
    "                Myocardial_Infarction +\n",
    "                Congestive_Heart_Failure + Peripheral_Vascular_Disease +\n",
    "                Cerebrovascular_Disease + Cerebrovascular_Disease + Dementia +\n",
    "                Chronic_Pulmonary_Disease + Rheumatic_Disease + Peptic_Ulcer_Disease +\n",
    "                Liver_Disease_Mild + Liver_Disease_Moderate_Severe +  \n",
    "                Diabetes_without_Chronic_Complications + Diabetes_with_Chronic_Complications + \n",
    "                Hemiplegia_Paraplegia + Renal_Disease_Mild_Moderate + \n",
    "                Renal_Disease_Severe + HIV + Metastatic_Solid_Tumor + Malignancy + AIDS +\n",
    "                f.rs316019 +\n",
    "                strata(stratum), data=rs316019_factor)"
   ]
  },
  {
   "cell_type": "code",
   "execution_count": null,
   "metadata": {},
   "outputs": [],
   "source": [
    "save(rs316019_clogit, file = \"rs316019_clogit_12022023_AG.RData\")"
   ]
  },
  {
   "cell_type": "code",
   "execution_count": null,
   "metadata": {},
   "outputs": [],
   "source": [
    "(summary(rs316019_clogit))$coefficients"
   ]
  },
  {
   "cell_type": "code",
   "execution_count": null,
   "metadata": {},
   "outputs": [],
   "source": [
    "write.csv((summary(rs316019_clogit))$coefficients)"
   ]
  },
  {
   "cell_type": "code",
   "execution_count": null,
   "metadata": {},
   "outputs": [],
   "source": []
  },
  {
   "cell_type": "markdown",
   "metadata": {},
   "source": [
    "# Table 1"
   ]
  },
  {
   "cell_type": "code",
   "execution_count": null,
   "metadata": {},
   "outputs": [],
   "source": [
    "head(regression_bm)\n",
    "dim(regression_bm)"
   ]
  },
  {
   "cell_type": "code",
   "execution_count": null,
   "metadata": {},
   "outputs": [],
   "source": []
  },
  {
   "cell_type": "code",
   "execution_count": null,
   "metadata": {},
   "outputs": [],
   "source": [
    "table(regression_bm$Sex_at_Birth[regression_bm$Treatment == 0])"
   ]
  },
  {
   "cell_type": "code",
   "execution_count": null,
   "metadata": {},
   "outputs": [],
   "source": [
    "prop.table(table(regression_bm$Sex_at_Birth[regression_bm$Treatment == 0]))"
   ]
  },
  {
   "cell_type": "code",
   "execution_count": null,
   "metadata": {},
   "outputs": [],
   "source": [
    "table(regression_bm$Sex_at_Birth[regression_bm$Treatment == 1])\n",
    "prop.table(table(regression_bm$Sex_at_Birth[regression_bm$Treatment == 1]))"
   ]
  },
  {
   "cell_type": "code",
   "execution_count": null,
   "metadata": {},
   "outputs": [],
   "source": [
    "table(regression_bm$Race[regression_bm$Treatment == 0])\n",
    "prop.table(table(regression_bm$Race[regression_bm$Treatment == 0]))"
   ]
  },
  {
   "cell_type": "code",
   "execution_count": null,
   "metadata": {},
   "outputs": [],
   "source": [
    "table(regression_bm$Race[regression_bm$Treatment == 1])\n",
    "prop.table(table(regression_bm$Race[regression_bm$Treatment == 1]))"
   ]
  },
  {
   "cell_type": "code",
   "execution_count": null,
   "metadata": {},
   "outputs": [],
   "source": [
    "table(regression_bm$Hispanic[regression_bm$Treatment == 0])\n",
    "prop.table(table(regression_bm$Hispanic[regression_bm$Treatment == 0]))"
   ]
  },
  {
   "cell_type": "code",
   "execution_count": null,
   "metadata": {},
   "outputs": [],
   "source": [
    "table(regression_bm$Hispanic[regression_bm$Treatment == 1])\n",
    "prop.table(table(regression_bm$Hispanic[regression_bm$Treatment == 1]))"
   ]
  },
  {
   "cell_type": "code",
   "execution_count": null,
   "metadata": {},
   "outputs": [],
   "source": [
    "table(regression_bm$Index_Age_Group[regression_bm$Treatment == 0])\n",
    "prop.table(table(regression_bm$Index_Age_Group[regression_bm$Treatment == 0]))"
   ]
  },
  {
   "cell_type": "code",
   "execution_count": null,
   "metadata": {},
   "outputs": [],
   "source": [
    "median(regression_bm$Index_Age[regression_bm$Treatment ==0])\n",
    "IQR(regression_bm$Index_Age[regression_bm$Treatment ==0])"
   ]
  },
  {
   "cell_type": "code",
   "execution_count": null,
   "metadata": {},
   "outputs": [],
   "source": [
    "quantile(regression_bm$Index_Age[regression_bm$Treatment ==0])"
   ]
  },
  {
   "cell_type": "code",
   "execution_count": null,
   "metadata": {},
   "outputs": [],
   "source": [
    "median(regression_bm$Index_Age[regression_bm$Treatment ==1])\n",
    "IQR(regression_bm$Index_Age[regression_bm$Treatment ==1])"
   ]
  },
  {
   "cell_type": "code",
   "execution_count": null,
   "metadata": {},
   "outputs": [],
   "source": [
    "quantile(regression_bm$Index_Age[regression_bm$Treatment ==1])"
   ]
  },
  {
   "cell_type": "code",
   "execution_count": null,
   "metadata": {},
   "outputs": [],
   "source": [
    "table(regression_bm$Index_Age_Group[regression_bm$Treatment == 1])\n",
    "prop.table(table(regression_bm$Index_Age_Group[regression_bm$Treatment == 1]))"
   ]
  },
  {
   "cell_type": "code",
   "execution_count": null,
   "metadata": {},
   "outputs": [],
   "source": [
    "table(regression_bm$Liver_Disease_Mild[regression_bm$Treatment == 0])\n",
    "prop.table(table(regression_bm$Liver_Disease_Mild[regression_bm$Treatment == 0]))"
   ]
  },
  {
   "cell_type": "code",
   "execution_count": null,
   "metadata": {},
   "outputs": [],
   "source": [
    "table(regression_bm$Liver_Disease_Mild[regression_bm$Treatment == 1])\n",
    "prop.table(table(regression_bm$Liver_Disease_Mild[regression_bm$Treatment == 1]))"
   ]
  },
  {
   "cell_type": "code",
   "execution_count": null,
   "metadata": {},
   "outputs": [],
   "source": [
    "table(regression_bm$Liver_Disease_Moderate_Severe[regression_bm$Treatment == 0])\n",
    "prop.table(table(regression_bm$Liver_Disease_Moderate_Severe[regression_bm$Treatment == 0]))"
   ]
  },
  {
   "cell_type": "code",
   "execution_count": null,
   "metadata": {},
   "outputs": [],
   "source": [
    "table(regression_bm$Liver_Disease_Moderate_Severe[regression_bm$Treatment == 1])\n",
    "prop.table(table(regression_bm$Liver_Disease_Moderate_Severe[regression_bm$Treatment == 1]))"
   ]
  },
  {
   "cell_type": "code",
   "execution_count": null,
   "metadata": {},
   "outputs": [],
   "source": [
    "table(regression_bm$Renal_Disease_Mild_Moderate[regression_bm$Treatment == 0])\n",
    "prop.table(table(regression_bm$Renal_Disease_Mild_Moderate[regression_bm$Treatment == 0]))"
   ]
  },
  {
   "cell_type": "code",
   "execution_count": null,
   "metadata": {},
   "outputs": [],
   "source": [
    "table(regression_bm$Renal_Disease_Mild_Moderate[regression_bm$Treatment == 1])\n",
    "prop.table(table(regression_bm$Renal_Disease_Mild_Moderate[regression_bm$Treatment == 1]))"
   ]
  },
  {
   "cell_type": "code",
   "execution_count": null,
   "metadata": {},
   "outputs": [],
   "source": [
    "table(regression_bm$Renal_Disease_Severe[regression_bm$Treatment == 0])\n",
    "prop.table(table(regression_bm$Renal_Disease_Severe[regression_bm$Treatment == 0]))"
   ]
  },
  {
   "cell_type": "code",
   "execution_count": null,
   "metadata": {},
   "outputs": [],
   "source": [
    "table(regression_bm$Renal_Disease_Severe[regression_bm$Treatment == 1])\n",
    "prop.table(table(regression_bm$Renal_Disease_Severe[regression_bm$Treatment == 1]))"
   ]
  },
  {
   "cell_type": "code",
   "execution_count": null,
   "metadata": {},
   "outputs": [],
   "source": [
    "table(regression_bm$Diabetes_without_Chronic_Complications[regression_bm$Treatment == 0])\n",
    "prop.table(table(regression_bm$Diabetes_without_Chronic_Complications[regression_bm$Treatment == 0]))"
   ]
  },
  {
   "cell_type": "code",
   "execution_count": null,
   "metadata": {},
   "outputs": [],
   "source": [
    "table(regression_bm$Diabetes_without_Chronic_Complications[regression_bm$Treatment == 1])\n",
    "prop.table(table(regression_bm$Diabetes_without_Chronic_Complications[regression_bm$Treatment == 1]))"
   ]
  },
  {
   "cell_type": "code",
   "execution_count": null,
   "metadata": {},
   "outputs": [],
   "source": [
    "table(regression_bm$Diabetes_with_Chronic_Complications[regression_bm$Treatment == 0])\n",
    "prop.table(table(regression_bm$Diabetes_with_Chronic_Complications[regression_bm$Treatment == 0]))"
   ]
  },
  {
   "cell_type": "code",
   "execution_count": null,
   "metadata": {},
   "outputs": [],
   "source": [
    "table(regression_bm$Diabetes_with_Chronic_Complications[regression_bm$Treatment == 1])\n",
    "prop.table(table(regression_bm$Diabetes_with_Chronic_Complications[regression_bm$Treatment == 1]))"
   ]
  },
  {
   "cell_type": "code",
   "execution_count": null,
   "metadata": {},
   "outputs": [],
   "source": [
    "table(regression_bm$Metformin[regression_bm$Treatment == 0])\n",
    "prop.table(table(regression_bm$Metformin[regression_bm$Treatment == 0]))"
   ]
  },
  {
   "cell_type": "code",
   "execution_count": null,
   "metadata": {},
   "outputs": [],
   "source": [
    "table(regression_bm$Metformin[regression_bm$Treatment == 1])\n",
    "prop.table(table(regression_bm$Metformin[regression_bm$Treatment == 1]))"
   ]
  },
  {
   "cell_type": "code",
   "execution_count": null,
   "metadata": {},
   "outputs": [],
   "source": [
    "table(regression_bm$Myocardial_Infarction[regression_bm$Treatment == 0])\n",
    "prop.table(table(regression_bm$Myocardial_Infarction[regression_bm$Treatment == 0]))"
   ]
  },
  {
   "cell_type": "code",
   "execution_count": null,
   "metadata": {},
   "outputs": [],
   "source": [
    "table(regression_bm$Myocardial_Infarction[regression_bm$Treatment == 1])\n",
    "prop.table(table(regression_bm$Myocardial_Infarction[regression_bm$Treatment == 1]))"
   ]
  },
  {
   "cell_type": "code",
   "execution_count": null,
   "metadata": {},
   "outputs": [],
   "source": [
    "table(regression_bm$Congestive_Heart_Failure[regression_bm$Treatment == 0])\n",
    "prop.table(table(regression_bm$Congestive_Heart_Failure[regression_bm$Treatment == 0]))"
   ]
  },
  {
   "cell_type": "code",
   "execution_count": null,
   "metadata": {},
   "outputs": [],
   "source": [
    "table(regression_bm$Congestive_Heart_Failure[regression_bm$Treatment == 1])\n",
    "prop.table(table(regression_bm$Congestive_Heart_Failure[regression_bm$Treatment == 1]))"
   ]
  },
  {
   "cell_type": "code",
   "execution_count": null,
   "metadata": {},
   "outputs": [],
   "source": [
    "table(regression_bm$Peripheral_Vascular_Disease[regression_bm$Treatment == 0])\n",
    "prop.table(table(regression_bm$Peripheral_Vascular_Disease[regression_bm$Treatment == 0]))"
   ]
  },
  {
   "cell_type": "code",
   "execution_count": null,
   "metadata": {},
   "outputs": [],
   "source": [
    "table(regression_bm$Peripheral_Vascular_Disease[regression_bm$Treatment == 1])\n",
    "prop.table(table(regression_bm$Peripheral_Vascular_Disease[regression_bm$Treatment == 1]))"
   ]
  },
  {
   "cell_type": "code",
   "execution_count": null,
   "metadata": {},
   "outputs": [],
   "source": [
    "table(regression_bm$Cerebrovascular_Disease[regression_bm$Treatment == 0])\n",
    "prop.table(table(regression_bm$Cerebrovascular_Disease[regression_bm$Treatment == 0]))"
   ]
  },
  {
   "cell_type": "code",
   "execution_count": null,
   "metadata": {},
   "outputs": [],
   "source": [
    "table(regression_bm$Cerebrovascular_Disease[regression_bm$Treatment == 1])\n",
    "prop.table(table(regression_bm$Cerebrovascular_Disease[regression_bm$Treatment == 1]))"
   ]
  },
  {
   "cell_type": "code",
   "execution_count": null,
   "metadata": {},
   "outputs": [],
   "source": [
    "table(regression_bm$Dementia[regression_bm$Treatment == 0])\n",
    "prop.table(table(regression_bm$Dementia[regression_bm$Treatment == 0]))"
   ]
  },
  {
   "cell_type": "code",
   "execution_count": null,
   "metadata": {},
   "outputs": [],
   "source": [
    "table(regression_bm$Dementia[regression_bm$Treatment == 1])\n",
    "prop.table(table(regression_bm$Dementia[regression_bm$Treatment == 1]))"
   ]
  },
  {
   "cell_type": "code",
   "execution_count": null,
   "metadata": {},
   "outputs": [],
   "source": [
    "table(regression_bm$Chronic_Pulmonary_Disease[regression_bm$Treatment == 0])\n",
    "prop.table(table(regression_bm$Chronic_Pulmonary_Disease[regression_bm$Treatment == 0]))"
   ]
  },
  {
   "cell_type": "code",
   "execution_count": null,
   "metadata": {},
   "outputs": [],
   "source": [
    "table(regression_bm$Chronic_Pulmonary_Disease[regression_bm$Treatment == 1])\n",
    "prop.table(table(regression_bm$Chronic_Pulmonary_Disease[regression_bm$Treatment == 1]))"
   ]
  },
  {
   "cell_type": "code",
   "execution_count": null,
   "metadata": {},
   "outputs": [],
   "source": [
    "table(regression_bm$Rheumatic_Disease[regression_bm$Treatment == 0])\n",
    "prop.table(table(regression_bm$Rheumatic_Disease[regression_bm$Treatment == 0]))"
   ]
  },
  {
   "cell_type": "code",
   "execution_count": null,
   "metadata": {},
   "outputs": [],
   "source": [
    "table(regression_bm$Rheumatic_Disease[regression_bm$Treatment == 1])\n",
    "prop.table(table(regression_bm$Rheumatic_Disease[regression_bm$Treatment == 1]))"
   ]
  },
  {
   "cell_type": "code",
   "execution_count": null,
   "metadata": {},
   "outputs": [],
   "source": [
    "table(regression_bm$Peptic_Ulcer_Disease[regression_bm$Treatment == 0])\n",
    "prop.table(table(regression_bm$Peptic_Ulcer_Disease[regression_bm$Treatment == 0]))"
   ]
  },
  {
   "cell_type": "code",
   "execution_count": null,
   "metadata": {},
   "outputs": [],
   "source": [
    "table(regression_bm$Peptic_Ulcer_Disease[regression_bm$Treatment == 1])\n",
    "prop.table(table(regression_bm$Peptic_Ulcer_Disease[regression_bm$Treatment == 1]))"
   ]
  },
  {
   "cell_type": "code",
   "execution_count": null,
   "metadata": {},
   "outputs": [],
   "source": [
    "table(regression_bm$Hemiplegia_Paraplegia[regression_bm$Treatment == 0])\n",
    "prop.table(table(regression_bm$Hemiplegia_Paraplegia[regression_bm$Treatment == 0]))"
   ]
  },
  {
   "cell_type": "code",
   "execution_count": null,
   "metadata": {},
   "outputs": [],
   "source": [
    "table(regression_bm$Hemiplegia_Paraplegia[regression_bm$Treatment == 1])\n",
    "prop.table(table(regression_bm$Hemiplegia_Paraplegia[regression_bm$Treatment == 1]))"
   ]
  },
  {
   "cell_type": "code",
   "execution_count": null,
   "metadata": {},
   "outputs": [],
   "source": [
    "table(regression_bm$HIV[regression_bm$Treatment == 0])\n",
    "prop.table(table(regression_bm$HIV[regression_bm$Treatment == 0]))"
   ]
  },
  {
   "cell_type": "code",
   "execution_count": null,
   "metadata": {},
   "outputs": [],
   "source": [
    "table(regression_bm$HIV[regression_bm$Treatment == 1])\n",
    "prop.table(table(regression_bm$HIV[regression_bm$Treatment == 1]))"
   ]
  },
  {
   "cell_type": "code",
   "execution_count": null,
   "metadata": {},
   "outputs": [],
   "source": [
    "table(regression_bm$AIDS[regression_bm$Treatment == 0])\n",
    "prop.table(table(regression_bm$AIDS[regression_bm$Treatment == 0]))"
   ]
  },
  {
   "cell_type": "code",
   "execution_count": null,
   "metadata": {},
   "outputs": [],
   "source": [
    "table(regression_bm$AIDS[regression_bm$Treatment == 1])\n",
    "prop.table(table(regression_bm$AIDS[regression_bm$Treatment == 1]))"
   ]
  },
  {
   "cell_type": "code",
   "execution_count": null,
   "metadata": {},
   "outputs": [],
   "source": [
    "table(regression_bm$Metastatic_Solid_Tumor[regression_bm$Treatment == 0])\n",
    "prop.table(table(regression_bm$Metastatic_Solid_Tumor[regression_bm$Treatment == 0]))"
   ]
  },
  {
   "cell_type": "code",
   "execution_count": null,
   "metadata": {},
   "outputs": [],
   "source": [
    "table(regression_bm$Metastatic_Solid_Tumor[regression_bm$Treatment == 1])\n",
    "prop.table(table(regression_bm$Metastatic_Solid_Tumor[regression_bm$Treatment == 1]))"
   ]
  },
  {
   "cell_type": "code",
   "execution_count": null,
   "metadata": {},
   "outputs": [],
   "source": [
    "table(regression_bm$Malignancy[regression_bm$Treatment == 0])\n",
    "prop.table(table(regression_bm$Malignancy[regression_bm$Treatment == 0]))"
   ]
  },
  {
   "cell_type": "code",
   "execution_count": null,
   "metadata": {},
   "outputs": [],
   "source": [
    "table(regression_bm$Malignancy[regression_bm$Treatment == 1])\n",
    "prop.table(table(regression_bm$Malignancy[regression_bm$Treatment == 1]))"
   ]
  },
  {
   "cell_type": "code",
   "execution_count": null,
   "metadata": {},
   "outputs": [],
   "source": [
    "colnames(regression_bm)"
   ]
  },
  {
   "cell_type": "markdown",
   "metadata": {},
   "source": [
    "# Table 1a"
   ]
  },
  {
   "cell_type": "code",
   "execution_count": null,
   "metadata": {},
   "outputs": [],
   "source": [
    "colnames(regression_sdoh)"
   ]
  },
  {
   "cell_type": "code",
   "execution_count": null,
   "metadata": {},
   "outputs": [],
   "source": [
    "regression_sdoh_insu <- merge(regression_sdoh, regression_insu[,c(\"person_id\", \"medcare.merge\", \"medicaid.merge\", \"empl.merge\")], by=\"person_id\", all.x = TRUE)\n",
    "head(regression_sdoh_insu)\n",
    "dim(regression_sdoh_insu)"
   ]
  },
  {
   "cell_type": "code",
   "execution_count": null,
   "metadata": {},
   "outputs": [],
   "source": [
    "# Save regression_sdoh file round 1 --> NO MERGING OF FACTORS\n",
    "# This snippet assumes that you run setup first\n",
    "\n",
    "# This code saves your dataframe into a csv file in a \"data\" folder in Google Bucket\n",
    "\n",
    "# Replace df with THE NAME OF YOUR DATAFRAME\n",
    "my_dataframe <- regression_sdoh_insu\n",
    "\n",
    "# Replace 'test.csv' with THE NAME of the file you're going to store in the bucket (don't delete the quotation marks)\n",
    "destination_filename <- 'regression_sdoh_insu_11112023_AG.fst'\n",
    "\n",
    "########################################################################\n",
    "##\n",
    "################# DON'T CHANGE FROM HERE ###############################\n",
    "##\n",
    "########################################################################\n",
    "\n",
    "# store the dataframe in current workspace\n",
    "write_fst(my_dataframe, destination_filename)\n",
    "\n",
    "# Get the bucket name\n",
    "my_bucket <- Sys.getenv('WORKSPACE_BUCKET')\n",
    "\n",
    "# Copy the file from current workspace to the bucket\n",
    "system(paste0(\"gsutil cp ./\", destination_filename, \" \", my_bucket, \"/data/\"), intern=T)\n",
    "\n",
    "# Check if file is in the bucket\n",
    "system(paste0(\"gsutil ls \", my_bucket, \"/data/*.fst\"), intern=T)"
   ]
  },
  {
   "cell_type": "code",
   "execution_count": null,
   "metadata": {},
   "outputs": [],
   "source": [
    "colnames(regression_sdoh_insu)"
   ]
  },
  {
   "cell_type": "code",
   "execution_count": null,
   "metadata": {},
   "outputs": [],
   "source": [
    "colnames(regression_insu)"
   ]
  },
  {
   "cell_type": "code",
   "execution_count": null,
   "metadata": {},
   "outputs": [],
   "source": [
    "table(regression_insu$empl.merge[regression_insu$Treatment == 0])\n",
    "prop.table(table(regression_insu$empl.merge[regression_insu$Treatment == 0]))"
   ]
  },
  {
   "cell_type": "code",
   "execution_count": null,
   "metadata": {},
   "outputs": [],
   "source": [
    "table(regression_insu$empl.merge[regression_insu$Treatment == 1])\n",
    "prop.table(table(regression_insu$empl.merge[regression_insu$Treatment == 1]))"
   ]
  },
  {
   "cell_type": "code",
   "execution_count": null,
   "metadata": {},
   "outputs": [],
   "source": [
    "table(regression_insu$medcare.merge[regression_insu$Treatment == 0])\n",
    "prop.table(table(regression_insu$medcare.merge[regression_insu$Treatment == 0]))"
   ]
  },
  {
   "cell_type": "code",
   "execution_count": null,
   "metadata": {},
   "outputs": [],
   "source": [
    "table(regression_insu$medcare.merge[regression_insu$Treatment == 1])\n",
    "prop.table(table(regression_insu$medcare.merge[regression_insu$Treatment == 1]))"
   ]
  },
  {
   "cell_type": "code",
   "execution_count": null,
   "metadata": {},
   "outputs": [],
   "source": [
    "table(regression_insu$medicaid.merge[regression_insu$Treatment == 0])\n",
    "prop.table(table(regression_insu$medicaid.merge[regression_insu$Treatment == 0]))"
   ]
  },
  {
   "cell_type": "code",
   "execution_count": null,
   "metadata": {},
   "outputs": [],
   "source": [
    "table(regression_insu$medicaid.merge[regression_insu$Treatment == 1])\n",
    "prop.table(table(regression_insu$medicaid.merge[regression_insu$Treatment == 1]))"
   ]
  },
  {
   "cell_type": "code",
   "execution_count": null,
   "metadata": {},
   "outputs": [],
   "source": [
    "colnames(disa_regression)"
   ]
  },
  {
   "cell_type": "code",
   "execution_count": null,
   "metadata": {},
   "outputs": [],
   "source": [
    "table(disa_regression$f.disa[disa_regression$Treatment == 0])\n",
    "prop.table(table(disa_regression$f.disa[disa_regression$Treatment == 0]))"
   ]
  },
  {
   "cell_type": "code",
   "execution_count": null,
   "metadata": {},
   "outputs": [],
   "source": [
    "table(disa_regression$f.disa[disa_regression$Treatment == 1])\n",
    "prop.table(table(disa_regression$f.disa[disa_regression$Treatment == 1]))"
   ]
  },
  {
   "cell_type": "code",
   "execution_count": null,
   "metadata": {},
   "outputs": [],
   "source": [
    "table(regression_sdoh$f.disability_blind[regression_sdoh$Treatment == 0])\n",
    "prop.table(table(regression_sdoh$f.disability_blind[regression_sdoh$Treatment == 0]))"
   ]
  },
  {
   "cell_type": "code",
   "execution_count": null,
   "metadata": {},
   "outputs": [],
   "source": [
    "table(regression_sdoh$f.disability_blind[regression_sdoh$Treatment == 1])\n",
    "prop.table(table(regression_sdoh$f.disability_blind[regression_sdoh$Treatment == 1]))"
   ]
  },
  {
   "cell_type": "code",
   "execution_count": null,
   "metadata": {},
   "outputs": [],
   "source": [
    "table(regression_sdoh$f.disability_deaf[regression_sdoh$Treatment == 0])\n",
    "prop.table(table(regression_sdoh$f.disability_deaf[regression_sdoh$Treatment == 0]))"
   ]
  },
  {
   "cell_type": "code",
   "execution_count": null,
   "metadata": {},
   "outputs": [],
   "source": [
    "table(regression_sdoh$f.disability_deaf[regression_sdoh$Treatment == 1])\n",
    "prop.table(table(regression_sdoh$f.disability_deaf[regression_sdoh$Treatment == 1]))"
   ]
  },
  {
   "cell_type": "code",
   "execution_count": null,
   "metadata": {},
   "outputs": [],
   "source": [
    "table(regression_sdoh$f.disability_walking_climbing[regression_sdoh$Treatment == 0])\n",
    "prop.table(table(regression_sdoh$f.disability_walking_climbing[regression_sdoh$Treatment == 0]))"
   ]
  },
  {
   "cell_type": "code",
   "execution_count": null,
   "metadata": {},
   "outputs": [],
   "source": [
    "table(regression_sdoh$f.disability_walking_climbing[regression_sdoh$Treatment == 1])\n",
    "prop.table(table(regression_sdoh$f.disability_walking_climbing[regression_sdoh$Treatment == 1]))"
   ]
  },
  {
   "cell_type": "code",
   "execution_count": null,
   "metadata": {},
   "outputs": [],
   "source": [
    "table(regression_sdoh$f.disability_dressing_bathing[regression_sdoh$Treatment == 0])\n",
    "prop.table(table(regression_sdoh$f.disability_dressing_bathing[regression_sdoh$Treatment == 0]))"
   ]
  },
  {
   "cell_type": "code",
   "execution_count": null,
   "metadata": {},
   "outputs": [],
   "source": [
    "table(regression_sdoh$f.disability_dressing_bathing[regression_sdoh$Treatment == 1])\n",
    "prop.table(table(regression_sdoh$f.disability_dressing_bathing[regression_sdoh$Treatment == 1]))"
   ]
  },
  {
   "cell_type": "code",
   "execution_count": null,
   "metadata": {},
   "outputs": [],
   "source": [
    "table(regression_sdoh$f.disability_errands_alone[regression_sdoh$Treatment == 0])\n",
    "prop.table(table(regression_sdoh$f.disability_errands_alone[regression_sdoh$Treatment == 0]))"
   ]
  },
  {
   "cell_type": "code",
   "execution_count": null,
   "metadata": {},
   "outputs": [],
   "source": [
    "table(regression_sdoh$f.disability_errands_alone[regression_sdoh$Treatment == 1])\n",
    "prop.table(table(regression_sdoh$f.disability_errands_alone[regression_sdoh$Treatment == 1]))"
   ]
  },
  {
   "cell_type": "code",
   "execution_count": null,
   "metadata": {},
   "outputs": [],
   "source": [
    "table(regression_sdoh$f.disability_concentrating[regression_sdoh$Treatment == 0])\n",
    "prop.table(table(regression_sdoh$f.disability_concentrating[regression_sdoh$Treatment == 0]))"
   ]
  },
  {
   "cell_type": "code",
   "execution_count": null,
   "metadata": {},
   "outputs": [],
   "source": [
    "table(regression_sdoh$f.disability_concentrating[regression_sdoh$Treatment == 1])\n",
    "prop.table(table(regression_sdoh$f.disability_concentrating[regression_sdoh$Treatment == 1]))"
   ]
  },
  {
   "cell_type": "code",
   "execution_count": null,
   "metadata": {},
   "outputs": [],
   "source": [
    "table(regression_sdoh2$f.employment[regression_sdoh2$Treatment == 0])\n",
    "prop.table(table(regression_sdoh2$f.employment[regression_sdoh2$Treatment == 0]))"
   ]
  },
  {
   "cell_type": "code",
   "execution_count": null,
   "metadata": {},
   "outputs": [],
   "source": [
    "table(regression_sdoh2$f.employment[regression_sdoh2$Treatment == 1])\n",
    "prop.table(table(regression_sdoh2$f.employment[regression_sdoh2$Treatment == 1]))"
   ]
  },
  {
   "cell_type": "code",
   "execution_count": null,
   "metadata": {},
   "outputs": [],
   "source": [
    "table(regression_sdoh2$f.income[regression_sdoh2$Treatment == 0])\n",
    "prop.table(table(regression_sdoh2$f.income[regression_sdoh2$Treatment == 0]))"
   ]
  },
  {
   "cell_type": "code",
   "execution_count": null,
   "metadata": {},
   "outputs": [],
   "source": [
    "table(regression_sdoh2$f.income[regression_sdoh2$Treatment == 1])\n",
    "prop.table(table(regression_sdoh2$f.income[regression_sdoh2$Treatment == 1]))"
   ]
  },
  {
   "cell_type": "code",
   "execution_count": null,
   "metadata": {},
   "outputs": [],
   "source": [
    "colnames(regression_sdoh2)"
   ]
  },
  {
   "cell_type": "code",
   "execution_count": null,
   "metadata": {},
   "outputs": [],
   "source": [
    "table(regression_sdoh2$f.housing[regression_sdoh2$Treatment == 0])\n",
    "prop.table(table(regression_sdoh2$f.housing[regression_sdoh2$Treatment == 0]))"
   ]
  },
  {
   "cell_type": "code",
   "execution_count": null,
   "metadata": {},
   "outputs": [],
   "source": [
    "table(regression_sdoh2$f.housing[regression_sdoh2$Treatment == 1])\n",
    "prop.table(table(regression_sdoh2$f.housing[regression_sdoh2$Treatment == 1]))"
   ]
  },
  {
   "cell_type": "code",
   "execution_count": null,
   "metadata": {},
   "outputs": [],
   "source": [
    "table(regression_sdoh2$f.stable_house[regression_sdoh2$Treatment == 0])\n",
    "prop.table(table(regression_sdoh2$f.stable_house[regression_sdoh2$Treatment == 0]))"
   ]
  },
  {
   "cell_type": "code",
   "execution_count": null,
   "metadata": {},
   "outputs": [],
   "source": [
    "table(regression_sdoh2$f.stable_house[regression_sdoh2$Treatment == 1])\n",
    "prop.table(table(regression_sdoh2$f.stable_house[regression_sdoh2$Treatment == 1]))"
   ]
  },
  {
   "cell_type": "code",
   "execution_count": null,
   "metadata": {},
   "outputs": [],
   "source": [
    "table(regression_sdoh2$f.education[regression_sdoh2$Treatment == 0])\n",
    "prop.table(table(regression_sdoh2$f.education[regression_sdoh2$Treatment == 0]))"
   ]
  },
  {
   "cell_type": "code",
   "execution_count": null,
   "metadata": {},
   "outputs": [],
   "source": [
    "table(regression_sdoh2$f.education[regression_sdoh2$Treatment == 1])\n",
    "prop.table(table(regression_sdoh2$f.education[regression_sdoh2$Treatment == 1]))"
   ]
  },
  {
   "cell_type": "code",
   "execution_count": null,
   "metadata": {},
   "outputs": [],
   "source": []
  },
  {
   "cell_type": "code",
   "execution_count": null,
   "metadata": {},
   "outputs": [],
   "source": []
  },
  {
   "cell_type": "code",
   "execution_count": null,
   "metadata": {},
   "outputs": [],
   "source": []
  },
  {
   "cell_type": "code",
   "execution_count": null,
   "metadata": {},
   "outputs": [],
   "source": []
  },
  {
   "cell_type": "code",
   "execution_count": null,
   "metadata": {},
   "outputs": [],
   "source": []
  },
  {
   "cell_type": "code",
   "execution_count": null,
   "metadata": {},
   "outputs": [],
   "source": []
  },
  {
   "cell_type": "code",
   "execution_count": null,
   "metadata": {},
   "outputs": [],
   "source": []
  },
  {
   "cell_type": "code",
   "execution_count": null,
   "metadata": {},
   "outputs": [],
   "source": []
  },
  {
   "cell_type": "code",
   "execution_count": null,
   "metadata": {},
   "outputs": [],
   "source": []
  },
  {
   "cell_type": "code",
   "execution_count": null,
   "metadata": {},
   "outputs": [],
   "source": []
  },
  {
   "cell_type": "code",
   "execution_count": null,
   "metadata": {},
   "outputs": [],
   "source": []
  },
  {
   "cell_type": "code",
   "execution_count": null,
   "metadata": {},
   "outputs": [],
   "source": []
  }
 ],
 "metadata": {
  "kernelspec": {
   "display_name": "R",
   "language": "R",
   "name": "ir"
  },
  "language_info": {
   "codemirror_mode": "r",
   "file_extension": ".r",
   "mimetype": "text/x-r-source",
   "name": "R",
   "pygments_lexer": "r",
   "version": "4.3.1"
  },
  "toc": {
   "base_numbering": 1,
   "nav_menu": {},
   "number_sections": true,
   "sideBar": true,
   "skip_h1_title": false,
   "title_cell": "Table of Contents",
   "title_sidebar": "Contents",
   "toc_cell": false,
   "toc_position": {},
   "toc_section_display": true,
   "toc_window_display": true
  }
 },
 "nbformat": 4,
 "nbformat_minor": 2
}
