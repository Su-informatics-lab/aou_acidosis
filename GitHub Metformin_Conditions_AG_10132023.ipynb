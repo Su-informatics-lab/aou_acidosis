{
 "cells": [
  {
   "cell_type": "markdown",
   "metadata": {},
   "source": [
    "# Import Packages/Codes"
   ]
  },
  {
   "cell_type": "code",
   "execution_count": null,
   "metadata": {},
   "outputs": [],
   "source": [
    "%load_ext google.cloud.bigquery\n",
    "from datetime import date\n",
    "import numpy as np\n",
    "import pandas as pd\n",
    "import matplotlib as mpl\n",
    "import seaborn as sns\n",
    "import matplotlib.pyplot as plt\n",
    "from datetime import datetime\n",
    "import dateutil\n",
    "from IPython.display import display, HTML\n",
    "import os\n",
    "import subprocess"
   ]
  },
  {
   "cell_type": "code",
   "execution_count": null,
   "metadata": {},
   "outputs": [],
   "source": [
    "dataset = os.getenv(\"WORKSPACE_CDR\")\n",
    "dataset"
   ]
  },
  {
   "cell_type": "code",
   "execution_count": null,
   "metadata": {},
   "outputs": [],
   "source": [
    "cwd = os.getcwd()\n",
    "cwd"
   ]
  },
  {
   "cell_type": "markdown",
   "metadata": {},
   "source": [
    "# Build Acidosis Cohort"
   ]
  },
  {
   "cell_type": "markdown",
   "metadata": {},
   "source": [
    "## Obtain data"
   ]
  },
  {
   "cell_type": "code",
   "execution_count": null,
   "metadata": {},
   "outputs": [],
   "source": [
    "# Find the ICD condition codes for acidosis \n",
    "#Acidosis\n",
    "acidosis = {'9': ['276.2'], \n",
    "       '10': ['E87.2']}"
   ]
  },
  {
   "cell_type": "code",
   "execution_count": null,
   "metadata": {},
   "outputs": [],
   "source": [
    "# Obtain demographics data"
   ]
  },
  {
   "cell_type": "code",
   "execution_count": null,
   "metadata": {},
   "outputs": [],
   "source": [
    "# This snippet assumes you run setup first\n",
    "\n",
    "# This code copies file in your Google Bucket and loads it into a dataframe\n",
    "\n",
    "# Replace 'test.csv' with THE NAME of the file you're going to download from the bucket (don't delete the quotation marks)\n",
    "name_of_file_in_bucket = 'demographic_all.csv'\n",
    "\n",
    "########################################################################\n",
    "##\n",
    "################# DON'T CHANGE FROM HERE ###############################\n",
    "##\n",
    "########################################################################\n",
    "\n",
    "# get the bucket name\n",
    "my_bucket = os.getenv('WORKSPACE_BUCKET')\n",
    "\n",
    "# copy csv file from the bucket to the current working space\n",
    "os.system(f\"gsutil cp '{my_bucket}/data/{name_of_file_in_bucket}' .\")\n",
    "\n",
    "print(f'[INFO] {name_of_file_in_bucket} is successfully downloaded into your working space')\n",
    "# save dataframe in a csv file in the same workspace as the notebook\n",
    "demo_patients = pd.read_csv(name_of_file_in_bucket)\n",
    "demo_patients"
   ]
  },
  {
   "cell_type": "code",
   "execution_count": null,
   "metadata": {},
   "outputs": [],
   "source": [
    "# Obtain medication data"
   ]
  },
  {
   "cell_type": "code",
   "execution_count": null,
   "metadata": {},
   "outputs": [],
   "source": [
    "# This snippet assumes you run setup first\n",
    "\n",
    "# This code copies file in your Google Bucket and loads it into a dataframe\n",
    "\n",
    "# Replace 'test.csv' with THE NAME of the file you're going to download from the bucket (don't delete the quotation marks)\n",
    "name_of_file_in_bucket = 'Metformin_Medication_AG_10122023.csv'\n",
    "\n",
    "########################################################################\n",
    "##\n",
    "################# DON'T CHANGE FROM HERE ###############################\n",
    "##\n",
    "########################################################################\n",
    "\n",
    "# get the bucket name\n",
    "my_bucket = os.getenv('WORKSPACE_BUCKET')\n",
    "\n",
    "# copy csv file from the bucket to the current working space\n",
    "os.system(f\"gsutil cp '{my_bucket}/data/{name_of_file_in_bucket}' .\")\n",
    "\n",
    "print(f'[INFO] {name_of_file_in_bucket} is successfully downloaded into your working space')\n",
    "# save dataframe in a csv file in the same workspace as the notebook\n",
    "df_med = pd.read_csv(name_of_file_in_bucket)\n",
    "df_med"
   ]
  },
  {
   "cell_type": "code",
   "execution_count": null,
   "metadata": {},
   "outputs": [],
   "source": [
    "df_med['person_id'].nunique()"
   ]
  },
  {
   "cell_type": "markdown",
   "metadata": {},
   "source": [
    "## Construct Where Statement (SQL, matching ICD codes)"
   ]
  },
  {
   "cell_type": "code",
   "execution_count": null,
   "metadata": {},
   "outputs": [],
   "source": [
    "# ICD and diag code for Where statement\n",
    "def where_sub_sql(codes_dict, num):\n",
    "    sub_where = \"((\"   \n",
    "    # get the diag LIKE ... OR diag LIKE ...\n",
    "    for i, code in enumerate(list(codes_dict[num])):\n",
    "        if i != 0: # Skip adding \"OR\" in the first code\n",
    "            sub_where += \"OR \"\n",
    "        sub_where += f\"concept_code LIKE '{code}%' \"\n",
    "    sub_where += f\") AND vocabulary_id = 'ICD{num}CM'\"\n",
    "    sub_where += \")\"\n",
    "    return sub_where"
   ]
  },
  {
   "cell_type": "code",
   "execution_count": null,
   "metadata": {},
   "outputs": [],
   "source": [
    "# get the where condition for the codes_dict\n",
    "def where_sql(codes_dict):\n",
    "    # get the sub where condition when icd_flag = '9'\n",
    "    where_sql = where_sub_sql(codes_dict, '9')\n",
    "    where_sql += \" OR \"\n",
    "    # get the sub where condition when icd_flag = '10'\n",
    "    where_sql += where_sub_sql(codes_dict, '10')\n",
    "    where_sql += \")\"\n",
    "    return where_sql"
   ]
  },
  {
   "cell_type": "code",
   "execution_count": null,
   "metadata": {},
   "outputs": [],
   "source": [
    "where_condition = where_sql(acidosis)\n",
    "print(where_condition)"
   ]
  },
  {
   "cell_type": "markdown",
   "metadata": {},
   "source": [
    "## 2.3. Function to Query Patients by ICD 9&10 Major Type"
   ]
  },
  {
   "cell_type": "code",
   "execution_count": null,
   "metadata": {},
   "outputs": [],
   "source": [
    "#Query person ids and condition start dates by specific ICD 9&10 diagnosis codes.\n",
    "def query_by_icd(where_statement):  \n",
    "    query = (\"\"\"\n",
    "                SELECT distinct person_id, condition_start_date as date, concept_code, vocabulary_id  \n",
    "                FROM \n",
    "                    (SELECT DISTINCT person_id, condition_source_concept_id, condition_source_value, condition_start_date\n",
    "                        FROM `\"\"\"+dataset+\"\"\".condition_occurrence`) AS cond \n",
    "                     INNER JOIN \n",
    "                        (SELECT DISTINCT concept_id, concept_name, concept_code, vocabulary_id \n",
    "                            FROM `\"\"\"+dataset+\"\"\".concept` \n",
    "                            where \"\"\"+where_statement+\"\"\" as concept\n",
    "                            on concept.concept_id = cond.condition_source_concept_id\n",
    "    \"\"\")\n",
    "    df_condition= pd.read_gbq(query, dialect=\"standard\")\n",
    "    return df_condition"
   ]
  },
  {
   "cell_type": "code",
   "execution_count": null,
   "metadata": {},
   "outputs": [],
   "source": [
    "df_diagnostic_condition = query_by_icd(where_condition)\n",
    "df_diagnostic_condition"
   ]
  },
  {
   "cell_type": "code",
   "execution_count": null,
   "metadata": {},
   "outputs": [],
   "source": [
    "# Only see records in ICD 9 vocabulary\n",
    "df_diagnostic_condition[df_diagnostic_condition['vocabulary_id'] == 'ICD9CM']"
   ]
  },
  {
   "cell_type": "code",
   "execution_count": null,
   "metadata": {},
   "outputs": [],
   "source": [
    "# Only see records in ICD 10 vocabulary\n",
    "df_diagnostic_condition[df_diagnostic_condition['vocabulary_id'] == 'ICD10CM']"
   ]
  },
  {
   "cell_type": "markdown",
   "metadata": {},
   "source": [
    "## 2.4. Function to Sort Unique Patients by the Earliest Date"
   ]
  },
  {
   "cell_type": "code",
   "execution_count": null,
   "metadata": {},
   "outputs": [],
   "source": [
    "#Sort unique person ids by their earliset condition date.\n",
    "def sort_unique_by_min_date(df): \n",
    "    min_dates_diags = df.sort_values([\"person_id\",\"date\"]).groupby(\"person_id\", as_index=False).first()\n",
    "    return min_dates_diags"
   ]
  },
  {
   "cell_type": "code",
   "execution_count": null,
   "metadata": {},
   "outputs": [],
   "source": [
    "min_dates_diags = sort_unique_by_min_date(df_diagnostic_condition)\n",
    "min_dates_diags"
   ]
  },
  {
   "cell_type": "markdown",
   "metadata": {},
   "source": [
    "# Construct Final dataset"
   ]
  },
  {
   "cell_type": "code",
   "execution_count": null,
   "metadata": {},
   "outputs": [],
   "source": [
    "min_dates_diags = pd.merge(min_dates_diags, demo_patients, on =\"person_id\")\n",
    "min_dates_diags"
   ]
  },
  {
   "cell_type": "code",
   "execution_count": null,
   "metadata": {},
   "outputs": [],
   "source": [
    "# Filter patients who used metformin drugs\n",
    "min_dates_diags = pd.merge(min_dates_diags, df_med, on =\"person_id\", how='inner')\n",
    "min_dates_diags"
   ]
  },
  {
   "cell_type": "code",
   "execution_count": null,
   "metadata": {},
   "outputs": [],
   "source": [
    "min_dates_diags['person_id'].nunique()"
   ]
  },
  {
   "cell_type": "code",
   "execution_count": null,
   "metadata": {},
   "outputs": [],
   "source": [
    "metformin_acidosis_AG_10132023 = min_dates_diags.drop_duplicates(subset='person_id',keep='first')\n",
    "metformin_acidosis_AG_10132023"
   ]
  },
  {
   "cell_type": "code",
   "execution_count": null,
   "metadata": {},
   "outputs": [],
   "source": [
    "metformin_acidosis_AG_10132023 = metformin_acidosis_AG_10132023.reset_index(drop=True)\n",
    "metformin_acidosis_AG_10132023"
   ]
  },
  {
   "cell_type": "code",
   "execution_count": null,
   "metadata": {},
   "outputs": [],
   "source": [
    "# Upload dataset to Google Bucket"
   ]
  },
  {
   "cell_type": "code",
   "execution_count": null,
   "metadata": {},
   "outputs": [],
   "source": [
    "# This snippet assumes you run setup first\n",
    "\n",
    "# This code saves your dataframe into a csv file in a \"data\" folder in Google Bucket\n",
    "\n",
    "# Replace df with THE NAME OF YOUR DATAFRAME\n",
    "my_dataframe = metformin_acidosis_AG_10132023   \n",
    "\n",
    "# Replace 'test.csv' with THE NAME of the file you're going to store in the bucket (don't delete the quotation marks)\n",
    "destination_filename = 'metformin_acidosis_AG_10132023.csv'\n",
    "\n",
    "########################################################################\n",
    "##\n",
    "################# DON'T CHANGE FROM HERE ###############################\n",
    "##\n",
    "########################################################################\n",
    "\n",
    "# save dataframe in a csv file in the same workspace as the notebook\n",
    "my_dataframe.to_csv(destination_filename, index=False)\n",
    "\n",
    "# get the bucket name\n",
    "my_bucket = os.getenv('WORKSPACE_BUCKET')\n",
    "\n",
    "# copy csv file to the bucket\n",
    "args = [\"gsutil\", \"cp\", f\"./{destination_filename}\", f\"{my_bucket}/data/\"]\n",
    "output = subprocess.run(args, capture_output=True)\n",
    "\n",
    "# print output from gsutil\n",
    "output.stderr"
   ]
  },
  {
   "cell_type": "code",
   "execution_count": null,
   "metadata": {},
   "outputs": [],
   "source": [
    "# This snippet assumes that you run setup first\n",
    "\n",
    "# This code lists objects in your Google Bucket\n",
    "\n",
    "# Get the bucket name\n",
    "my_bucket = os.getenv('WORKSPACE_BUCKET')\n",
    "\n",
    "# List objects in the bucket\n",
    "print(subprocess.check_output(f\"gsutil ls -r {my_bucket}\", shell=True).decode('utf-8'))"
   ]
  },
  {
   "cell_type": "markdown",
   "metadata": {},
   "source": [
    "# Visualizations"
   ]
  },
  {
   "cell_type": "markdown",
   "metadata": {},
   "source": [
    "## Clean data"
   ]
  },
  {
   "cell_type": "code",
   "execution_count": null,
   "metadata": {},
   "outputs": [],
   "source": [
    "cleaned_demo = metformin_acidosis_AG_10132023[['person_id','year_of_birth','gender_source_value','sex_at_birth_source_value','race_source_value', 'ethnicity_source_value']]\n",
    "\n",
    "\n",
    "cleaned_demo = cleaned_demo.rename(columns={'person_id':\"Count\",\n",
    "                                            'year_of_birth':\"Age\",\n",
    "                                            'gender_source_value': \"Gender\",\n",
    "                                            'sex_at_birth_source_value':\"Sex at Birth\",\n",
    "                                            'race_source_value':\"Race\",\n",
    "                                            'ethnicity_source_value':\"Hispanic\"})\n",
    "\n",
    "\n",
    "for row in (range(cleaned_demo.shape[0])):\n",
    "    for col in (range(cleaned_demo.shape[1])):\n",
    "        if cleaned_demo.iloc[row,col] == \"PMI_Skip\":\n",
    "            cleaned_demo.iloc[row,col] = \"Skip\"\n",
    "        if cleaned_demo.iloc[row,col] in [\"PMI_PreferNotToAnswer\",\n",
    "                                          \"SexAtBirth_Intersex\",\n",
    "                                          \"SexAtBirth_SexAtBirthNoneOfThese\",\n",
    "                                          \"No matching concept\",\n",
    "                                          \"GenderIdentity_AdditionalOptions\",\n",
    "                                          \"GenderIdentity_GeneralizedDiffGender\",\n",
    "                                          \"GenderIdentity_NonBinary\",\n",
    "                                          \"GenderIdentity_Transgender\"]:\n",
    "            cleaned_demo.iloc[row,col] = \"Unspecified\"\n",
    "\n",
    "\n",
    "for x in range(len(cleaned_demo)):\n",
    "    birth_year = cleaned_demo.at[x,'Age']\n",
    "    cleaned_demo.at[x,'Age'] = date.today().year - birth_year\n",
    "\n",
    "bins = [0,29,49,69,89,1000]\n",
    "labels = ['0-29','30-49','50-69','70-89','90+']\n",
    "cleaned_demo['Age Group'] = pd.cut(cleaned_demo['Age'], bins=bins, labels=labels, right=False)"
   ]
  },
  {
   "cell_type": "code",
   "execution_count": null,
   "metadata": {},
   "outputs": [],
   "source": [
    "cleaned_demo"
   ]
  },
  {
   "cell_type": "markdown",
   "metadata": {},
   "source": [
    "## Sex at Birth & Gender IdentityNew heading"
   ]
  },
  {
   "cell_type": "code",
   "execution_count": null,
   "metadata": {},
   "outputs": [],
   "source": [
    "count_sex_gr = cleaned_demo[['Count','Sex at Birth']].groupby(['Sex at Birth'], as_index=False).count()\n",
    "count_sex_gr['%'] = 100 * count_sex_gr['Count'] / len(cleaned_demo)\n",
    "display(count_sex_gr)\n",
    "\n",
    "fig1, ax1 = plt.subplots()\n",
    "ax1.pie(cleaned_demo['Sex at Birth'].value_counts(), labels=['SexAtBirth_Female','SexAtBirth_Male','Unspecified','Skip'], \n",
    "        autopct='%1.1f%%', startangle=90, pctdistance=0.5)\n",
    "ax1.axis('equal')\n",
    "fig = plt.gcf().gca().add_artist(plt.Circle((0,0),0.70,fc='white'))\n",
    "plt.tight_layout()\n",
    "#rcParams['figure.figsize'] = (10,10)\n",
    "plt.show()"
   ]
  },
  {
   "cell_type": "code",
   "execution_count": null,
   "metadata": {},
   "outputs": [],
   "source": [
    "count_gender_gr = cleaned_demo[['Count','Gender']].groupby(['Gender'], as_index=False).count()\n",
    "count_gender_gr['%'] = 100 * count_gender_gr['Count'] / len(cleaned_demo)\n",
    "display(count_gender_gr)\n",
    "\n",
    "fig1, ax1 = plt.subplots()\n",
    "ax1.pie(cleaned_demo['Gender'].value_counts(), labels=['GenderIdentity_Woman','GenderIdentity_Man','Unspecified','Skip'], \n",
    "        autopct='%1.1f%%', startangle=90, pctdistance=0.5)\n",
    "ax1.axis('equal')\n",
    "fig = plt.gcf().gca().add_artist(plt.Circle((0,0),0.70,fc='white'))\n",
    "plt.tight_layout()\n",
    "#rcParams['figure.figsize'] = (10,10)\n",
    "plt.show()"
   ]
  },
  {
   "cell_type": "markdown",
   "metadata": {},
   "source": [
    "## Race and Ancestry"
   ]
  },
  {
   "cell_type": "code",
   "execution_count": null,
   "metadata": {},
   "outputs": [],
   "source": [
    "count_race_gr = cleaned_demo[['Count','Race']].groupby(['Race'], as_index=False).count()\n",
    "count_race_gr['%'] = 100 * count_race_gr['Count'] / len(cleaned_demo)\n",
    "display(count_race_gr)\n",
    "\n",
    "sns.barplot(x='Count', y='Race',data=cleaned_demo[['Count','Race']].groupby(['Race'], as_index=False).count());"
   ]
  },
  {
   "cell_type": "markdown",
   "metadata": {},
   "source": [
    "## Ethnicity"
   ]
  },
  {
   "cell_type": "code",
   "execution_count": null,
   "metadata": {},
   "outputs": [],
   "source": [
    "count_eth_gr = cleaned_demo[['Count','Hispanic']].groupby(['Hispanic'], as_index=False).count()\n",
    "count_eth_gr['%'] = 100 * count_eth_gr['Count'] / len(cleaned_demo)\n",
    "display(count_eth_gr)\n",
    "\n",
    "fig1, ax1 = plt.subplots()\n",
    "ax1.pie(cleaned_demo['Hispanic'].value_counts(),  #labels=['Not HLS','Hispanic, Latino, or Spanish', 'Skip', 'None of These', 'Prefer not to Answer'],\n",
    "        autopct='%1.1f%%', startangle=0, pctdistance=0.5)\n",
    "ax1.axis('equal')\n",
    "fig = plt.gcf().gca().add_artist(plt.Circle((0,0),0.70,fc='white'))\n",
    "plt.tight_layout()\n",
    "#rcParams['figure.figsize'] = (10,10)\n",
    "plt.show();"
   ]
  },
  {
   "cell_type": "markdown",
   "metadata": {},
   "source": [
    "## Age Distribution"
   ]
  },
  {
   "cell_type": "code",
   "execution_count": null,
   "metadata": {},
   "outputs": [],
   "source": [
    "count_age_gr = cleaned_demo[['Count','Age Group']].groupby(['Age Group'], as_index=False).count()\n",
    "count_age_gr['%'] = 100 * count_age_gr['Count'] / len(cleaned_demo)\n",
    "display(count_age_gr)\n",
    "\n",
    "\n",
    "#rcParams['figure.figsize'] = (20,10)\n",
    "sns.histplot(cleaned_demo['Age']);\n",
    "\n",
    "summary = cleaned_demo.groupby('Age Group')['Age'].describe()[['min', '25%', '50%', '75%', 'max']]\n",
    "summary"
   ]
  }
 ],
 "metadata": {
  "kernelspec": {
   "display_name": "Python 3",
   "language": "python",
   "name": "python3"
  },
  "language_info": {
   "codemirror_mode": {
    "name": "ipython",
    "version": 3
   },
   "file_extension": ".py",
   "mimetype": "text/x-python",
   "name": "python",
   "nbconvert_exporter": "python",
   "pygments_lexer": "ipython3",
   "version": "3.10.12"
  },
  "toc": {
   "base_numbering": 1,
   "nav_menu": {},
   "number_sections": true,
   "sideBar": true,
   "skip_h1_title": false,
   "title_cell": "Table of Contents",
   "title_sidebar": "Contents",
   "toc_cell": false,
   "toc_position": {},
   "toc_section_display": true,
   "toc_window_display": true
  }
 },
 "nbformat": 4,
 "nbformat_minor": 2
}
